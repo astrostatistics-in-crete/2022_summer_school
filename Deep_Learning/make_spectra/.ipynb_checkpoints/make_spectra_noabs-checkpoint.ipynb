{
 "cells": [
  {
   "cell_type": "markdown",
   "metadata": {},
   "source": [
    "# Make Spectra"
   ]
  },
  {
   "cell_type": "code",
   "execution_count": 1,
   "metadata": {},
   "outputs": [],
   "source": [
    "# BB model:\n",
    "#   https://docs.astropy.org/en/stable/api/astropy.modeling.physical_models.BlackBody.html\n",
    "import numpy as np\n",
    "import matplotlib.pyplot as plt\n",
    "import random \n",
    "import sys\n",
    "import pickle\n",
    "\n",
    "from astropy.modeling.models import BlackBody\n",
    "from astropy import units as u\n",
    "from astropy.visualization import quantity_support"
   ]
  },
  {
   "cell_type": "code",
   "execution_count": 12,
   "metadata": {},
   "outputs": [
    {
     "name": "stdout",
     "output_type": "stream",
     "text": [
      "Folder spectra_noabs created.\n"
     ]
    }
   ],
   "source": [
    "import os\n",
    "from pathlib import Path\n",
    "\n",
    "script_path = str(Path().absolute())\n",
    "\n",
    "path_spectra = script_path+\"/spectra_noabs\"\n",
    "\n",
    "if not os.path.exists(path_spectra):\n",
    "    os.makedirs(path_spectra)\n",
    "    print('Folder',os.path.basename(path_spectra),'created.')"
   ]
  },
  {
   "cell_type": "code",
   "execution_count": 3,
   "metadata": {},
   "outputs": [],
   "source": [
    "def make_spectrum(T_star=6000, N_star=1e-6, T_dust=500, N_dust=1, display=True, save=True):\n",
    "\n",
    "    param_set = locals()\n",
    "    del param_set['display']\n",
    "    del param_set['save']\n",
    "    # dictionary of input args\n",
    "\n",
    "    spectrum_root_name = \"spectrum_\" + (\"_\".join(\n",
    "        [param+'_'+str(value) for (param, value) in param_set.items()])\n",
    "    )\n",
    "    \n",
    "    sr = 1e-10\n",
    "    # steradiants to convert to flux density\n",
    "    random.seed(42)\n",
    "\n",
    "    bb_star = BlackBody(temperature=T_star*u.K, scale=N_star)\n",
    "    bb_dust = BlackBody(temperature=T_dust*u.K, scale=N_dust)\n",
    "    wave = np.logspace(3, 7, num=100) * u.AA\n",
    "\n",
    "    # Multiplying by sterad to get flux density:\n",
    "    flux_star = bb_star(wave) * sr*u.sr\n",
    "    flux_dust = bb_dust(wave) * sr*u.sr\n",
    "    flux = flux_star + flux_dust\n",
    "\n",
    "    # Modulating with noise:\n",
    "    flux_star_n = flux_star*np.random.uniform(0.5, 1.5, len(flux_star))\n",
    "    flux_dust_n = flux_dust*np.random.uniform(0.5, 1.5, len(flux_dust))\n",
    "    flux_n      = flux_star_n + flux_dust_n\n",
    "\n",
    "    # Converting units:\n",
    "    wave_mu = (wave).to(u.um)\n",
    "    flux_star_n_Jy = (flux_star_n).to(u.Jy)\n",
    "    flux_dust_n_Jy = (flux_dust_n).to(u.Jy)\n",
    "    flux_n_Jy      = (flux_n).to(u.Jy)\n",
    "\n",
    "    if display == True:\n",
    "        with quantity_support():\n",
    "            plt.figure(figsize=(6,3))\n",
    "            plt.plot(wave_mu, flux_star_n_Jy, ls='--', c='royalblue',\n",
    "                     label=str('%4s: N=%-6.0e | T=%sK' % (\"star\", N_star, T_star)))\n",
    "            plt.plot(wave_mu, flux_dust_n_Jy, ls='--', c='tomato' ,\n",
    "                     label=str('%4s: N=%-6.0e | T=%sK' % (\"dust\", N_dust, T_dust)))\n",
    "            plt.plot(wave_mu, flux_n_Jy, c = 'mediumseagreen',label='total')\n",
    "            plt.xscale('log')\n",
    "            plt.yscale('log')\n",
    "            plt.legend(loc='upper center', bbox_to_anchor=(0.5, 1.15),\n",
    "                       ncol=2, fancybox=True, shadow=True)            \n",
    "            plt.ylim([1e-2, 1e7])\n",
    "            plt.savefig(path_spectra+'/'+spectrum_root_name+'.png')\n",
    "            plt.show()\n",
    "    \n",
    "    spectrum = {\"data\": {\"wave_mu\": np.array(wave_mu),\n",
    "                         \"flux_Jy\": np.array(flux_n_Jy),\n",
    "                         \"flux_star_Jy\": np.array(flux_star_n_Jy),\n",
    "                         \"flux_dust_Jy\": np.array(flux_dust_n_Jy)}\n",
    "               }\n",
    "    \n",
    "    spectrum.update({\"metadata\": param_set})\n",
    "\n",
    "    if display == True:\n",
    "        print('Spectrum size [byte]:', sys.getsizeof(spectrum))\n",
    "    \n",
    "    if save:\n",
    "        with open(path_spectra+'/'+spectrum_root_name+'.pkl', 'wb') as fh:\n",
    "            pickle.dump(spectrum, fh, protocol=pickle.HIGHEST_PROTOCOL)\n",
    "\n",
    "    # Load as:\n",
    "    #with open(path_spectra+'/'+spectrum_root_name+'.pkl', 'rb') as fh:\n",
    "    #    spectrum = pickle.load(fh)\n",
    "    \n",
    "    return spectrum"
   ]
  },
  {
   "cell_type": "code",
   "execution_count": 4,
   "metadata": {
    "scrolled": false
   },
   "outputs": [
    {
     "data": {
      "image/png": "[encoded data removed]",
      "text/plain": [
       "<Figure size 432x216 with 1 Axes>"
      ]
     },
     "metadata": {
      "needs_background": "light"
     },
     "output_type": "display_data"
    },
    {
     "name": "stdout",
     "output_type": "stream",
     "text": [
      "Spectrum size [byte]: 232\n"
     ]
    }
   ],
   "source": [
    "spectrum = make_spectrum(save=False)"
   ]
  },
  {
   "cell_type": "code",
   "execution_count": 36,
   "metadata": {
    "scrolled": false
   },
   "outputs": [
    {
     "ename": "ValueError",
     "evalue": "Domain error in arguments.",
     "output_type": "error",
     "traceback": [
      "\u001b[0;31m---------------------------------------------------------------------------\u001b[0m",
      "\u001b[0;31mValueError\u001b[0m                                Traceback (most recent call last)",
      "\u001b[0;32m/tmp/ipykernel_565033/723638731.py\u001b[0m in \u001b[0;36m<module>\u001b[0;34m\u001b[0m\n\u001b[1;32m     14\u001b[0m \u001b[0;31m# number of parameter sets (== number of spectra) to be generated\u001b[0m\u001b[0;34m\u001b[0m\u001b[0;34m\u001b[0m\u001b[0;34m\u001b[0m\u001b[0m\n\u001b[1;32m     15\u001b[0m \u001b[0;34m\u001b[0m\u001b[0m\n\u001b[0;32m---> 16\u001b[0;31m \u001b[0mparam_sets\u001b[0m \u001b[0;34m=\u001b[0m \u001b[0mlist\u001b[0m\u001b[0;34m(\u001b[0m\u001b[0mParameterSampler\u001b[0m\u001b[0;34m(\u001b[0m\u001b[0mparam_grid\u001b[0m\u001b[0;34m,\u001b[0m \u001b[0mn_iter\u001b[0m\u001b[0;34m=\u001b[0m\u001b[0mn_sets\u001b[0m\u001b[0;34m,\u001b[0m \u001b[0mrandom_state\u001b[0m\u001b[0;34m=\u001b[0m\u001b[0mrng\u001b[0m\u001b[0;34m)\u001b[0m\u001b[0;34m)\u001b[0m\u001b[0;34m\u001b[0m\u001b[0;34m\u001b[0m\u001b[0m\n\u001b[0m\u001b[1;32m     17\u001b[0m \u001b[0;34m\u001b[0m\u001b[0m\n\u001b[1;32m     18\u001b[0m \u001b[0;32mfor\u001b[0m \u001b[0mparam_set\u001b[0m \u001b[0;32min\u001b[0m \u001b[0mparam_sets\u001b[0m\u001b[0;34m:\u001b[0m\u001b[0;34m\u001b[0m\u001b[0;34m\u001b[0m\u001b[0m\n",
      "\u001b[0;32m~/.local/lib/python3.8/site-packages/sklearn/model_selection/_search.py\u001b[0m in \u001b[0;36m__iter__\u001b[0;34m(self)\u001b[0m\n\u001b[1;32m    308\u001b[0m                 \u001b[0;32mfor\u001b[0m \u001b[0mk\u001b[0m\u001b[0;34m,\u001b[0m \u001b[0mv\u001b[0m \u001b[0;32min\u001b[0m \u001b[0mitems\u001b[0m\u001b[0;34m:\u001b[0m\u001b[0;34m\u001b[0m\u001b[0;34m\u001b[0m\u001b[0m\n\u001b[1;32m    309\u001b[0m                     \u001b[0;32mif\u001b[0m \u001b[0mhasattr\u001b[0m\u001b[0;34m(\u001b[0m\u001b[0mv\u001b[0m\u001b[0;34m,\u001b[0m \u001b[0;34m\"rvs\"\u001b[0m\u001b[0;34m)\u001b[0m\u001b[0;34m:\u001b[0m\u001b[0;34m\u001b[0m\u001b[0;34m\u001b[0m\u001b[0m\n\u001b[0;32m--> 310\u001b[0;31m                         \u001b[0mparams\u001b[0m\u001b[0;34m[\u001b[0m\u001b[0mk\u001b[0m\u001b[0;34m]\u001b[0m \u001b[0;34m=\u001b[0m \u001b[0mv\u001b[0m\u001b[0;34m.\u001b[0m\u001b[0mrvs\u001b[0m\u001b[0;34m(\u001b[0m\u001b[0mrandom_state\u001b[0m\u001b[0;34m=\u001b[0m\u001b[0mrng\u001b[0m\u001b[0;34m)\u001b[0m\u001b[0;34m\u001b[0m\u001b[0;34m\u001b[0m\u001b[0m\n\u001b[0m\u001b[1;32m    311\u001b[0m                     \u001b[0;32melse\u001b[0m\u001b[0;34m:\u001b[0m\u001b[0;34m\u001b[0m\u001b[0;34m\u001b[0m\u001b[0m\n\u001b[1;32m    312\u001b[0m                         \u001b[0mparams\u001b[0m\u001b[0;34m[\u001b[0m\u001b[0mk\u001b[0m\u001b[0;34m]\u001b[0m \u001b[0;34m=\u001b[0m \u001b[0mv\u001b[0m\u001b[0;34m[\u001b[0m\u001b[0mrng\u001b[0m\u001b[0;34m.\u001b[0m\u001b[0mrandint\u001b[0m\u001b[0;34m(\u001b[0m\u001b[0mlen\u001b[0m\u001b[0;34m(\u001b[0m\u001b[0mv\u001b[0m\u001b[0;34m)\u001b[0m\u001b[0;34m)\u001b[0m\u001b[0;34m]\u001b[0m\u001b[0;34m\u001b[0m\u001b[0;34m\u001b[0m\u001b[0m\n",
      "\u001b[0;32m~/.local/lib/python3.8/site-packages/scipy/stats/_distn_infrastructure.py\u001b[0m in \u001b[0;36mrvs\u001b[0;34m(self, size, random_state)\u001b[0m\n\u001b[1;32m    471\u001b[0m         \u001b[0mkwds\u001b[0m \u001b[0;34m=\u001b[0m \u001b[0mself\u001b[0m\u001b[0;34m.\u001b[0m\u001b[0mkwds\u001b[0m\u001b[0;34m.\u001b[0m\u001b[0mcopy\u001b[0m\u001b[0;34m(\u001b[0m\u001b[0;34m)\u001b[0m\u001b[0;34m\u001b[0m\u001b[0;34m\u001b[0m\u001b[0m\n\u001b[1;32m    472\u001b[0m         \u001b[0mkwds\u001b[0m\u001b[0;34m.\u001b[0m\u001b[0mupdate\u001b[0m\u001b[0;34m(\u001b[0m\u001b[0;34m{\u001b[0m\u001b[0;34m'size'\u001b[0m\u001b[0;34m:\u001b[0m \u001b[0msize\u001b[0m\u001b[0;34m,\u001b[0m \u001b[0;34m'random_state'\u001b[0m\u001b[0;34m:\u001b[0m \u001b[0mrandom_state\u001b[0m\u001b[0;34m}\u001b[0m\u001b[0;34m)\u001b[0m\u001b[0;34m\u001b[0m\u001b[0;34m\u001b[0m\u001b[0m\n\u001b[0;32m--> 473\u001b[0;31m         \u001b[0;32mreturn\u001b[0m \u001b[0mself\u001b[0m\u001b[0;34m.\u001b[0m\u001b[0mdist\u001b[0m\u001b[0;34m.\u001b[0m\u001b[0mrvs\u001b[0m\u001b[0;34m(\u001b[0m\u001b[0;34m*\u001b[0m\u001b[0mself\u001b[0m\u001b[0;34m.\u001b[0m\u001b[0margs\u001b[0m\u001b[0;34m,\u001b[0m \u001b[0;34m**\u001b[0m\u001b[0mkwds\u001b[0m\u001b[0;34m)\u001b[0m\u001b[0;34m\u001b[0m\u001b[0;34m\u001b[0m\u001b[0m\n\u001b[0m\u001b[1;32m    474\u001b[0m \u001b[0;34m\u001b[0m\u001b[0m\n\u001b[1;32m    475\u001b[0m     \u001b[0;32mdef\u001b[0m \u001b[0msf\u001b[0m\u001b[0;34m(\u001b[0m\u001b[0mself\u001b[0m\u001b[0;34m,\u001b[0m \u001b[0mx\u001b[0m\u001b[0;34m)\u001b[0m\u001b[0;34m:\u001b[0m\u001b[0;34m\u001b[0m\u001b[0;34m\u001b[0m\u001b[0m\n",
      "\u001b[0;32m~/.local/lib/python3.8/site-packages/scipy/stats/_distn_infrastructure.py\u001b[0m in \u001b[0;36mrvs\u001b[0;34m(self, *args, **kwds)\u001b[0m\n\u001b[1;32m   1065\u001b[0m         \u001b[0mcond\u001b[0m \u001b[0;34m=\u001b[0m \u001b[0mlogical_and\u001b[0m\u001b[0;34m(\u001b[0m\u001b[0mself\u001b[0m\u001b[0;34m.\u001b[0m\u001b[0m_argcheck\u001b[0m\u001b[0;34m(\u001b[0m\u001b[0;34m*\u001b[0m\u001b[0margs\u001b[0m\u001b[0;34m)\u001b[0m\u001b[0;34m,\u001b[0m \u001b[0;34m(\u001b[0m\u001b[0mscale\u001b[0m \u001b[0;34m>=\u001b[0m \u001b[0;36m0\u001b[0m\u001b[0;34m)\u001b[0m\u001b[0;34m)\u001b[0m\u001b[0;34m\u001b[0m\u001b[0;34m\u001b[0m\u001b[0m\n\u001b[1;32m   1066\u001b[0m         \u001b[0;32mif\u001b[0m \u001b[0;32mnot\u001b[0m \u001b[0mnp\u001b[0m\u001b[0;34m.\u001b[0m\u001b[0mall\u001b[0m\u001b[0;34m(\u001b[0m\u001b[0mcond\u001b[0m\u001b[0;34m)\u001b[0m\u001b[0;34m:\u001b[0m\u001b[0;34m\u001b[0m\u001b[0;34m\u001b[0m\u001b[0m\n\u001b[0;32m-> 1067\u001b[0;31m             \u001b[0;32mraise\u001b[0m \u001b[0mValueError\u001b[0m\u001b[0;34m(\u001b[0m\u001b[0;34m\"Domain error in arguments.\"\u001b[0m\u001b[0;34m)\u001b[0m\u001b[0;34m\u001b[0m\u001b[0;34m\u001b[0m\u001b[0m\n\u001b[0m\u001b[1;32m   1068\u001b[0m \u001b[0;34m\u001b[0m\u001b[0m\n\u001b[1;32m   1069\u001b[0m         \u001b[0;32mif\u001b[0m \u001b[0mnp\u001b[0m\u001b[0;34m.\u001b[0m\u001b[0mall\u001b[0m\u001b[0;34m(\u001b[0m\u001b[0mscale\u001b[0m \u001b[0;34m==\u001b[0m \u001b[0;36m0\u001b[0m\u001b[0;34m)\u001b[0m\u001b[0;34m:\u001b[0m\u001b[0;34m\u001b[0m\u001b[0;34m\u001b[0m\u001b[0m\n",
      "\u001b[0;31mValueError\u001b[0m: Domain error in arguments."
     ]
    }
   ],
   "source": [
    "# Grid parameter generation:\n",
    "#   https://scikit-learn.org/stable/modules/generated/sklearn.model_selection.ParameterSampler.html\n",
    "from sklearn.model_selection import ParameterSampler\n",
    "from scipy.stats.distributions import expon\n",
    "from scipy.stats import norm\n",
    "\n",
    "rng = np.random.RandomState(0)\n",
    "param_grid = {\n",
    "    'T_star': norm(6000, 1000), 'T_dust': norm(500, 50),\n",
    "    'N_star': norm(10, 3), 'N_dust': norm(10, 1)\n",
    "}\n",
    "\n",
    "n_sets = 1000\n",
    "# number of parameter sets (== number of spectra) to be generated\n",
    "\n",
    "param_sets = list(ParameterSampler(param_grid, n_iter=n_sets, random_state=rng))\n",
    "\n",
    "for param_set in param_sets:\n",
    "    param_set['T_star'] = int(round(np.abs(param_set['T_star']), 0))\n",
    "    param_set['T_dust'] = int(round(np.abs(param_set['T_dust']), 0))\n",
    "    param_set['N_dust'] = float(\"%.3g\" % (np.abs(param_set['N_dust'])*1e-1))\n",
    "    param_set['N_star'] = float(\"%.3g\" % (np.abs(param_set['N_star'])*1e-7))\n",
    "\n",
    "L_T_star = [param_set['T_star'] for param_set in param_sets]\n",
    "L_T_dust = [param_set['T_dust'] for param_set in param_sets]\n",
    "L_N_dust = [param_set['N_dust'] for param_set in param_sets]\n",
    "L_N_star = [param_set['N_star'] for param_set in param_sets]\n",
    "\n",
    "fig, axes = plt.subplots(2,2, figsize=(10,5))\n",
    "\n",
    "# Row 1:\n",
    "axes[0,0].hist(L_T_star)\n",
    "axes[0,0].set_xlabel('T_star')\n",
    "#\n",
    "axes[0,1].hist(L_N_star)\n",
    "axes[0,1].set_xlabel('N_star')\n",
    "\n",
    "# Row 2:\n",
    "axes[1,0].hist(L_T_dust)\n",
    "axes[1,0].set_xlabel('T_dust')\n",
    "#\n",
    "axes[1,1].hist(L_N_dust)\n",
    "axes[1,1].set_xlabel('N_dust')\n",
    "\n",
    "fig.tight_layout()\n",
    "plt.savefig('params_distribution.jpg')\n",
    "plt.show()"
   ]
  },
  {
   "cell_type": "code",
   "execution_count": 22,
   "metadata": {},
   "outputs": [
    {
     "name": "stdout",
     "output_type": "stream",
     "text": [
      "Creating spectrum     1[/10000]\r"
     ]
    },
    {
     "ename": "FileNotFoundError",
     "evalue": "[Errno 2] No such file or directory: '/data/schools/Astrostatistics_School_Crete_2022/2022_summer_school/Deep Learning/make_spectra/spectra_noabs/spectrum_T_star_8241_N_star_1.2e-06_T_dust_549_N_dust_1.18.pkl'",
     "output_type": "error",
     "traceback": [
      "\u001b[0;31m---------------------------------------------------------------------------\u001b[0m",
      "\u001b[0;31mFileNotFoundError\u001b[0m                         Traceback (most recent call last)",
      "\u001b[0;32m<timed exec>\u001b[0m in \u001b[0;36m<module>\u001b[0;34m\u001b[0m\n",
      "\u001b[0;32m/tmp/ipykernel_565033/2143630483.py\u001b[0m in \u001b[0;36mmake_spectrum\u001b[0;34m(T_star, N_star, T_dust, N_dust, display, save)\u001b[0m\n\u001b[1;32m     62\u001b[0m \u001b[0;34m\u001b[0m\u001b[0m\n\u001b[1;32m     63\u001b[0m     \u001b[0;32mif\u001b[0m \u001b[0msave\u001b[0m\u001b[0;34m:\u001b[0m\u001b[0;34m\u001b[0m\u001b[0;34m\u001b[0m\u001b[0m\n\u001b[0;32m---> 64\u001b[0;31m         \u001b[0;32mwith\u001b[0m \u001b[0mopen\u001b[0m\u001b[0;34m(\u001b[0m\u001b[0mpath_spectra\u001b[0m\u001b[0;34m+\u001b[0m\u001b[0;34m'/'\u001b[0m\u001b[0;34m+\u001b[0m\u001b[0mspectrum_root_name\u001b[0m\u001b[0;34m+\u001b[0m\u001b[0;34m'.pkl'\u001b[0m\u001b[0;34m,\u001b[0m \u001b[0;34m'wb'\u001b[0m\u001b[0;34m)\u001b[0m \u001b[0;32mas\u001b[0m \u001b[0mfh\u001b[0m\u001b[0;34m:\u001b[0m\u001b[0;34m\u001b[0m\u001b[0;34m\u001b[0m\u001b[0m\n\u001b[0m\u001b[1;32m     65\u001b[0m             \u001b[0mpickle\u001b[0m\u001b[0;34m.\u001b[0m\u001b[0mdump\u001b[0m\u001b[0;34m(\u001b[0m\u001b[0mspectrum\u001b[0m\u001b[0;34m,\u001b[0m \u001b[0mfh\u001b[0m\u001b[0;34m,\u001b[0m \u001b[0mprotocol\u001b[0m\u001b[0;34m=\u001b[0m\u001b[0mpickle\u001b[0m\u001b[0;34m.\u001b[0m\u001b[0mHIGHEST_PROTOCOL\u001b[0m\u001b[0;34m)\u001b[0m\u001b[0;34m\u001b[0m\u001b[0;34m\u001b[0m\u001b[0m\n\u001b[1;32m     66\u001b[0m \u001b[0;34m\u001b[0m\u001b[0m\n",
      "\u001b[0;31mFileNotFoundError\u001b[0m: [Errno 2] No such file or directory: '/data/schools/Astrostatistics_School_Crete_2022/2022_summer_school/Deep Learning/make_spectra/spectra_noabs/spectrum_T_star_8241_N_star_1.2e-06_T_dust_549_N_dust_1.18.pkl'"
     ]
    }
   ],
   "source": [
    "%%time\n",
    "for i, param_set in enumerate(param_sets):\n",
    "    print('Creating spectrum %5s[/%s]' % (i+1, len(param_sets)), end='\\r')\n",
    "    spectrum = make_spectrum(**param_set, display=False, save=True)"
   ]
  },
  {
   "cell_type": "code",
   "execution_count": 7,
   "metadata": {},
   "outputs": [],
   "source": [
    "###EOF"
   ]
  }
 ],
 "metadata": {
  "kernelspec": {
   "display_name": "Python 3 (ipykernel)",
   "language": "python",
   "name": "python3"
  },
  "language_info": {
   "codemirror_mode": {
    "name": "ipython",
    "version": 3
   },
   "file_extension": ".py",
   "mimetype": "text/x-python",
   "name": "python",
   "nbconvert_exporter": "python",
   "pygments_lexer": "ipython3",
   "version": "3.8.10"
  },
  "toc": {
   "base_numbering": 1,
   "nav_menu": {},
   "number_sections": true,
   "sideBar": true,
   "skip_h1_title": false,
   "title_cell": "Table of Contents",
   "title_sidebar": "Contents",
   "toc_cell": false,
   "toc_position": {},
   "toc_section_display": true,
   "toc_window_display": false
  }
 },
 "nbformat": 4,
 "nbformat_minor": 2
}
