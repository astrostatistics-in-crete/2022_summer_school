{
 "cells": [
  {
   "cell_type": "markdown",
   "metadata": {},
   "source": [
    "# Make Spectra"
   ]
  },
  {
   "cell_type": "code",
   "execution_count": 1,
   "metadata": {},
   "outputs": [],
   "source": [
    "# BB model:\n",
    "#   https://docs.astropy.org/en/stable/api/astropy.modeling.physical_models.BlackBody.html\n",
    "import numpy as np\n",
    "import matplotlib.pyplot as plt\n",
    "import random \n",
    "import sys\n",
    "import pickle\n",
    "\n",
    "from astropy.modeling.models import BlackBody\n",
    "from astropy import units as u\n",
    "from astropy.visualization import quantity_support"
   ]
  },
  {
   "cell_type": "code",
   "execution_count": 2,
   "metadata": {},
   "outputs": [
    {
     "name": "stdout",
     "output_type": "stream",
     "text": [
      "Folder spectra created.\n"
     ]
    }
   ],
   "source": [
    "import os\n",
    "from pathlib import Path\n",
    "\n",
    "script_path = str(Path().absolute())\n",
    "\n",
    "path_spectra = script_path+\"/spectra\"\n",
    "\n",
    "if not os.path.exists(path_spectra):\n",
    "    os.makedirs(path_spectra)\n",
    "    print('Folder',os.path.basename(path_spectra),'created.')"
   ]
  },
  {
   "cell_type": "code",
   "execution_count": 3,
   "metadata": {},
   "outputs": [],
   "source": [
    "def make_spectrum(T_star=5778, N_star=1e-7, T_dust=100, N_dust=1e1, Tau=1.5, display=True, save=True):\n",
    "\n",
    "    param_set = locals()\n",
    "    del param_set['display']\n",
    "    del param_set['save']\n",
    "    # dictionary of input args\n",
    "\n",
    "    spectrum_root_name = \"spectrum_\" + (\"_\".join(\n",
    "        [param+'_'+str(value) for (param, value) in param_set.items()])\n",
    "    )\n",
    "    \n",
    "    sr = 1e-10\n",
    "    # steradiants to convert to flux density\n",
    "    random.seed(42)\n",
    "\n",
    "    bb_star = BlackBody(temperature=T_star*u.K, scale=N_star)\n",
    "    bb_dust = BlackBody(temperature=T_dust*u.K, scale=N_dust)\n",
    "    wave = np.logspace(3, 7, num=100) * u.AA\n",
    "\n",
    "    # Multiplying by sterad to get flux density:\n",
    "    flux_star = bb_star(wave) * sr*u.sr\n",
    "    flux_dust = bb_dust(wave) * sr*u.sr\n",
    "    flux = flux_star + flux_dust\n",
    "\n",
    "    # Modulating with noise:\n",
    "    flux_star_n = flux_star*np.random.uniform(0.5, 1.5, len(flux_star))\n",
    "    flux_dust_n = flux_dust*np.random.uniform(0.5, 1.5, len(flux_dust))\n",
    "    flux_n      = flux_star_n + flux_dust_n\n",
    "    \n",
    "    # Adding absorption:\n",
    "    flux_star_n_abs = flux_star_n * np.exp(-Tau * np.array(1/wave.to(u.um)))\n",
    "    flux_dust_n_abs = flux_dust_n\n",
    "    flux_n_abs      = flux_star_n_abs + flux_dust_n_abs\n",
    "\n",
    "    # Converting units:\n",
    "    wave_mu = (wave).to(u.um)\n",
    "    flux_star_n_Jy = (flux_star_n).to(u.Jy)\n",
    "    flux_dust_n_Jy = (flux_dust_n).to(u.Jy)\n",
    "    flux_n_Jy      = (flux_n).to(u.Jy)\n",
    "    flux_star_n_abs_Jy = (flux_star_n_abs).to(u.Jy)\n",
    "    flux_dust_n_abs_Jy = (flux_dust_n_abs).to(u.Jy)\n",
    "    flux_n_abs_Jy      = (flux_n_abs).to(u.Jy)\n",
    "\n",
    "    if display == True:\n",
    "        with quantity_support():\n",
    "            plt.figure(figsize=(6,3))\n",
    "            plt.plot(wave_mu, flux_star_n_Jy, ls='--', c='cyan', label=\"star, unabsorbed\")\n",
    "            plt.plot(wave_mu, flux_star_n_abs_Jy, ls='--', c='royalblue',\n",
    "                     label=str(r'%4s: N=%-6.0e | T=%sK | $\\tau$=%s' % (\"star\", N_star, T_star, Tau)))\n",
    "            plt.plot(wave_mu, flux_dust_n_abs_Jy, ls='--', c='tomato' ,\n",
    "                     label=str('%4s: N=%-6.0e | T=%sK' % (\"dust\", N_dust, T_dust)))\n",
    "            plt.plot(wave_mu, flux_n_abs_Jy, c = 'mediumseagreen',label='total')\n",
    "            plt.xscale('log')\n",
    "            plt.yscale('log')\n",
    "            plt.legend(loc='upper center', bbox_to_anchor=(0.5, 1.15),\n",
    "                       ncol=2, fancybox=True, shadow=True)            \n",
    "            plt.ylim([1e-2, 1e7])\n",
    "            plt.savefig(path_spectra+'/'+spectrum_root_name+'.png')\n",
    "            plt.show()\n",
    "    \n",
    "    spectrum = {\"data\": {\"wave_mu\": np.array(wave_mu),\n",
    "                         \"flux_Jy\": np.array(flux_n_abs_Jy),\n",
    "                         \"flux_star_Jy\": np.array(flux_star_n_Jy),\n",
    "                         \"flux_star_abs_Jy\": np.array(flux_star_n_abs_Jy),\n",
    "                         \"flux_dust_Jy\": np.array(flux_dust_n_abs_Jy)}\n",
    "               }\n",
    "    \n",
    "    spectrum.update({\"metadata\": param_set})\n",
    "\n",
    "    if display == True:\n",
    "        print('Spectrum size [byte]:', sys.getsizeof(spectrum))\n",
    "    \n",
    "    if save:\n",
    "        with open(path_spectra+'/'+spectrum_root_name+'.pkl', 'wb') as fh:\n",
    "            pickle.dump(spectrum, fh, protocol=pickle.HIGHEST_PROTOCOL)\n",
    "\n",
    "    # Load as:\n",
    "    #with open(path_spectra+'/'+spectrum_root_name+'.pkl', 'rb') as fh:\n",
    "    #    spectrum = pickle.load(fh)\n",
    "    \n",
    "    return spectrum"
   ]
  },
  {
   "cell_type": "code",
   "execution_count": 4,
   "metadata": {
    "scrolled": false
   },
   "outputs": [
    {
     "name": "stderr",
     "output_type": "stream",
     "text": [
      "/home/peblo/.local/lib/python3.8/site-packages/astropy/units/quantity.py:613: RuntimeWarning: overflow encountered in expm1\n",
      "  result = super().__array_ufunc__(function, method, *arrays, **kwargs)\n",
      "/home/peblo/.local/lib/python3.8/site-packages/astropy/units/quantity.py:613: RuntimeWarning: overflow encountered in multiply\n",
      "  result = super().__array_ufunc__(function, method, *arrays, **kwargs)\n"
     ]
    },
    {
     "data": {
      "image/png": "[encoded data removed]",
      "text/plain": [
       "<Figure size 432x216 with 1 Axes>"
      ]
     },
     "metadata": {
      "needs_background": "light"
     },
     "output_type": "display_data"
    },
    {
     "name": "stdout",
     "output_type": "stream",
     "text": [
      "Spectrum size [byte]: 232\n"
     ]
    }
   ],
   "source": [
    "spectrum = make_spectrum(save=False)"
   ]
  },
  {
   "cell_type": "code",
   "execution_count": 5,
   "metadata": {
    "scrolled": false
   },
   "outputs": [
    {
     "data": {
      "image/png": "[encoded data removed]",
      "text/plain": [
       "<Figure size 720x360 with 5 Axes>"
      ]
     },
     "metadata": {
      "needs_background": "light"
     },
     "output_type": "display_data"
    }
   ],
   "source": [
    "# Grid parameter generation:\n",
    "#   https://scikit-learn.org/stable/modules/generated/sklearn.model_selection.ParameterSampler.html\n",
    "from sklearn.model_selection import ParameterSampler\n",
    "from scipy.stats.distributions import expon\n",
    "from scipy.stats import norm\n",
    "\n",
    "rng = np.random.RandomState(0)\n",
    "param_grid = {\n",
    "    'T_star': norm(5500, 1000), 'T_dust': norm(200, 50),\n",
    "    'N_star': norm(10, 1), 'N_dust': norm(10, 1), 'Tau': norm(1, 1)\n",
    "}\n",
    "\n",
    "n_sets = 1000\n",
    "# number of parameter sets (== number of spectra) to be generated\n",
    "\n",
    "param_sets = list(ParameterSampler(param_grid, n_iter=n_sets, random_state=rng))\n",
    "\n",
    "for param_set in param_sets:\n",
    "    param_set['T_star'] = int(round(np.abs(param_set['T_star']), 0))\n",
    "    param_set['T_dust'] = int(round(np.abs(param_set['T_dust']), 0))\n",
    "    param_set['N_dust'] = float(\"%.3g\" % (np.abs(param_set['N_dust'])))\n",
    "    param_set['N_star'] = float(\"%.3g\" % (np.abs(param_set['N_star'])*1e-8))\n",
    "    param_set['Tau']    = round(np.abs(param_set['Tau']), 1)\n",
    "\n",
    "L_T_star = [param_set['T_star'] for param_set in param_sets]\n",
    "L_T_dust = [param_set['T_dust'] for param_set in param_sets]\n",
    "L_N_dust = [param_set['N_dust'] for param_set in param_sets]\n",
    "L_N_star = [param_set['N_star'] for param_set in param_sets]\n",
    "L_Tau = [param_set['Tau'] for param_set in param_sets]\n",
    "\n",
    "fig, axes = plt.subplots(2,3, figsize=(10,5))\n",
    "\n",
    "# Row 1:\n",
    "axes[0,0].hist(L_T_star)\n",
    "axes[0,0].set_xlabel('T_star')\n",
    "#\n",
    "axes[0,1].hist(L_N_star)\n",
    "axes[0,1].set_xlabel('N_star')\n",
    "#\n",
    "axes[0,2].hist(L_Tau)\n",
    "axes[0,2].set_xlabel('Tau')\n",
    "\n",
    "# Row 2:\n",
    "axes[1,0].hist(L_T_dust)\n",
    "axes[1,0].set_xlabel('T_dust')\n",
    "#\n",
    "axes[1,1].hist(L_N_dust)\n",
    "axes[1,1].set_xlabel('N_dust')\n",
    "#\n",
    "fig.delaxes(axes[1,2])\n",
    "\n",
    "fig.tight_layout()\n",
    "plt.savefig('params_distribution.jpg')\n",
    "plt.show()"
   ]
  },
  {
   "cell_type": "code",
   "execution_count": 6,
   "metadata": {},
   "outputs": [
    {
     "name": "stdout",
     "output_type": "stream",
     "text": [
      "Creating spectrum     1[/1000]\r",
      "Creating spectrum     2[/1000]\r",
      "Creating spectrum     3[/1000]\r",
      "Creating spectrum     4[/1000]\r",
      "Creating spectrum     5[/1000]\r",
      "Creating spectrum     6[/1000]\r",
      "Creating spectrum     7[/1000]\r",
      "Creating spectrum     8[/1000]\r",
      "Creating spectrum     9[/1000]\r",
      "Creating spectrum    10[/1000]\r",
      "Creating spectrum    11[/1000]\r",
      "Creating spectrum    12[/1000]\r",
      "Creating spectrum    13[/1000]\r",
      "Creating spectrum    14[/1000]\r",
      "Creating spectrum    15[/1000]\r",
      "Creating spectrum    16[/1000]\r",
      "Creating spectrum    17[/1000]\r",
      "Creating spectrum    18[/1000]\r",
      "Creating spectrum    19[/1000]\r",
      "Creating spectrum    20[/1000]\r",
      "Creating spectrum    21[/1000]\r",
      "Creating spectrum    22[/1000]\r",
      "Creating spectrum    23[/1000]\r",
      "Creating spectrum    24[/1000]\r",
      "Creating spectrum    25[/1000]\r",
      "Creating spectrum    26[/1000]\r",
      "Creating spectrum    27[/1000]\r",
      "Creating spectrum    28[/1000]\r",
      "Creating spectrum    29[/1000]\r",
      "Creating spectrum    30[/1000]\r",
      "Creating spectrum    31[/1000]\r",
      "Creating spectrum    32[/1000]\r",
      "Creating spectrum    33[/1000]\r",
      "Creating spectrum    34[/1000]\r",
      "Creating spectrum    35[/1000]\r",
      "Creating spectrum    36[/1000]\r",
      "Creating spectrum    37[/1000]\r",
      "Creating spectrum    38[/1000]\r",
      "Creating spectrum    39[/1000]\r",
      "Creating spectrum    40[/1000]\r"
     ]
    },
    {
     "name": "stderr",
     "output_type": "stream",
     "text": [
      "/home/peblo/.local/lib/python3.8/site-packages/astropy/units/quantity.py:613: RuntimeWarning: overflow encountered in expm1\n",
      "  result = super().__array_ufunc__(function, method, *arrays, **kwargs)\n",
      "/home/peblo/.local/lib/python3.8/site-packages/astropy/units/quantity.py:613: RuntimeWarning: overflow encountered in multiply\n",
      "  result = super().__array_ufunc__(function, method, *arrays, **kwargs)\n"
     ]
    },
    {
     "name": "stdout",
     "output_type": "stream",
     "text": [
      "CPU times: user 5.93 s, sys: 263 ms, total: 6.2 s\n",
      "Wall time: 5.66 s\n"
     ]
    }
   ],
   "source": [
    "%%time\n",
    "for i, param_set in enumerate(param_sets):\n",
    "    print('Creating spectrum %5s[/%s]' % (i+1, len(param_sets)), end='\\r')\n",
    "    spectrum = make_spectrum(**param_set, display=False, save=True)"
   ]
  },
  {
   "cell_type": "code",
   "execution_count": 7,
   "metadata": {},
   "outputs": [],
   "source": [
    "###EOF"
   ]
  }
 ],
 "metadata": {
  "kernelspec": {
   "display_name": "Python 3 (ipykernel)",
   "language": "python",
   "name": "python3"
  },
  "language_info": {
   "codemirror_mode": {
    "name": "ipython",
    "version": 3
   },
   "file_extension": ".py",
   "mimetype": "text/x-python",
   "name": "python",
   "nbconvert_exporter": "python",
   "pygments_lexer": "ipython3",
   "version": "3.8.10"
  },
  "toc": {
   "base_numbering": 1,
   "nav_menu": {},
   "number_sections": true,
   "sideBar": true,
   "skip_h1_title": false,
   "title_cell": "Table of Contents",
   "title_sidebar": "Contents",
   "toc_cell": false,
   "toc_position": {},
   "toc_section_display": true,
   "toc_window_display": false
  }
 },
 "nbformat": 4,
 "nbformat_minor": 2
}
