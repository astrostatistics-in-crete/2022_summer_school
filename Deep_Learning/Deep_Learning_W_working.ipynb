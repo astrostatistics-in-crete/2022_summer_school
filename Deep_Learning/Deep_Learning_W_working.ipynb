{
 "cells": [
  {
   "cell_type": "markdown",
   "metadata": {},
   "source": [
    "# Deep Learning - Workshop"
   ]
  },
  {
   "cell_type": "code",
   "execution_count": 1,
   "metadata": {},
   "outputs": [
    {
     "name": "stderr",
     "output_type": "stream",
     "text": [
      "2022-03-13 19:38:13.352960: W tensorflow/stream_executor/platform/default/dso_loader.cc:64] Could not load dynamic library 'libcudart.so.11.0'; dlerror: libcudart.so.11.0: cannot open shared object file: No such file or directory\n",
      "2022-03-13 19:38:13.352984: I tensorflow/stream_executor/cuda/cudart_stub.cc:29] Ignore above cudart dlerror if you do not have a GPU set up on your machine.\n"
     ]
    }
   ],
   "source": [
    "import glob\n",
    "import pickle\n",
    "import numpy as np\n",
    "from prettytable import PrettyTable\n",
    "from matplotlib import pyplot as plt\n",
    "import pandas as pd\n",
    "\n",
    "# Packages for autoencoder:\n",
    "from sklearn.datasets import make_regression\n",
    "from sklearn.preprocessing import MinMaxScaler\n",
    "from sklearn.model_selection import train_test_split\n",
    "from tensorflow.keras.models import Model\n",
    "from tensorflow.keras.layers import Input\n",
    "from tensorflow.keras.layers import Dense\n",
    "from tensorflow.keras.layers import LeakyReLU\n",
    "from tensorflow.keras.layers import BatchNormalization\n",
    "from tensorflow.keras import layers\n",
    "import tensorflow as tf\n",
    "from tensorflow.keras.optimizers import SGD\n",
    "\n",
    "# Packages for Black-Body function:\n",
    "from astropy.modeling.models import BlackBody\n",
    "from astropy import units as u\n",
    "from astropy.visualization import quantity_support"
   ]
  },
  {
   "cell_type": "code",
   "execution_count": 2,
   "metadata": {},
   "outputs": [],
   "source": [
    "path_spectra = \"/data/schools/Astrostatistics_School_Crete_2022/2022_summer_school/Deep Learning/make_spectra/spectra_noabs\"\n",
    "\n",
    "n_spectra = 10000\n",
    "# number of spectra to use"
   ]
  },
  {
   "cell_type": "code",
   "execution_count": 3,
   "metadata": {},
   "outputs": [
    {
     "name": "stdout",
     "output_type": "stream",
     "text": [
      "CPU times: user 205 ms, sys: 64.3 ms, total: 270 ms\n",
      "Wall time: 271 ms\n"
     ]
    }
   ],
   "source": [
    "%%time\n",
    "spectrum_files = glob.glob(path_spectra+'/*.pkl')\n",
    "\n",
    "# Capping number of spectra:\n",
    "spectrum_files = spectrum_files[:n_spectra]\n",
    "\n",
    "# Creating data structure:\n",
    "X = []\n",
    "Y = []\n",
    "\n",
    "for spectrum_file in spectrum_files:\n",
    "    with open(spectrum_file, 'rb') as fh:\n",
    "        spectrum = pickle.load(fh)\n",
    "\n",
    "    spectrum_data     = spectrum['data']\n",
    "    spectrum_metadata = spectrum['metadata']\n",
    "\n",
    "    X.append(spectrum_data['flux_Jy'])\n",
    "    Y.append(spectrum_metadata)\n",
    "\n",
    "wave_mu = spectrum_data['wave_mu']\n",
    "# the same for all spectra (using here the last spectrum)\n",
    "    \n",
    "X = np.array(X)"
   ]
  },
  {
   "cell_type": "markdown",
   "metadata": {},
   "source": [
    "## Preparing Data"
   ]
  },
  {
   "cell_type": "code",
   "execution_count": 4,
   "metadata": {},
   "outputs": [
    {
     "name": "stdout",
     "output_type": "stream",
     "text": [
      "+-------------------------------+\n",
      "|  Train/valid/test data shape  |\n",
      "+-------+-------------+---------+\n",
      "|       |      X      |    y    |\n",
      "+-------+-------------+---------+\n",
      "| train | (6300, 100) | (6300,) |\n",
      "| valid | (2700, 100) | (2700,) |\n",
      "|  test | (1000, 100) | (1000,) |\n",
      "+-------+-------------+---------+\n"
     ]
    }
   ],
   "source": [
    "# Splitting dataset into train/validation/test sets:\n",
    "X_rest, X_test, Y_rest, Y_test = train_test_split(X, Y, test_size=0.1, random_state=1)\n",
    "X_train, X_valid, Y_train, Y_valid = train_test_split(X_rest, Y_rest, test_size=0.3, random_state=1)\n",
    "\n",
    "del X_rest\n",
    "# purging exploited variable to save memory\n",
    "\n",
    "table = PrettyTable()\n",
    "table.title = 'Train/valid/test data shape'\n",
    "table.field_names = ['', 'X', 'y']\n",
    "table.add_row(['train', np.shape(X_train), np.shape(Y_train)])\n",
    "table.add_row(['valid', np.shape(X_valid), np.shape(Y_valid)])\n",
    "table.add_row(['test', np.shape(X_test), np.shape(Y_test)])\n",
    "print(table)"
   ]
  },
  {
   "cell_type": "markdown",
   "metadata": {},
   "source": [
    "### Normalizing data"
   ]
  },
  {
   "cell_type": "code",
   "execution_count": 5,
   "metadata": {},
   "outputs": [],
   "source": [
    "# Normalizing data:\n",
    "norm = MinMaxScaler()\n",
    "norm.fit(X_train)\n",
    "'''\n",
    "X_n_train = norm.transform(X_train)\n",
    "X_n_valid = norm.transform(X_valid)\n",
    "X_n_test  = norm.transform(X_test)\n",
    "''';\n",
    "X_n_train = X_train.copy()\n",
    "X_n_valid = X_valid.copy()\n",
    "X_n_test  = X_test.copy()\n"
   ]
  },
  {
   "cell_type": "code",
   "execution_count": 6,
   "metadata": {},
   "outputs": [
    {
     "data": {
      "image/png": "[encoded data removed]",
      "text/plain": [
       "<Figure size 432x288 with 1 Axes>"
      ]
     },
     "metadata": {
      "needs_background": "light"
     },
     "output_type": "display_data"
    }
   ],
   "source": [
    "def normalize(X):\n",
    "    X_n = np.log10(X)\n",
    "    return X_n\n",
    "\n",
    "X_n_train = normalize(X_train)\n",
    "X_n_valid = normalize(X_valid)\n",
    "X_n_test  = normalize(X_test)\n",
    "\n",
    "plt.plot(wave_mu, X_n_train[0])\n",
    "plt.plot(wave_mu, X_n_valid[0])\n",
    "plt.plot(wave_mu, X_n_test[0])\n",
    "plt.xscale('log')"
   ]
  },
  {
   "cell_type": "markdown",
   "metadata": {},
   "source": [
    "## Autoncoder\n",
    "\n",
    "<img src=\"images/autoencoder.png\"/>"
   ]
  },
  {
   "cell_type": "code",
   "execution_count": 7,
   "metadata": {},
   "outputs": [],
   "source": [
    "from keras import backend as K\n",
    "\n",
    "def BuildSpectrum(x):\n",
    "        \n",
    "    wave_cm = wave_mu * 1e-4 # cm\n",
    "    wave_cm = tf.expand_dims(wave_cm, axis=0)\n",
    "\n",
    "    T_star = tf.gather(x, [0], axis=-1)\n",
    "    N_star = tf.gather(x, [1], axis=-1)\n",
    "    T_dust = tf.gather(x, [2], axis=-1)\n",
    "    N_dust = tf.gather(x, [3], axis=-1)\n",
    "#    Tau = tf.gather(x, [4], axis=-1)\n",
    "\n",
    "    # Casting type float32->float64 to increase numerical accuracy:\n",
    "    # (required to properly calculate the tails of the BB)\n",
    "    T_star = tf.cast(T_star, tf.float64)\n",
    "    N_star = tf.cast(N_star, tf.float64)\n",
    "    T_dust = tf.cast(T_dust, tf.float64)\n",
    "    N_dust = tf.cast(N_dust, tf.float64)\n",
    "#    Tau = tf.cast(Tau, tf.float64)\n",
    "\n",
    "    def BB(wave_cm, T, N):\n",
    "        '''\n",
    "        Returns a Black Body function evaluated over the <wave_cm> array, in:\n",
    "            ergs/s/cm^2/Hz/sr\n",
    "\n",
    "        Reproduces exactly the function defined as in:\n",
    "            https://docs.astropy.org/en/stable/api/astropy.modeling.physical_models.BlackBody.html\n",
    "        '''\n",
    "\n",
    "        c = 3e10 # cm/sec\n",
    "        freq_Hz = c / wave_cm\n",
    "        h = 6.6261e-27 # cgs\n",
    "        k = 1.3807e-16 # cgs\n",
    "\n",
    "        ones = tf.cast(tf.ones(tf.size(wave_cm)), tf.float64)\n",
    "        numerator   = 2*h*tf.pow(freq_Hz,3)/c**2\n",
    "        denominator = tf.math.exp(h*freq_Hz/(k*T)) - ones\n",
    "\n",
    "        eps= 1e-20\n",
    "        # small additive constant to avoid numerical issues\n",
    "        \n",
    "        BB = N * numerator / denominator + eps\n",
    "        #tf.print(BB)\n",
    "        \n",
    "        return BB\n",
    "        \n",
    "    BB_star = BB(wave_cm, T_star, N_star)\n",
    "    BB_dust = BB(wave_cm, T_dust, N_dust)\n",
    "\n",
    "    # Converting into flux density:\n",
    "    sr = 1e-10\n",
    "    # steradiants to convert ergs/s/cm^2/Hz/sr -> ergs/s/cm^2/Hz\n",
    "    # (this is the same arbitrary value used when the spectra were generated)\n",
    "    cgs_to_Jy = 1e-23\n",
    "    # conversion factor for flux from ergs/s/cm^2/Hz -> Jansky\n",
    "\n",
    "    BB_star = BB_star * sr / cgs_to_Jy\n",
    "    BB_dust = BB_dust * sr / cgs_to_Jy\n",
    "\n",
    "#    BB_star_abs = BB_star * tf.math.exp(-Tau/(wave_cm*1e4))\n",
    "    # this must me in micron\n",
    "\n",
    "#    BB = tf.add(BB_star_abs, BB_dust)\n",
    "    BB = tf.add(BB_star, BB_dust)\n",
    "\n",
    "    # Normalization:\n",
    "    BB_log10 = tf.experimental.numpy.log10(BB)\n",
    "    \n",
    "    return BB_log10"
   ]
  },
  {
   "cell_type": "code",
   "execution_count": 8,
   "metadata": {},
   "outputs": [],
   "source": [
    "from keras import backend as K\n",
    "\n",
    "def CustomActivationFunction(x) :\n",
    "    # https://stackoverflow.com/questions/44553722/restricting-the-output-values-of-layers-in-keras\n",
    "\n",
    "    #tf.print('CustomAct: x', x[0,:])\n",
    "\n",
    "    # Scaling around 1:\n",
    "    # working best: x_renorm = K.sigmoid(x)*2 + 1\n",
    "    # with: learning_rate=0.001, momentum=0.9, clipvalue=0.005\n",
    "    #x_renorm = K.sigmoid(x)*2 + 1\n",
    "    x_renorm = x\n",
    "    #tf.print('CustomAct: x_renorm', x_renorm[0,:])\n",
    "\n",
    "    # Grabbing layer's neuron values:\n",
    "    T_star = tf.gather(x_renorm, [0], axis=-1)\n",
    "    N_star = tf.gather(x_renorm, [1], axis=-1)\n",
    "    T_dust = tf.gather(x_renorm, [2], axis=-1)\n",
    "    N_dust = tf.gather(x_renorm, [3], axis=-1)\n",
    "#    Tau    = tf.gather(x_renorm, [4], axis=-1)\n",
    "\n",
    "    # Scaling -100% to 100% around average expected values:\n",
    "    T_star = K.sigmoid(T_star)*2*6000\n",
    "    N_star = K.sigmoid(N_star)*2*1e-6\n",
    "    T_dust = K.sigmoid(T_dust)*2*500 + 50\n",
    "    N_dust = K.sigmoid(N_dust)*2*1e0\n",
    "#    Tau    = K.sigmoid(Tau)*1\n",
    "    \n",
    "#    x_activated = K.concatenate([T_star,N_star,T_dust,N_dust,Tau], axis=-1)\n",
    "    x_activated = K.concatenate([T_star,N_star,T_dust,N_dust], axis=-1)\n",
    "\n",
    "    #tf.print('CustomAct: x_act', x_activated[0,:])\n",
    "    \n",
    "    return x_activated"
   ]
  },
  {
   "cell_type": "code",
   "execution_count": 9,
   "metadata": {},
   "outputs": [
    {
     "name": "stdout",
     "output_type": "stream",
     "text": [
      "Model: \"sequential\"\n",
      "_________________________________________________________________\n",
      " Layer (type)                Output Shape              Param #   \n",
      "=================================================================\n",
      " dense (Dense)               (None, 100)               10100     \n",
      "                                                                 \n",
      " batch_normalization (BatchN  (None, 100)              400       \n",
      " ormalization)                                                   \n",
      "                                                                 \n",
      " activation (Activation)     (None, 100)               0         \n",
      "                                                                 \n",
      " dense_1 (Dense)             (None, 50)                5050      \n",
      "                                                                 \n",
      " batch_normalization_1 (Batc  (None, 50)               200       \n",
      " hNormalization)                                                 \n",
      "                                                                 \n",
      " activation_1 (Activation)   (None, 50)                0         \n",
      "                                                                 \n",
      " dense_2 (Dense)             (None, 25)                1275      \n",
      "                                                                 \n",
      " batch_normalization_2 (Batc  (None, 25)               100       \n",
      " hNormalization)                                                 \n",
      "                                                                 \n",
      " activation_2 (Activation)   (None, 25)                0         \n",
      "                                                                 \n",
      " dense_3 (Dense)             (None, 4)                 104       \n",
      "                                                                 \n",
      "=================================================================\n",
      "Total params: 17,229\n",
      "Trainable params: 16,879\n",
      "Non-trainable params: 350\n",
      "_________________________________________________________________\n",
      "None\n",
      "Model: \"sequential_1\"\n",
      "_________________________________________________________________\n",
      " Layer (type)                Output Shape              Param #   \n",
      "=================================================================\n",
      " lambda (Lambda)             (None, 100)               0         \n",
      "                                                                 \n",
      "=================================================================\n",
      "Total params: 0\n",
      "Trainable params: 0\n",
      "Non-trainable params: 0\n",
      "_________________________________________________________________\n",
      "None\n"
     ]
    },
    {
     "name": "stderr",
     "output_type": "stream",
     "text": [
      "2022-03-13 19:38:17.437829: E tensorflow/stream_executor/cuda/cuda_driver.cc:271] failed call to cuInit: CUDA_ERROR_NO_DEVICE: no CUDA-capable device is detected\n",
      "2022-03-13 19:38:17.437858: I tensorflow/stream_executor/cuda/cuda_diagnostics.cc:156] kernel driver does not appear to be running on this host (mexicali): /proc/driver/nvidia/version does not exist\n",
      "2022-03-13 19:38:17.438702: I tensorflow/core/platform/cpu_feature_guard.cc:151] This TensorFlow binary is optimized with oneAPI Deep Neural Network Library (oneDNN) to use the following CPU instructions in performance-critical operations:  AVX2 FMA\n",
      "To enable them in other operations, rebuild TensorFlow with the appropriate compiler flags.\n"
     ]
    }
   ],
   "source": [
    "# Autoencoder: \n",
    "#     https://stackabuse.com/autoencoders-for-image-reconstruction-in-python-and-keras/\n",
    "# Lambda layer:\n",
    "#     https://keras.io/api/layers/core_layers/lambda/\n",
    "\n",
    "# Batch normalization - theory:\n",
    "#    https://datascience.stackexchange.com/questions/53426/what-exactly-is-batchnormalization-in-keras\n",
    "# application:\n",
    "#    https://stackoverflow.com/questions/34716454/where-do-i-call-the-batchnormalization-function-in-keras\n",
    "\n",
    "from tensorflow.keras.layers import Dense, Input, InputLayer, Lambda, Activation\n",
    "from tensorflow.keras.models import Sequential, Model\n",
    "from tensorflow.keras import activations\n",
    "\n",
    "n_inputs = X.shape[1]\n",
    "n_latent = 4\n",
    "\n",
    "def build_autoencoder(n_inputs, n_latent):\n",
    "    # The encoder\n",
    "    encoder = Sequential()\n",
    "    encoder.add(InputLayer(n_inputs))\n",
    "    #\n",
    "    encoder.add(Dense(n_inputs))\n",
    "    encoder.add(BatchNormalization())\n",
    "    encoder.add(Activation('relu'))\n",
    "    encoder.add(Dense(n_inputs/2))\n",
    "    encoder.add(BatchNormalization())\n",
    "    encoder.add(Activation('relu'))\n",
    "    encoder.add(Dense(n_inputs/4))\n",
    "    encoder.add(BatchNormalization())\n",
    "    encoder.add(Activation('sigmoid'))\n",
    "    encoder.add(Dense(n_latent, activation=CustomActivationFunction))\n",
    "\n",
    "    # The decoder\n",
    "    decoder = Sequential()\n",
    "    decoder.add(InputLayer((n_latent,)))\n",
    "    #\n",
    "    decoder.add(Lambda(BuildSpectrum))\n",
    "\n",
    "    decoder.layers[-1].trainable = False\n",
    "    # not necessary, just here for redundancy\n",
    "    \n",
    "    return encoder, decoder\n",
    "\n",
    "encoder, decoder = build_autoencoder(n_inputs, n_latent)\n",
    "\n",
    "print(encoder.summary())\n",
    "print(decoder.summary())\n",
    "# Non-informative, in this case:\n",
    "# print(model.summary())\n",
    "\n",
    "#decoder.layers[-1].set_weights([[5000,1e-7,250,10],0])\n",
    "#print('--', decoder.layers[-1].get_weights())\n",
    "\n",
    "inp = Input(n_inputs)\n",
    "encoded = encoder(inp)\n",
    "reconstruction = decoder(encoded)\n",
    "\n",
    "model = Model(inp, reconstruction)\n",
    "\n",
    "# Compiling autoencoder model:\n",
    "opt = SGD(learning_rate=0.01, momentum=0.9, clipvalue=0.5)\n",
    "model.compile(optimizer=opt, run_eagerly=False, loss='mae')\n",
    "# NOTE: run_eagerly=True allows to convert tensors to numpys\n",
    "#       (useful for testing but less efficient)\n",
    "#K.set_value(model.optimizer.learning_rate, 0.0001)\n",
    "# default Keras learning rate = 0.001\n",
    "\n",
    "weights_init = model.get_weights()\n",
    "# saving initialization weights"
   ]
  },
  {
   "cell_type": "code",
   "execution_count": 10,
   "metadata": {
    "scrolled": true
   },
   "outputs": [
    {
     "name": "stdout",
     "output_type": "stream",
     "text": [
      "Epoch 1/100\n",
      "50/50 - 2s - loss: 0.2624 - val_loss: 0.3497 - 2s/epoch - 42ms/step\n",
      "Epoch 2/100\n",
      "50/50 - 0s - loss: 0.1550 - val_loss: 0.2859 - 159ms/epoch - 3ms/step\n",
      "Epoch 3/100\n",
      "50/50 - 0s - loss: 0.1496 - val_loss: 0.2651 - 168ms/epoch - 3ms/step\n",
      "Epoch 4/100\n",
      "50/50 - 0s - loss: 0.1480 - val_loss: 0.2453 - 180ms/epoch - 4ms/step\n",
      "Epoch 5/100\n",
      "50/50 - 0s - loss: 0.1467 - val_loss: 0.2264 - 179ms/epoch - 4ms/step\n",
      "Epoch 6/100\n",
      "50/50 - 0s - loss: 0.1457 - val_loss: 0.2102 - 173ms/epoch - 3ms/step\n",
      "Epoch 7/100\n",
      "50/50 - 0s - loss: 0.1452 - val_loss: 0.1958 - 180ms/epoch - 4ms/step\n",
      "Epoch 8/100\n",
      "50/50 - 0s - loss: 0.1446 - val_loss: 0.1846 - 171ms/epoch - 3ms/step\n",
      "Epoch 9/100\n",
      "50/50 - 0s - loss: 0.1442 - val_loss: 0.1757 - 166ms/epoch - 3ms/step\n",
      "Epoch 10/100\n",
      "50/50 - 0s - loss: 0.1437 - val_loss: 0.1699 - 164ms/epoch - 3ms/step\n",
      "Epoch 11/100\n",
      "50/50 - 0s - loss: 0.1435 - val_loss: 0.1658 - 164ms/epoch - 3ms/step\n",
      "Epoch 12/100\n",
      "50/50 - 0s - loss: 0.1431 - val_loss: 0.1633 - 160ms/epoch - 3ms/step\n",
      "Epoch 13/100\n",
      "50/50 - 0s - loss: 0.1428 - val_loss: 0.1611 - 159ms/epoch - 3ms/step\n",
      "Epoch 14/100\n",
      "50/50 - 0s - loss: 0.1424 - val_loss: 0.1600 - 187ms/epoch - 4ms/step\n",
      "Epoch 15/100\n",
      "50/50 - 0s - loss: 0.1420 - val_loss: 0.1592 - 172ms/epoch - 3ms/step\n",
      "Epoch 16/100\n",
      "50/50 - 0s - loss: 0.1416 - val_loss: 0.1598 - 164ms/epoch - 3ms/step\n",
      "Epoch 17/100\n",
      "50/50 - 0s - loss: 0.1413 - val_loss: 0.1587 - 162ms/epoch - 3ms/step\n",
      "Epoch 18/100\n",
      "50/50 - 0s - loss: 0.1408 - val_loss: 0.1592 - 161ms/epoch - 3ms/step\n",
      "Epoch 19/100\n",
      "50/50 - 0s - loss: 0.1406 - val_loss: 0.1593 - 166ms/epoch - 3ms/step\n",
      "Epoch 20/100\n",
      "50/50 - 0s - loss: 0.1406 - val_loss: 0.1589 - 168ms/epoch - 3ms/step\n",
      "Epoch 21/100\n",
      "50/50 - 0s - loss: 0.1401 - val_loss: 0.1589 - 169ms/epoch - 3ms/step\n",
      "Epoch 22/100\n",
      "50/50 - 0s - loss: 0.1401 - val_loss: 0.1586 - 160ms/epoch - 3ms/step\n",
      "Epoch 23/100\n",
      "50/50 - 0s - loss: 0.1397 - val_loss: 0.1579 - 161ms/epoch - 3ms/step\n",
      "Epoch 24/100\n",
      "50/50 - 0s - loss: 0.1392 - val_loss: 0.1582 - 169ms/epoch - 3ms/step\n",
      "Epoch 25/100\n",
      "50/50 - 0s - loss: 0.1390 - val_loss: 0.1574 - 169ms/epoch - 3ms/step\n",
      "Epoch 26/100\n",
      "50/50 - 0s - loss: 0.1387 - val_loss: 0.1577 - 180ms/epoch - 4ms/step\n",
      "Epoch 27/100\n",
      "50/50 - 0s - loss: 0.1386 - val_loss: 0.1570 - 185ms/epoch - 4ms/step\n",
      "Epoch 28/100\n",
      "50/50 - 0s - loss: 0.1383 - val_loss: 0.1575 - 181ms/epoch - 4ms/step\n",
      "Epoch 29/100\n",
      "50/50 - 0s - loss: 0.1384 - val_loss: 0.1576 - 164ms/epoch - 3ms/step\n",
      "Epoch 30/100\n",
      "50/50 - 0s - loss: 0.1384 - val_loss: 0.1572 - 170ms/epoch - 3ms/step\n",
      "Epoch 31/100\n",
      "50/50 - 0s - loss: 0.1382 - val_loss: 0.1574 - 168ms/epoch - 3ms/step\n",
      "Epoch 32/100\n",
      "50/50 - 0s - loss: 0.1382 - val_loss: 0.1570 - 166ms/epoch - 3ms/step\n",
      "Epoch 33/100\n",
      "50/50 - 0s - loss: 0.1379 - val_loss: 0.1571 - 168ms/epoch - 3ms/step\n",
      "Epoch 34/100\n",
      "50/50 - 0s - loss: 0.1379 - val_loss: 0.1574 - 185ms/epoch - 4ms/step\n",
      "Epoch 35/100\n",
      "50/50 - 0s - loss: 0.1379 - val_loss: 0.1563 - 169ms/epoch - 3ms/step\n",
      "Epoch 36/100\n",
      "50/50 - 0s - loss: 0.1374 - val_loss: 0.1562 - 182ms/epoch - 4ms/step\n",
      "Epoch 37/100\n",
      "50/50 - 0s - loss: 0.1373 - val_loss: 0.1561 - 182ms/epoch - 4ms/step\n",
      "Epoch 38/100\n",
      "50/50 - 0s - loss: 0.1372 - val_loss: 0.1560 - 185ms/epoch - 4ms/step\n",
      "Epoch 39/100\n",
      "50/50 - 0s - loss: 0.1370 - val_loss: 0.1556 - 163ms/epoch - 3ms/step\n",
      "Epoch 40/100\n",
      "50/50 - 0s - loss: 0.1367 - val_loss: 0.1554 - 166ms/epoch - 3ms/step\n",
      "Epoch 41/100\n",
      "50/50 - 0s - loss: 0.1364 - val_loss: 0.1552 - 165ms/epoch - 3ms/step\n",
      "Epoch 42/100\n",
      "50/50 - 0s - loss: 0.1360 - val_loss: 0.1550 - 159ms/epoch - 3ms/step\n",
      "Epoch 43/100\n",
      "50/50 - 0s - loss: 0.1358 - val_loss: 0.1543 - 163ms/epoch - 3ms/step\n",
      "Epoch 44/100\n",
      "50/50 - 0s - loss: 0.1353 - val_loss: 0.1537 - 162ms/epoch - 3ms/step\n",
      "Epoch 45/100\n",
      "50/50 - 0s - loss: 0.1349 - val_loss: 0.1536 - 160ms/epoch - 3ms/step\n",
      "Epoch 46/100\n",
      "50/50 - 0s - loss: 0.1345 - val_loss: 0.1531 - 165ms/epoch - 3ms/step\n",
      "Epoch 47/100\n",
      "50/50 - 0s - loss: 0.1342 - val_loss: 0.1534 - 163ms/epoch - 3ms/step\n",
      "Epoch 48/100\n",
      "50/50 - 0s - loss: 0.1341 - val_loss: 0.1536 - 176ms/epoch - 4ms/step\n",
      "Epoch 49/100\n",
      "50/50 - 0s - loss: 0.1341 - val_loss: 0.1541 - 179ms/epoch - 4ms/step\n",
      "Epoch 50/100\n",
      "50/50 - 0s - loss: 0.1343 - val_loss: 0.1542 - 163ms/epoch - 3ms/step\n",
      "Epoch 51/100\n",
      "50/50 - 0s - loss: 0.1343 - val_loss: 0.1541 - 162ms/epoch - 3ms/step\n",
      "Epoch 52/100\n",
      "50/50 - 0s - loss: 0.1345 - val_loss: 0.1544 - 162ms/epoch - 3ms/step\n",
      "Epoch 53/100\n",
      "50/50 - 0s - loss: 0.1345 - val_loss: 0.1546 - 163ms/epoch - 3ms/step\n",
      "Epoch 54/100\n",
      "50/50 - 0s - loss: 0.1345 - val_loss: 0.1544 - 162ms/epoch - 3ms/step\n",
      "Epoch 55/100\n",
      "50/50 - 0s - loss: 0.1343 - val_loss: 0.1544 - 167ms/epoch - 3ms/step\n",
      "Epoch 56/100\n",
      "50/50 - 0s - loss: 0.1342 - val_loss: 0.1542 - 170ms/epoch - 3ms/step\n",
      "Epoch 57/100\n",
      "50/50 - 0s - loss: 0.1340 - val_loss: 0.1542 - 161ms/epoch - 3ms/step\n",
      "Epoch 58/100\n",
      "50/50 - 0s - loss: 0.1338 - val_loss: 0.1540 - 165ms/epoch - 3ms/step\n",
      "Epoch 59/100\n",
      "50/50 - 0s - loss: 0.1337 - val_loss: 0.1544 - 170ms/epoch - 3ms/step\n",
      "Epoch 60/100\n",
      "50/50 - 0s - loss: 0.1337 - val_loss: 0.1543 - 171ms/epoch - 3ms/step\n",
      "Epoch 61/100\n",
      "50/50 - 0s - loss: 0.1337 - val_loss: 0.1544 - 164ms/epoch - 3ms/step\n",
      "Epoch 62/100\n",
      "50/50 - 0s - loss: 0.1336 - val_loss: 0.1544 - 177ms/epoch - 4ms/step\n",
      "Epoch 63/100\n",
      "50/50 - 0s - loss: 0.1338 - val_loss: 0.1549 - 174ms/epoch - 3ms/step\n",
      "Epoch 64/100\n",
      "50/50 - 0s - loss: 0.1343 - val_loss: 0.1552 - 165ms/epoch - 3ms/step\n",
      "Epoch 65/100\n",
      "50/50 - 0s - loss: 0.1349 - val_loss: 0.1549 - 169ms/epoch - 3ms/step\n",
      "Epoch 66/100\n",
      "50/50 - 0s - loss: 0.1352 - val_loss: 0.1532 - 160ms/epoch - 3ms/step\n",
      "Epoch 67/100\n",
      "50/50 - 0s - loss: 0.1350 - val_loss: 0.1527 - 165ms/epoch - 3ms/step\n",
      "Epoch 68/100\n",
      "50/50 - 0s - loss: 0.1348 - val_loss: 0.1523 - 174ms/epoch - 3ms/step\n",
      "Epoch 69/100\n",
      "50/50 - 0s - loss: 0.1346 - val_loss: 0.1519 - 165ms/epoch - 3ms/step\n",
      "Epoch 70/100\n",
      "50/50 - 0s - loss: 0.1343 - val_loss: 0.1520 - 167ms/epoch - 3ms/step\n",
      "Epoch 71/100\n",
      "50/50 - 0s - loss: 0.1340 - val_loss: 0.1521 - 165ms/epoch - 3ms/step\n",
      "Epoch 72/100\n",
      "50/50 - 0s - loss: 0.1337 - val_loss: 0.1521 - 162ms/epoch - 3ms/step\n",
      "Epoch 73/100\n",
      "50/50 - 0s - loss: 0.1333 - val_loss: 0.1516 - 168ms/epoch - 3ms/step\n",
      "Epoch 74/100\n",
      "50/50 - 0s - loss: 0.1330 - val_loss: 0.1517 - 166ms/epoch - 3ms/step\n",
      "Epoch 75/100\n",
      "50/50 - 0s - loss: 0.1328 - val_loss: 0.1517 - 176ms/epoch - 4ms/step\n",
      "Epoch 76/100\n",
      "50/50 - 0s - loss: 0.1324 - val_loss: 0.1515 - 166ms/epoch - 3ms/step\n",
      "Epoch 77/100\n",
      "50/50 - 0s - loss: 0.1322 - val_loss: 0.1516 - 165ms/epoch - 3ms/step\n",
      "Epoch 78/100\n",
      "50/50 - 0s - loss: 0.1321 - val_loss: 0.1513 - 164ms/epoch - 3ms/step\n",
      "Epoch 79/100\n",
      "50/50 - 0s - loss: 0.1319 - val_loss: 0.1510 - 167ms/epoch - 3ms/step\n",
      "Epoch 80/100\n",
      "50/50 - 0s - loss: 0.1316 - val_loss: 0.1510 - 167ms/epoch - 3ms/step\n",
      "Epoch 81/100\n",
      "50/50 - 0s - loss: 0.1316 - val_loss: 0.1509 - 165ms/epoch - 3ms/step\n",
      "Epoch 82/100\n",
      "50/50 - 0s - loss: 0.1315 - val_loss: 0.1510 - 164ms/epoch - 3ms/step\n",
      "Epoch 83/100\n",
      "50/50 - 0s - loss: 0.1315 - val_loss: 0.1510 - 166ms/epoch - 3ms/step\n",
      "Epoch 84/100\n",
      "50/50 - 0s - loss: 0.1315 - val_loss: 0.1514 - 163ms/epoch - 3ms/step\n",
      "Epoch 85/100\n",
      "50/50 - 0s - loss: 0.1318 - val_loss: 0.1512 - 166ms/epoch - 3ms/step\n",
      "Epoch 86/100\n",
      "50/50 - 0s - loss: 0.1318 - val_loss: 0.1513 - 165ms/epoch - 3ms/step\n",
      "Epoch 87/100\n",
      "50/50 - 0s - loss: 0.1323 - val_loss: 0.1506 - 168ms/epoch - 3ms/step\n",
      "Epoch 88/100\n",
      "50/50 - 0s - loss: 0.1325 - val_loss: 0.1495 - 168ms/epoch - 3ms/step\n",
      "Epoch 89/100\n",
      "50/50 - 0s - loss: 0.1328 - val_loss: 0.1486 - 166ms/epoch - 3ms/step\n",
      "Epoch 90/100\n",
      "50/50 - 0s - loss: 0.1331 - val_loss: 0.1461 - 166ms/epoch - 3ms/step\n",
      "Epoch 91/100\n",
      "50/50 - 0s - loss: 0.1325 - val_loss: 0.1466 - 167ms/epoch - 3ms/step\n",
      "Epoch 92/100\n",
      "50/50 - 0s - loss: 0.1324 - val_loss: 0.1466 - 163ms/epoch - 3ms/step\n",
      "Epoch 93/100\n",
      "50/50 - 0s - loss: 0.1323 - val_loss: 0.1457 - 166ms/epoch - 3ms/step\n",
      "Epoch 94/100\n",
      "50/50 - 0s - loss: 0.1320 - val_loss: 0.1459 - 166ms/epoch - 3ms/step\n",
      "Epoch 95/100\n",
      "50/50 - 0s - loss: 0.1317 - val_loss: 0.1459 - 166ms/epoch - 3ms/step\n",
      "Epoch 96/100\n",
      "50/50 - 0s - loss: 0.1315 - val_loss: 0.1464 - 171ms/epoch - 3ms/step\n",
      "Epoch 97/100\n",
      "50/50 - 0s - loss: 0.1313 - val_loss: 0.1462 - 174ms/epoch - 3ms/step\n",
      "Epoch 98/100\n",
      "50/50 - 0s - loss: 0.1314 - val_loss: 0.1461 - 173ms/epoch - 3ms/step\n",
      "Epoch 99/100\n",
      "50/50 - 0s - loss: 0.1316 - val_loss: 0.1456 - 164ms/epoch - 3ms/step\n"
     ]
    },
    {
     "name": "stdout",
     "output_type": "stream",
     "text": [
      "Epoch 100/100\n",
      "50/50 - 0s - loss: 0.1315 - val_loss: 0.1453 - 163ms/epoch - 3ms/step\n"
     ]
    },
    {
     "data": {
      "image/png": "[encoded data removed]",
      "text/plain": [
       "<Figure size 432x288 with 1 Axes>"
      ]
     },
     "metadata": {
      "needs_background": "light"
     },
     "output_type": "display_data"
    },
    {
     "name": "stdout",
     "output_type": "stream",
     "text": [
      "CPU times: user 40 s, sys: 2.8 s, total: 42.8 s\n",
      "Wall time: 19 s\n"
     ]
    }
   ],
   "source": [
    "%%time\n",
    "model.set_weights(weights_init)\n",
    "# restoring initialized weights to have a fresh, identical fit very time model.fit() is run\n",
    "\n",
    "# fit the autoencoder model to reconstruct input\n",
    "history = model.fit(X_n_train, X_n_train, epochs=100, batch_size=128, verbose=2,\n",
    "                    validation_data=(X_n_valid,X_n_valid), shuffle=False)\n",
    "# plot loss\n",
    "plt.plot(history.history['loss'], label='train')\n",
    "plt.plot(history.history['val_loss'], label='valid')\n",
    "plt.legend()\n",
    "plt.show()"
   ]
  },
  {
   "cell_type": "markdown",
   "metadata": {},
   "source": [
    "## Assessment"
   ]
  },
  {
   "cell_type": "markdown",
   "metadata": {},
   "source": [
    "### Predicting"
   ]
  },
  {
   "cell_type": "code",
   "execution_count": 11,
   "metadata": {
    "scrolled": false
   },
   "outputs": [],
   "source": [
    "# Predict spectrum (full model):\n",
    "X_n_test_pred = model.predict(X_n_test)\n",
    "# Predict parameters (encoder only):\n",
    "y_test_pred = encoder.predict(X_n_test)"
   ]
  },
  {
   "cell_type": "markdown",
   "metadata": {},
   "source": [
    "### Comparing: prediction _vs_ true"
   ]
  },
  {
   "cell_type": "code",
   "execution_count": 12,
   "metadata": {
    "scrolled": true
   },
   "outputs": [
    {
     "data": {
      "image/png": "[encoded data removed]",
      "text/plain": [
       "<Figure size 576x432 with 4 Axes>"
      ]
     },
     "metadata": {
      "needs_background": "light"
     },
     "output_type": "display_data"
    }
   ],
   "source": [
    "# Plotting a few test examples:\n",
    "import random\n",
    "\n",
    "fig, axes = plt.subplots(2,2, figsize=(8,6))\n",
    "axes = axes.flatten()\n",
    "\n",
    "for i, ax in enumerate(axes):\n",
    "\n",
    "    j = random.randint(0, len(X_n_test))\n",
    "\n",
    "    ax.plot(wave_mu, X_n_test[j], label='original')\n",
    "    ax.plot(wave_mu, X_n_test_pred[j], label='model')\n",
    "    ax.set_xscale('log')\n",
    "    ax.legend()"
   ]
  },
  {
   "cell_type": "code",
   "execution_count": 13,
   "metadata": {},
   "outputs": [
    {
     "data": {
      "image/png": "[encoded data removed]",
      "text/plain": [
       "<Figure size 576x432 with 4 Axes>"
      ]
     },
     "metadata": {
      "needs_background": "light"
     },
     "output_type": "display_data"
    }
   ],
   "source": [
    "y_test = np.array([np.fromiter(params.values(), dtype=float) for params in Y_test])\n",
    "# converting dictionary to np.array\n",
    "\n",
    "y_params = list(Y_test[0].keys())\n",
    "# parameter names: the same for all spectra (using the first)\n",
    "\n",
    "fig, axes = plt.subplots(2,2, figsize=(8,6))\n",
    "axes = axes.flatten()\n",
    "\n",
    "for i, ax in enumerate(axes):\n",
    "# i = parameter index\n",
    "\n",
    "    if i+1 > len(y_params):\n",
    "    # to delete extra panels in case we plot more than 4 parameters\n",
    "        fig.delaxes(ax)\n",
    "\n",
    "    min_ax, max_ax = np.min(y_test[:,i]), np.max(y_test[:,i])\n",
    "    # 1-to-1 line:\n",
    "    xx = np.linspace(min_ax, max_ax, 100)\n",
    "    ax.plot(xx, xx, c=\"grey\", linestyle='--')\n",
    "\n",
    "    ax.scatter(y_test[:,i], y_test_pred[:,i])\n",
    "    ax.set_title(y_params[i])\n",
    "    ax.set_xlabel('true')\n",
    "    ax.set_ylabel('predicted')\n",
    "    ax.set_xlim([min_ax, max_ax])\n",
    "    #ax.set_ylim([min_ax, max_ax])\n",
    "\n",
    "    #ax.set_aspect('equal', 'box')\n",
    "\n",
    "fig.tight_layout()\n",
    "plt.show()"
   ]
  },
  {
   "cell_type": "code",
   "execution_count": null,
   "metadata": {},
   "outputs": [],
   "source": [
    "###EOF"
   ]
  }
 ],
 "metadata": {
  "kernelspec": {
   "display_name": "Python 3 (ipykernel)",
   "language": "python",
   "name": "python3"
  },
  "language_info": {
   "codemirror_mode": {
    "name": "ipython",
    "version": 3
   },
   "file_extension": ".py",
   "mimetype": "text/x-python",
   "name": "python",
   "nbconvert_exporter": "python",
   "pygments_lexer": "ipython3",
   "version": "3.8.10"
  },
  "toc": {
   "base_numbering": 1,
   "nav_menu": {},
   "number_sections": true,
   "sideBar": true,
   "skip_h1_title": true,
   "title_cell": "Table of Contents",
   "title_sidebar": "Contents",
   "toc_cell": false,
   "toc_position": {
    "height": "calc(100% - 180px)",
    "left": "10px",
    "top": "150px",
    "width": "320px"
   },
   "toc_section_display": true,
   "toc_window_display": true
  }
 },
 "nbformat": 4,
 "nbformat_minor": 2
}
