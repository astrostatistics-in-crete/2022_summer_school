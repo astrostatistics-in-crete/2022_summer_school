{
 "cells": [
  {
   "cell_type": "markdown",
   "id": "de3c4b8b",
   "metadata": {},
   "source": [
    "<font size=6>**Deep Learning**</font>"
   ]
  },
  {
   "cell_type": "markdown",
   "id": "3beb5de3",
   "metadata": {},
   "source": [
    "**_Deep Learning_** is a type of Machine Learning which is characterized by being **deep**.\n",
    "\n",
    "Meaning, it uses **multiple layers** to process the input information (Figure 0).\n",
    "\n",
    "<table><tr>\n",
    "    <td width=640>\n",
    "        <img src=\"images/Simple_vs_Deep.png\">\n",
    "        <center>\n",
    "            <br>\n",
    "            Figure 0.  A simple <i>feedforward</i> Neural Network compared with a Deep <i>feedforward</i> Neural Network.<br>\n",
    "            (From <a href=\"https://thedatascientist.com/what-deep-learning-is-and-isnt/\">here</a>)\n",
    "        </center>\n",
    "    </td>\n",
    "</tr></table>\n",
    "\n",
    "The actual way the depth is designed can be very different. It could be achieved e.g. by **stacking** sequential layers (_feedforward neural networks_), via **recurrent** layers (_recurrent neural networks_), via a \"**mix**\" of these two approaches (_U-nets_), and many other ways.\n",
    "\n",
    "Don't worry: we will explain how to _computationally_ create neurons/layers [later](#Generic_Architecture_and_Neurons)."
   ]
  },
  {
   "cell_type": "markdown",
   "id": "429f7b2f",
   "metadata": {},
   "source": [
    "# Why Deep Learning is cool"
   ]
  },
  {
   "cell_type": "markdown",
   "id": "f53866ee",
   "metadata": {},
   "source": [
    "It is not, we are geeks, and that's the truth.\n",
    "\n",
    "However ... we do live in the era of \"Big Data\":"
   ]
  },
  {
   "cell_type": "code",
   "execution_count": 1,
   "id": "028131ad",
   "metadata": {},
   "outputs": [
    {
     "data": {
      "text/html": [
       "<div>\n",
       "<style scoped>\n",
       "    .dataframe tbody tr th:only-of-type {\n",
       "        vertical-align: middle;\n",
       "    }\n",
       "\n",
       "    .dataframe tbody tr th {\n",
       "        vertical-align: top;\n",
       "    }\n",
       "\n",
       "    .dataframe thead th {\n",
       "        text-align: right;\n",
       "    }\n",
       "</style>\n",
       "<table border=\"1\" class=\"dataframe\">\n",
       "  <thead>\n",
       "    <tr style=\"text-align: right;\">\n",
       "      <th></th>\n",
       "      <th>Sky Survey Project</th>\n",
       "      <th>First Light</th>\n",
       "      <th>Velocty (GB/day)</th>\n",
       "      <th>Volume (TB)</th>\n",
       "    </tr>\n",
       "  </thead>\n",
       "  <tbody>\n",
       "    <tr>\n",
       "      <th>0</th>\n",
       "      <td>2MASS</td>\n",
       "      <td>1997</td>\n",
       "      <td>20</td>\n",
       "      <td>25</td>\n",
       "    </tr>\n",
       "    <tr>\n",
       "      <th>1</th>\n",
       "      <td>Sloan Digital Sky Survey (SDSS)</td>\n",
       "      <td>2000</td>\n",
       "      <td>200</td>\n",
       "      <td>50</td>\n",
       "    </tr>\n",
       "    <tr>\n",
       "      <th>2</th>\n",
       "      <td>Large Synoptic Survey Telescope (LSST)</td>\n",
       "      <td>2023</td>\n",
       "      <td>30000</td>\n",
       "      <td>200000</td>\n",
       "    </tr>\n",
       "    <tr>\n",
       "      <th>3</th>\n",
       "      <td>Square Kilometer Array (SKA)</td>\n",
       "      <td>2027</td>\n",
       "      <td>150000</td>\n",
       "      <td>4600000</td>\n",
       "    </tr>\n",
       "  </tbody>\n",
       "</table>\n",
       "</div>"
      ],
      "text/plain": [
       "                       Sky Survey Project  First Light  Velocty (GB/day)  \\\n",
       "0                                   2MASS         1997                20   \n",
       "1         Sloan Digital Sky Survey (SDSS)         2000               200   \n",
       "2  Large Synoptic Survey Telescope (LSST)         2023             30000   \n",
       "3            Square Kilometer Array (SKA)         2027            150000   \n",
       "\n",
       "   Volume (TB)  \n",
       "0           25  \n",
       "1           50  \n",
       "2       200000  \n",
       "3      4600000  "
      ]
     },
     "metadata": {},
     "output_type": "display_data"
    }
   ],
   "source": [
    "import pandas as pd\n",
    "\n",
    "df_surveys = pd.DataFrame([\n",
    "    ['2MASS',                                  1997,    20, 25.4],\n",
    "    ['Sloan Digital Sky Survey (SDSS)',        2000,   200, 50],\n",
    "    ['Large Synoptic Survey Telescope (LSST)', 2023,  30e3, 200e3],\n",
    "    ['Square Kilometer Array (SKA)',           2027, 150e3, 4.6e6]\n",
    "], columns=['Sky Survey Project', 'First Light', 'Velocty (GB/day)', 'Volume (TB)']).reset_index(drop=True)\n",
    "\n",
    "df_surveys[df_surveys.columns[1:]] = df_surveys[df_surveys.columns[1:]].astype(int)\n",
    "\n",
    "display(df_surveys)"
   ]
  },
  {
   "cell_type": "code",
   "execution_count": 15,
   "id": "c3e3b703",
   "metadata": {},
   "outputs": [
    {
     "data": {
      "text/html": [
       "\n",
       "<script>\n",
       "    require.config({\n",
       "        paths: {\n",
       "            'chartXkcd':'https://cdn.jsdelivr.net/npm/chart.xkcd@1.1/dist/chart.xkcd.min'\n",
       "        }\n",
       "    });\n",
       "</script>\n",
       "\n",
       "<div id=\"f4e64d2d83ac43939fac690bfc930d41\" class=\"chart-container\" style=\"width: 500px\">\n",
       "        <svg id=\"chart_f4e64d2d83ac43939fac690bfc930d41\"></svg>\n",
       "    </div>\n",
       "    <script>\n",
       "        require(['chartXkcd'], function(chartXkcd) {\n",
       "            const svg_f4e64d2d83ac43939fac690bfc930d41 = document.querySelector('#chart_f4e64d2d83ac43939fac690bfc930d41')\n",
       "            const chart_f4e64d2d83ac43939fac690bfc930d41 = new chartXkcd.Line(svg_f4e64d2d83ac43939fac690bfc930d41, {\"title\": \"Survey size evolution\", \"data\": {\"datasets\": [{\"label\": \"year\", \"data\": [25, 50, 200000, 4600000]}], \"labels\": [1997, 2000, 2023, 2027]}, \"xLabel\": \"Year\", \"yLabel\": \"Volume (TB)\", \"options\": {\"yTickCount\": 3, \"legendPosition\": 1}});\n",
       "        })\n",
       "    </script>\n"
      ],
      "text/plain": [
       "<cutecharts.render.engine.HTML at 0x7fa4162d7ca0>"
      ]
     },
     "execution_count": 15,
     "metadata": {},
     "output_type": "execute_result"
    }
   ],
   "source": [
    "import cutecharts.charts as ctc\n",
    "\n",
    "chart = ctc.Line(\"Survey size evolution\", width='500px')\n",
    "chart.set_options(labels=list(df_surveys['First Light']), x_label='Year', y_label='Volume (TB)')\n",
    "chart.add_series('year',list(df_surveys['Volume (TB)']))\n",
    "chart.render_notebook()"
   ]
  },
  {
   "cell_type": "markdown",
   "id": "5ec6c322",
   "metadata": {},
   "source": [
    "We cannot expect to humanly inspect these data and derive the intuition for the rules which categorize them.\n",
    "\n",
    "$\\rightarrow$ We have to leverage on:\n",
    "\n",
    "- the large number of examples\n",
    "\n",
    "- algorithms that can abstract arbitrarily complex rules"
   ]
  },
  {
   "cell_type": "markdown",
   "id": "cf238b07",
   "metadata": {},
   "source": [
    "## So how does Deep Learning address big data issues?"
   ]
  },
  {
   "cell_type": "markdown",
   "id": "1bfffd77",
   "metadata": {},
   "source": [
    "The basic idea is that each layer constructs **new features**.\n",
    "\n",
    "In practice, Deep Learning systems include implicit **feature engeneering** _on top_ of the learning task (e.g., classificaton or regression).<br>\n",
    "\n",
    "In this way, they are a step forward with respect to \"classic\" ML approaches (Figure 1).\n",
    "\n",
    "<table><tr>\n",
    "    <td width=480>\n",
    "        <img src=\"images/Deep_Feature_Engeneering.png\">\n",
    "        <center>\n",
    "            <br>\n",
    "            Figure 1.  A Deep Neural Network seen as a combination of feature extractor + learner (e.g. classifier or regressor).<br>\n",
    "            (From <a href=\"https://stats.stackexchange.com/questions/562466/neural-networks-automatically-do-feature-engineering-how/\">here</a>)\n",
    "        </center>\n",
    "    </td>\n",
    "</tr></table>\n",
    "\n",
    "From this perspective, the connections between the network neurons represent **potential correlations** betweeen features.\n",
    "\n",
    "<u>What are the implications?</u>\n",
    "\n",
    "The scientist **does _not_ have to get detailed insight of the problem** to build the proper features or select the proper classifier<br>\n",
    "$\\rightarrow$ the DL system does it all for us!\n",
    "\n",
    "This comes particularly handy when we deal with databases with **millions of objects** and **hundreds of features**!\n",
    "\n",
    "<u>References</u>\n",
    "\n",
    "In case you are curious, it has been proven that Deep Neural Networks are indeed \"**_universal approximators_**\"\n",
    "(e.g. [Kurt Hornik (1991), Neural Networks, 4, 2](https://www.sciencedirect.com/science/article/abs/pii/089360809190009T?via%3Dihub)), meaning that they can in principle explain any linear or non-linear relation beteen the features and the target."
   ]
  },
  {
   "cell_type": "markdown",
   "id": "43b71c64",
   "metadata": {},
   "source": [
    "## Some example applications"
   ]
  },
  {
   "cell_type": "markdown",
   "id": "bdb9ba55",
   "metadata": {},
   "source": [
    "TwoMinutesPapers"
   ]
  },
  {
   "cell_type": "markdown",
   "id": "67ff7234",
   "metadata": {},
   "source": [
    "## Deep Learning in Astronomy\n"
   ]
  },
  {
   "cell_type": "markdown",
   "id": "71537e40",
   "metadata": {},
   "source": [
    "- examples of tough problem to solve without DL\n",
    "\n",
    "Deep Learning applications are **exploding** in Astronomy (Figure 2)!\n",
    "\n",
    "\n",
    "<table><tr>\n",
    "    <td width=480>\n",
    "        <img src=\"images/Deep_Learning_astro_papers.png\">\n",
    "        <center>\n",
    "            <br>\n",
    "            Figure 2. Number of astronomy papers containing the text \"Deep Learning\" in their abstracts.<br>\n",
    "            (From <a href=\"https://ui.adsabs.harvard.edu\">NASA ADS</a>)\n",
    "        </center>\n",
    "    </td>\n",
    "</tr></table>\n",
    "\n",
    "- CNNs: Dieleman, DeepLens\n",
    "- GANs: \n",
    "https://ui.adsabs.harvard.edu/abs/2017MNRAS.467L.110S/abstract<br>\n",
    "https://ui.adsabs.harvard.edu/abs/2018ComAC...5....4R/abstract\n",
    "- RNNs: https://ui.adsabs.harvard.edu/abs/2020ApJ...898...46D/abstract\n"
   ]
  },
  {
   "cell_type": "markdown",
   "id": "a3c911c5",
   "metadata": {},
   "source": [
    "# Neural Networks Components"
   ]
  },
  {
   "cell_type": "markdown",
   "id": "3e1a8af2",
   "metadata": {},
   "source": [
    "## Generic Architecture and Neurons\n",
    "<a id='Generic_Architecture_and_Neurons'></a>"
   ]
  },
  {
   "cell_type": "markdown",
   "id": "d7ff85da",
   "metadata": {},
   "source": [
    "\n",
    "Nomenclature\n",
    "\n",
    "Layers:\n",
    "- input/hidden/output"
   ]
  },
  {
   "cell_type": "markdown",
   "id": "56018388",
   "metadata": {},
   "source": [
    "## Weights and Biases"
   ]
  },
  {
   "cell_type": "markdown",
   "id": "b925069b",
   "metadata": {},
   "source": [
    "<table><tr>\n",
    "    <td width=640>\n",
    "        <img src=\"images/Weights_and_Biases.png\">\n",
    "        <center>\n",
    "            <br>\n",
    "            Figure 4.  How the information is propagated through a neuron.<br>\n",
    "            (From <a href=\"https://ui.adsabs.harvard.edu\">here</a>)\n",
    "        </center>\n",
    "    </td>\n",
    "</tr></table>"
   ]
  },
  {
   "cell_type": "markdown",
   "id": "06b954f9",
   "metadata": {},
   "source": [
    "## Activation Functions"
   ]
  },
  {
   "cell_type": "markdown",
   "id": "ba13763d",
   "metadata": {},
   "source": [
    "## NN Architecture Variants"
   ]
  },
  {
   "cell_type": "markdown",
   "id": "076be32e",
   "metadata": {},
   "source": [
    "# Training NNs"
   ]
  },
  {
   "cell_type": "markdown",
   "id": "da3e2700",
   "metadata": {},
   "source": [
    "## Gradient Descent and Loss"
   ]
  },
  {
   "cell_type": "markdown",
   "id": "df557462",
   "metadata": {},
   "source": [
    "## Backpropagation\n",
    "\n",
    "- and optimization algos"
   ]
  },
  {
   "cell_type": "markdown",
   "id": "cf6cbdbb",
   "metadata": {},
   "source": [
    "## Validation curves\n",
    "\n",
    "- overfitting/underfitting\n",
    "\n",
    "https://machinelearningmastery.com/learning-curves-for-diagnosing-machine-learning-model-performance/"
   ]
  },
  {
   "cell_type": "markdown",
   "id": "23dc6b08",
   "metadata": {},
   "source": [
    "# Supervised Learning"
   ]
  },
  {
   "cell_type": "markdown",
   "id": "a589c623",
   "metadata": {},
   "source": [
    "## CNNs\n",
    "\n",
    "- architecture\n",
    "\n",
    "- conv layers\n",
    "\n",
    "- activation \n",
    "\n",
    "- pooling\n",
    "\n",
    "- fully connected layers\n",
    "\n",
    "- Dropout\n",
    "\n",
    "- BatchNorm"
   ]
  },
  {
   "cell_type": "markdown",
   "id": "d413d815",
   "metadata": {},
   "source": [
    "## Transfer Learning"
   ]
  },
  {
   "cell_type": "markdown",
   "id": "f61eb264",
   "metadata": {},
   "source": [
    "# Domain Adaptation"
   ]
  },
  {
   "cell_type": "markdown",
   "id": "26bc81d5",
   "metadata": {},
   "source": [
    "## Autoencoders"
   ]
  },
  {
   "cell_type": "markdown",
   "id": "955efcdd",
   "metadata": {},
   "source": [
    "## GANs\n",
    "\n",
    "- For deconvolution: Schawinski, Kevin, et al. 2017, \"Generative Adversarial Networks recover features in astrophysical images of\n",
    "galaxies beyond the deconvolution limit.\" arXiv preprint arXiv:1702.00403 (2017)."
   ]
  },
  {
   "cell_type": "markdown",
   "id": "f3660889",
   "metadata": {},
   "source": [
    "# Libraries"
   ]
  },
  {
   "cell_type": "markdown",
   "id": "466e36be",
   "metadata": {},
   "source": [
    "\n",
    "## TensorFlow"
   ]
  },
  {
   "cell_type": "markdown",
   "id": "ba3886c2",
   "metadata": {},
   "source": [
    "## Keras\n",
    "\n",
    "- Sequential API\n",
    "\n",
    "- Functional API"
   ]
  }
 ],
 "metadata": {
  "kernelspec": {
   "display_name": "Python 3 (ipykernel)",
   "language": "python",
   "name": "python3"
  },
  "language_info": {
   "codemirror_mode": {
    "name": "ipython",
    "version": 3
   },
   "file_extension": ".py",
   "mimetype": "text/x-python",
   "name": "python",
   "nbconvert_exporter": "python",
   "pygments_lexer": "ipython3",
   "version": "3.8.10"
  },
  "toc": {
   "base_numbering": 1,
   "nav_menu": {},
   "number_sections": true,
   "sideBar": true,
   "skip_h1_title": false,
   "title_cell": "Table of Contents",
   "title_sidebar": "Contents",
   "toc_cell": false,
   "toc_position": {
    "height": "calc(100% - 180px)",
    "left": "10px",
    "top": "150px",
    "width": "319.594px"
   },
   "toc_section_display": true,
   "toc_window_display": true
  }
 },
 "nbformat": 4,
 "nbformat_minor": 5
}
