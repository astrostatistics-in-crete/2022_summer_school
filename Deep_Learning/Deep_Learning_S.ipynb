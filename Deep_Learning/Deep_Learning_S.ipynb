{
 "cells": [
  {
   "cell_type": "markdown",
   "id": "7bf5d546",
   "metadata": {},
   "source": [
    "<font size=6>**Deep Learning**</font>"
   ]
  },
  {
   "cell_type": "markdown",
   "id": "c80f3eba",
   "metadata": {},
   "source": [
    "# Why Deep Learning is cool"
   ]
  },
  {
   "cell_type": "markdown",
   "id": "4ffcb5e4",
   "metadata": {},
   "source": [
    "## Some example applications\n",
    "\n",
    "- GANs\n",
    "- RNNs\n",
    "\n",
    "- evolution of DL papers/year"
   ]
  },
  {
   "cell_type": "markdown",
   "id": "5de4e1f0",
   "metadata": {},
   "source": [
    "## DL and big Data in Astronomy\n",
    "\n",
    "- example of tough problem to solve without DL"
   ]
  },
  {
   "cell_type": "markdown",
   "id": "7361d84d",
   "metadata": {},
   "source": [
    "# Neural Networks Components"
   ]
  },
  {
   "cell_type": "markdown",
   "id": "79c04ad8",
   "metadata": {},
   "source": [
    "## Generic Architecture and Neurons"
   ]
  },
  {
   "cell_type": "markdown",
   "id": "b0962525",
   "metadata": {},
   "source": [
    "## Weights and Biases"
   ]
  },
  {
   "cell_type": "markdown",
   "id": "0760b910",
   "metadata": {},
   "source": [
    "## Activation Functions"
   ]
  },
  {
   "cell_type": "markdown",
   "id": "1a167a0b",
   "metadata": {},
   "source": [
    "## NN Architecture Variants"
   ]
  },
  {
   "cell_type": "markdown",
   "id": "f88471e6",
   "metadata": {},
   "source": [
    "# Training NNs"
   ]
  },
  {
   "cell_type": "markdown",
   "id": "edc233fc",
   "metadata": {},
   "source": [
    "## Gradient Descent and Loss"
   ]
  },
  {
   "cell_type": "markdown",
   "id": "103a12a0",
   "metadata": {},
   "source": [
    "## Backpropagation\n",
    "\n",
    "- and optimization algos"
   ]
  },
  {
   "cell_type": "markdown",
   "id": "e1ce4984",
   "metadata": {},
   "source": [
    "## Validation curves\n",
    "\n",
    "- overfitting/underfitting"
   ]
  },
  {
   "cell_type": "markdown",
   "id": "74252aed",
   "metadata": {},
   "source": [
    "# Supervised Learning"
   ]
  },
  {
   "cell_type": "markdown",
   "id": "b2f68ce2",
   "metadata": {},
   "source": [
    "## CNNs\n",
    "\n",
    "- architecture\n",
    "\n",
    "- conv layers\n",
    "\n",
    "- activation \n",
    "\n",
    "- pooling\n",
    "\n",
    "- fully connected layers\n",
    "\n",
    "- Dropout\n",
    "\n",
    "- BatchNorm"
   ]
  },
  {
   "cell_type": "markdown",
   "id": "48bcbc84",
   "metadata": {},
   "source": [
    "## Transfer Learning"
   ]
  },
  {
   "cell_type": "markdown",
   "id": "e7681f6f",
   "metadata": {},
   "source": [
    "# Domain Adaptation"
   ]
  },
  {
   "cell_type": "markdown",
   "id": "b789b40f",
   "metadata": {},
   "source": [
    "## GANs\n",
    "\n",
    "- For deconvolution: Schawinski, Kevin, et al. 2017"
   ]
  },
  {
   "cell_type": "markdown",
   "id": "b7cca4df",
   "metadata": {},
   "source": [
    "# Libraries"
   ]
  },
  {
   "cell_type": "markdown",
   "id": "cd7ea88f",
   "metadata": {},
   "source": [
    "\n",
    "## TensorFlow"
   ]
  },
  {
   "cell_type": "markdown",
   "id": "d61c058f",
   "metadata": {},
   "source": [
    "## Keras\n",
    "\n",
    "- Sequential API\n",
    "\n",
    "- Functional API"
   ]
  }
 ],
 "metadata": {
  "kernelspec": {
   "display_name": "Python 3 (ipykernel)",
   "language": "python",
   "name": "python3"
  },
  "language_info": {
   "codemirror_mode": {
    "name": "ipython",
    "version": 3
   },
   "file_extension": ".py",
   "mimetype": "text/x-python",
   "name": "python",
   "nbconvert_exporter": "python",
   "pygments_lexer": "ipython3",
   "version": "3.8.10"
  },
  "toc": {
   "base_numbering": 1,
   "nav_menu": {},
   "number_sections": true,
   "sideBar": true,
   "skip_h1_title": false,
   "title_cell": "Table of Contents",
   "title_sidebar": "Contents",
   "toc_cell": false,
   "toc_position": {},
   "toc_section_display": true,
   "toc_window_display": true
  }
 },
 "nbformat": 4,
 "nbformat_minor": 5
}
