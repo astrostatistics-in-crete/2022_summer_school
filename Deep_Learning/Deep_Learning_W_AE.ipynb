{
 "cells": [
  {
   "cell_type": "markdown",
   "metadata": {},
   "source": [
    "<font size=6>**Deep Learning - Workshop: Autoencoders**</font>"
   ]
  },
  {
   "cell_type": "markdown",
   "metadata": {},
   "source": [
    "# What are Autoencoders?"
   ]
  },
  {
   "cell_type": "markdown",
   "metadata": {},
   "source": [
    "**Autoencoders (AE)** are <u>unsupervised</u> deep neural networks that:\n",
    "1. compress the input\n",
    "2. decompress it\n",
    "\n",
    "and that are trained to learn to **match** input and output.\n",
    "\n",
    "<table><tr>\n",
    "    <td width=640>\n",
    "        <img src=\"images/Autoencoder.png\">\n",
    "        <center>\n",
    "            <br>\n",
    "            Figure 1.  A prototypical Aoutoencoder architecture.\n",
    "            <br>\n",
    "            (From <a href=\"https://www.assemblyai.com/blog/introduction-to-variational-autoencoders-using-keras/\">here</a>)\n",
    "        </center>\n",
    "    </td>\n",
    "</tr></table>\n",
    "\n",
    "The _compressed_ representation is also known as **latent space** or **bottleneck**.\n",
    "\n",
    "<font size=3><u>**Why bother?**</u><font>\n",
    "     \n",
    "What is the point of reconstructing the input if ... we already have it?\n",
    "    \n",
    "<table><tr>\n",
    "    <td width=300>\n",
    "        <img src=\"images/But_Why.gif\">\n",
    "    </td>\n",
    "</tr></table>    \n",
    "    \n",
    "For 2 possible uses:\n",
    "    \n",
    "- A) We can learn a **self-consistent compressed** representation of the input $\\rightarrow$ decompressable with minimum information loss\n",
    "- B) We can **output a noise-free** version of the input\n",
    "    \n",
    "E.g. (case _B_),  [Gheller \\& Vazza 2022, MNRAS, 509, 990](https://ui.adsabs.harvard.edu/abs/2022MNRAS.509..990G/abstract) use an AE to de-noise radio images:\n",
    "\n",
    "<table><tr>\n",
    "    <td width=1200>\n",
    "        <img src=\"images/Autoencoder_Denoising.png\">\n",
    "        <center>\n",
    "            <br>\n",
    "            Figure 2.  An autoencoder used to de-noise radio images.\n",
    "            <br>\n",
    "            (Adapted from Figure 10 of <a href=\"https://ui.adsabs.harvard.edu/abs/2022MNRAS.509..990G/abstract\">Gheller \\& Vazza (2022)</a>)\n",
    "        </center>\n",
    "    </td>\n",
    "</tr></table>"
   ]
  },
  {
   "cell_type": "markdown",
   "metadata": {},
   "source": [
    "## How we will use AE in this notebook"
   ]
  },
  {
   "cell_type": "markdown",
   "metadata": {},
   "source": [
    "We want to use an AE for **paramteric fitting**.\n",
    "\n",
    "Instead of _encoding_ and _decoding_ with neural networks, we want to:\n",
    "\n",
    "- _encode_ $\\leftarrow$ with a NN\n",
    "- _decode_ $\\leftarrow$ with parameteric model\n",
    "\n",
    "That is, we want the latent space _not_ to be meaningless variables but to be <u>parameters</u> of a model.\n",
    "\n",
    "E.g., see [Aragon-Calvo et al. 2020, MNRAS, 498, 3713](https://ui.adsabs.harvard.edu/abs/2020MNRAS.498.3713A/abstract):\n",
    "    \n",
    "<table><tr>\n",
    "    <td width=640>\n",
    "        <img src=\"images/Aragon_Semantic_Autoencoder.png\">\n",
    "        <center>\n",
    "            <br>\n",
    "            Figure 3. Fitting of galaxy structural parameters via Autoencoding.<br>\n",
    "            (From <a herf=\"https://ui.adsabs.harvard.edu/abs/2018MNRAS.479..415A/abstract\">Ackerman et al. (2017)</a>)\n",
    "        </center>\n",
    "    </td>\n",
    "</tr></table>    \n",
    "\n",
    "They:\n",
    "- _encoded_ images using a CNN\n",
    "- _decoded_ using a parametric model for galaxy radial surface brightness<br>\n",
    "   E.g., the _Sersic_ model:\n",
    "   \n",
    "   $$ I(R) = I_e \\cdot exp \\big(-b_n \\big[ \\big({R \\over R_e}\\big)^{1/n} - 1\\big] \\big) $$\n",
    "   \n",
    "   So they associated the **bottleneck neurons** to these **parameters**:<br>\n",
    "   $\\hat{p_1}$ $\\rightarrow$ $I_e$<br>\n",
    "   $\\hat{p_2}$ $\\rightarrow$ $R_e$<br>\n",
    "   $\\hat{p_3}$ $\\rightarrow$ $n$<br>\n",
    "\n",
    "The AE is then given examples to compress and decompress, and slowly learns to indeed use the **bottleneck neurons** as **parameters** of the Sersic model."
   ]
  },
  {
   "cell_type": "markdown",
   "metadata": {},
   "source": [
    "# Our task: find Black Body parameters of a galaxy spectrum"
   ]
  },
  {
   "cell_type": "markdown",
   "metadata": {},
   "source": [
    "Our data are spectra composed by the <u>sum</u> of 2 **Black Bodies (BB)**:\n",
    "\n",
    "- A stellar BB\n",
    "- A dust BB\n",
    "\n",
    "<table><tr>\n",
    "    <td width=640>\n",
    "        <img src=\"images/spectrum_example.png\">\n",
    "        <center>\n",
    "            <br>\n",
    "            Figure 4. One example of the data for this exercise.<br>\n",
    "        </center>\n",
    "    </td>\n",
    "</tr></table> \n",
    "\n",
    "Each component is following Planck's law:\n",
    "\n",
    "$$ B_\\nu(N, T) = N { 2h \\nu^3~/~c^2 \\over exp(h\\nu~/~kT) - 1} $$\n",
    "\n",
    "and it is therefore parametrized only by the **Normalization N** and the **Temperature (T)**: we have **4 parameters** in total.\n",
    "\n",
    "\n",
    "<font size=3><u>**Objective**</u><font>\n",
    "\n",
    "    Our objective is to find N_star, T_star, N_dust, T_dust  given an input [total] spectrum.\n",
    "    \n",
    "- - - \n",
    "    \n",
    "The data are fake spectra generated by sampling the 4 parameters.<br>\n",
    "The sampled distributions are shown in the figure:\n",
    "    \n",
    "\n",
    "<table><tr>\n",
    "    <td width=640>\n",
    "        <img src=\"images/spectra_params_distribution.jpg\">\n",
    "        <center>\n",
    "            <br>\n",
    "            Figure 5. Distribution of the parameters across the whole dataset.<br>\n",
    "        </center>\n",
    "    </td>\n",
    "</tr></table> "
   ]
  },
  {
   "cell_type": "markdown",
   "metadata": {},
   "source": [
    "## Loading and visualizing data"
   ]
  },
  {
   "cell_type": "markdown",
   "metadata": {},
   "source": [
    "The data are composed of:\n",
    "- $X$: the spectra\n",
    "- $Y$: the parameter values used to generate the spectra (metadata)\n",
    "\n",
    "Each **spectrum** is stored as an array of 100 elements: each element is the flux at a given wavelength.\n",
    "\n",
    "The **wavelength** is provided in a separate  array of the same length: each element is a wavelenght in $\\mu{}$m.\n",
    "\n",
    "<table><tr>\n",
    "    <td width=640>\n",
    "        <img src=\"images/spectrum_arrays.png\">\n",
    "        <center>\n",
    "            <br>\n",
    "            Figure 6. Spectrum and wavelength arrays.<br>\n",
    "        </center>\n",
    "    </td>\n",
    "</tr></table> "
   ]
  },
  {
   "cell_type": "code",
   "execution_count": 1,
   "metadata": {},
   "outputs": [],
   "source": [
    "import os\n",
    "from pathlib import Path\n",
    "import ipynbname\n",
    "import glob\n",
    "import pickle\n",
    "import numpy as np\n",
    "from prettytable import PrettyTable\n",
    "from matplotlib import pyplot as plt\n",
    "import pandas as pd\n",
    "from matplotlib.pyplot import cm"
   ]
  },
  {
   "cell_type": "code",
   "execution_count": 2,
   "metadata": {},
   "outputs": [],
   "source": [
    "# Location of data relative to this notebook (i.e., the \"data\" folder):\n",
    "script_path = str(Path().absolute())\n",
    "path_spectra = script_path + \"/data/spectra_noabs\""
   ]
  },
  {
   "cell_type": "code",
   "execution_count": 3,
   "metadata": {},
   "outputs": [
    {
     "name": "stdout",
     "output_type": "stream",
     "text": [
      "Total number of available spectra: 10000\n",
      "User limit to the number of spectra: 10000\n"
     ]
    }
   ],
   "source": [
    "n_spectra = 10000\n",
    "# number of spectra to use for this exercise [max=10 000]\n",
    "# (start with a small number to speed up testing, then increase to the max to \n",
    "# train the final model)\n",
    "\n",
    "spectrum_files = glob.glob(path_spectra+'/*.pkl')\n",
    "print('Total number of available spectra:', len(spectrum_files))\n",
    "\n",
    "# Capping number of spectra:\n",
    "spectrum_files = spectrum_files[:n_spectra]\n",
    "print('User limit to the number of spectra:', n_spectra)\n",
    "\n",
    "# Creating data structure:\n",
    "X = []\n",
    "Y = []\n",
    "\n",
    "for spectrum_file in spectrum_files:\n",
    "    with open(spectrum_file, 'rb') as fh:\n",
    "        spectrum = pickle.load(fh)\n",
    "\n",
    "    spectrum_data     = spectrum['data']\n",
    "    spectrum_metadata = spectrum['metadata']\n",
    "\n",
    "    X.append(spectrum_data['flux_Jy'])\n",
    "    Y.append(spectrum_metadata)\n",
    "\n",
    "wave_mu = spectrum_data['wave_mu']\n",
    "# the same for all spectra (using here the last spectrum)\n",
    "    \n",
    "X = np.array(X)"
   ]
  },
  {
   "cell_type": "markdown",
   "metadata": {},
   "source": [
    "### Displaying a few examples"
   ]
  },
  {
   "cell_type": "code",
   "execution_count": 4,
   "metadata": {},
   "outputs": [
    {
     "data": {
      "image/png": "[encoded data removed]",
      "text/plain": [
       "<Figure size 1152x288 with 3 Axes>"
      ]
     },
     "metadata": {
      "needs_background": "light"
     },
     "output_type": "display_data"
    }
   ],
   "source": [
    "colors = cm.tab10(np.linspace(0, 1, 10))\n",
    "\n",
    "n_cols = 3\n",
    "fig, axes = plt.subplots(1, n_cols, figsize=(16,4)) \n",
    "\n",
    "for i in range(n_cols):\n",
    "    ax = axes[i]\n",
    "    spectrum = X[i]\n",
    "    metadata = Y[i]\n",
    "    T_star = metadata['T_star']\n",
    "    N_star = metadata['N_star']\n",
    "    T_dust = metadata['T_dust']\n",
    "    N_dust = metadata['N_dust']\n",
    "    \n",
    "    label = str('%4s: N=%-6.1e | T=%sK\\n%4s: N=%-4.2f | T=%sK' %\n",
    "                (\"star\", N_star, T_star,\"dust\", N_dust, T_dust))\n",
    "\n",
    "    ax.plot(wave_mu, spectrum, label=label, c=colors[i])\n",
    "\n",
    "    ax.set_xscale('log')\n",
    "    ax.set_yscale('log')\n",
    "    ax.set_xlabel('wavelengh [$\\mu$m]')\n",
    "    ax.set_ylabel('Flux [$Jy$]')\n",
    "    \n",
    "    ax.legend(loc='upper center', bbox_to_anchor=(0.5, 1.15),\n",
    "               ncol=2, fancybox=True, shadow=True)            \n",
    "    \n",
    "plt.show()    "
   ]
  },
  {
   "cell_type": "markdown",
   "metadata": {},
   "source": [
    "## Preparing data"
   ]
  },
  {
   "cell_type": "markdown",
   "metadata": {},
   "source": [
    "### Splitting"
   ]
  },
  {
   "cell_type": "code",
   "execution_count": 5,
   "metadata": {},
   "outputs": [
    {
     "name": "stdout",
     "output_type": "stream",
     "text": [
      "+-------------------------------+\n",
      "|  Train/valid/test data shape  |\n",
      "+-------+-------------+---------+\n",
      "|       |      X      |    y    |\n",
      "+-------+-------------+---------+\n",
      "| train | (6300, 100) | (6300,) |\n",
      "| valid | (2700, 100) | (2700,) |\n",
      "|  test | (1000, 100) | (1000,) |\n",
      "+-------+-------------+---------+\n"
     ]
    }
   ],
   "source": [
    "from sklearn.model_selection import train_test_split\n",
    "\n",
    "# Splitting dataset into train/validation/test sets:\n",
    "X_rest, X_test, Y_rest, Y_test = train_test_split(X, Y, test_size=0.1, random_state=1)\n",
    "X_train, X_valid, Y_train, Y_valid = train_test_split(X_rest, Y_rest, test_size=0.3, random_state=1)\n",
    "\n",
    "del X_rest\n",
    "# purging exploited variable to save memory\n",
    "\n",
    "table = PrettyTable()\n",
    "table.title = 'Train/valid/test data shape'\n",
    "table.field_names = ['', 'X', 'y']\n",
    "table.add_row(['train', np.shape(X_train), np.shape(Y_train)])\n",
    "table.add_row(['valid', np.shape(X_valid), np.shape(Y_valid)])\n",
    "table.add_row(['test', np.shape(X_test), np.shape(Y_test)])\n",
    "print(table)"
   ]
  },
  {
   "cell_type": "markdown",
   "metadata": {},
   "source": [
    "### Scaling\n",
    "\n",
    "We want to constrain the data within a small dynamic range, to help the gradient descent.\n",
    "\n",
    "We will spectra fluxes using a simple log10:"
   ]
  },
  {
   "cell_type": "code",
   "execution_count": 22,
   "metadata": {},
   "outputs": [
    {
     "data": {
      "image/png": "[encoded data removed]",
      "text/plain": [
       "<Figure size 432x288 with 1 Axes>"
      ]
     },
     "metadata": {
      "needs_background": "light"
     },
     "output_type": "display_data"
    }
   ],
   "source": [
    "def normalize(X):\n",
    "    X_n = np.log10(X)\n",
    "    return X_n\n",
    "\n",
    "X_n_train = normalize(X_train)\n",
    "X_n_valid = normalize(X_valid)\n",
    "X_n_test  = normalize(X_test)\n",
    "\n",
    "plt.plot(wave_mu, X_n_train[0], label='train example')\n",
    "plt.plot(wave_mu, X_n_valid[0], label='valid example')\n",
    "plt.plot(wave_mu, X_n_test[0], label='test example')\n",
    "plt.xscale('log')\n",
    "\n",
    "plt.xlabel('wavelengh [$\\mu$m]', fontsize=12)\n",
    "plt.ylabel('log Flux', fontsize=12)\n",
    "plt.legend()\n",
    "plt.show()"
   ]
  },
  {
   "cell_type": "markdown",
   "metadata": {},
   "source": [
    "Seem good. Let's procceed."
   ]
  },
  {
   "cell_type": "markdown",
   "metadata": {},
   "source": [
    "# Autoencoder\n",
    "\n",
    "The Autoencoder we want to build looks like this:\n",
    "\n",
    "<table><tr>\n",
    "    <td width=1200>\n",
    "        <img src=\"images/Autoencoder_Spectrum.png\">\n",
    "        <center>\n",
    "            <br>\n",
    "            Figure 7. Autoencoder architecture for this exercise.<br>\n",
    "        </center>\n",
    "    </td>\n",
    "</tr></table> \n",
    "\n",
    "The **Encoder** will be a standard NN.\n",
    "\n",
    "We only have to pay attention to 2 things:\n",
    "\n",
    "  1. **Decoder**<br>\n",
    "  This will be a 1-layer-network that takes 4 neurons, and passes them to a function that makes the sum of 2 Planck curves.<br>\n",
    "  (_one for the stellar, one for the dust component_)\n",
    "  <br>\n",
    "  \n",
    "  2. **Bottleneck**<br>\n",
    "  In order to make sense $-$ before being passed to the the Decoder  $-$ the values at the bottleneck shall be scaled around the physical values of Figure 5.\n",
    "  "
   ]
  },
  {
   "cell_type": "code",
   "execution_count": 7,
   "metadata": {},
   "outputs": [
    {
     "name": "stderr",
     "output_type": "stream",
     "text": [
      "2022-07-09 17:09:32.086544: W tensorflow/stream_executor/platform/default/dso_loader.cc:64] Could not load dynamic library 'libcudart.so.11.0'; dlerror: libcudart.so.11.0: cannot open shared object file: No such file or directory\n",
      "2022-07-09 17:09:32.086566: I tensorflow/stream_executor/cuda/cudart_stub.cc:29] Ignore above cudart dlerror if you do not have a GPU set up on your machine.\n"
     ]
    }
   ],
   "source": [
    "# Packages for autoencoder:\n",
    "from tensorflow.keras.models import Model\n",
    "from tensorflow.keras.layers import Input\n",
    "from tensorflow.keras.layers import Dense\n",
    "from tensorflow.keras.layers import LeakyReLU\n",
    "from tensorflow.keras.layers import BatchNormalization\n",
    "from tensorflow.keras import layers\n",
    "import tensorflow as tf\n",
    "from tensorflow.keras.optimizers import SGD\n",
    "from tensorflow.keras.optimizers import Adam\n",
    "\n",
    "# Packages for Black-Body function:\n",
    "from astropy.modeling.models import BlackBody\n",
    "from astropy import units as u\n",
    "from astropy.visualization import quantity_support"
   ]
  },
  {
   "cell_type": "markdown",
   "metadata": {},
   "source": [
    "<font size=3><u>**1 - Function that defines the composite BB**</u><font>\n",
    "    \n",
    "This is basically the _whole_ **Decoder**.\n",
    "\n",
    "It takes as an input the **4 neurons** at the Bottleneck.    \n",
    "\n",
    "We organize it such that:    \n",
    "    \n",
    "    Neuron 0 = T_star \n",
    "    Neuron 1 = N_star \n",
    "    Neuron 2 = T_dust \n",
    "    Neuron 3 = N_dust \n",
    "\n",
    "It returns the composite BB spectrum:\n",
    "    $$ spectrum = BB_{star} + BB_{dust} $$"
   ]
  },
  {
   "cell_type": "code",
   "execution_count": 8,
   "metadata": {},
   "outputs": [],
   "source": [
    "from keras import backend as K\n",
    "\n",
    "def BuildSpectrum(x):\n",
    "    '''\n",
    "    Returns a composite Black Body, resulting from the sum of two Planck\n",
    "    functions:\n",
    "    - a BB representing the stellar component\n",
    "    - a BB representing the dust    component\n",
    "    \n",
    "    Parameters\n",
    "    ----------\n",
    "    x : tensor\n",
    "        Layer with 4 neurons, representing, in order:\n",
    "            x[0] = T_star\n",
    "            x[1] = N_star\n",
    "            x[2] = T_dust\n",
    "            x[3] = N_dust\n",
    "    \n",
    "    Returns\n",
    "    -------\n",
    "    BB_log10 : tensor\n",
    "        Composite BB_star + BB_dust spectrum\n",
    "    '''\n",
    "        \n",
    "    wave_cm = wave_mu * 1e-4 # cm\n",
    "    wave_cm = tf.expand_dims(wave_cm, axis=0)\n",
    "\n",
    "    T_star = tf.gather(x, [0], axis=-1)\n",
    "    N_star = tf.gather(x, [1], axis=-1)\n",
    "    T_dust = tf.gather(x, [2], axis=-1)\n",
    "    N_dust = tf.gather(x, [3], axis=-1)\n",
    "\n",
    "    # Casting type float32->float64 to increase numerical accuracy:\n",
    "    # (required to properly calculate the tails of the BB)\n",
    "    T_star = tf.cast(T_star, tf.float64)\n",
    "    N_star = tf.cast(N_star, tf.float64)\n",
    "    T_dust = tf.cast(T_dust, tf.float64)\n",
    "    N_dust = tf.cast(N_dust, tf.float64)\n",
    "\n",
    "    def BB(wave_cm, T, N):\n",
    "        '''\n",
    "        Returns a Black Body function evaluated over the <wave_cm> array, in:\n",
    "            ergs/s/cm^2/Hz/sr\n",
    "\n",
    "        Reproduces exactly the function defined as in:\n",
    "            https://docs.astropy.org/en/stable/api/astropy.modeling.physical_models.BlackBody.html\n",
    "        '''\n",
    "\n",
    "        c = 3e10 # cm/sec\n",
    "        freq_Hz = c / wave_cm\n",
    "        h = 6.6261e-27 # cgs\n",
    "        k = 1.3807e-16 # cgs\n",
    "\n",
    "        ones = tf.cast(tf.ones(tf.size(wave_cm)), tf.float64)\n",
    "        numerator   = 2*h*tf.pow(freq_Hz,3)/c**2\n",
    "        denominator = tf.math.exp(h*freq_Hz/(k*T)) - ones\n",
    "\n",
    "        eps= 1e-20\n",
    "        # small additive constant to avoid numerical issues\n",
    "        \n",
    "        BB = N * numerator / denominator + eps\n",
    "        #tf.print(BB)\n",
    "        \n",
    "        return BB\n",
    "        \n",
    "    BB_star = BB(wave_cm, T_star, N_star)\n",
    "    BB_dust = BB(wave_cm, T_dust, N_dust)\n",
    "\n",
    "    # Converting into flux density:\n",
    "    sr = 1e-10\n",
    "    # steradiants to convert ergs/s/cm^2/Hz/sr -> ergs/s/cm^2/Hz\n",
    "    # (this is the same arbitrary value used when the spectra were generated)\n",
    "    cgs_to_Jy = 1e-23\n",
    "    # conversion factor for flux from ergs/s/cm^2/Hz -> Jansky\n",
    "\n",
    "    BB_star = BB_star * sr / cgs_to_Jy\n",
    "    BB_dust = BB_dust * sr / cgs_to_Jy\n",
    "\n",
    "    BB = tf.add(BB_star, BB_dust)\n",
    "\n",
    "    # Normalization:\n",
    "    BB_log10 = tf.experimental.numpy.log10(BB)\n",
    "    \n",
    "    return BB_log10"
   ]
  },
  {
   "cell_type": "markdown",
   "metadata": {},
   "source": [
    "<font size=3><u>**2 - Activation Function that assigns reasonable ranges to the parameters neurons**</u><font>\n",
    "\n",
    "By default, the 4 inputs that the Decoder receives are almost unbounded.\n",
    "    \n",
    "We want to **scale them** to resemble realistic T_star, N_star, T_dust, N_dust.\n",
    "    \n",
    "$\\rightarrow$ We can achieve this with a custom **Activation Function** at the exit of the Bottleneck.\n",
    "    \n",
    "<u>IMPORTANT:</u>\n",
    "    \n",
    "_We are <u>not</u> setting the values of the neurons, we are just ensure they are within the range we want._\n",
    "    \n",
    "_The neurons will still get arbitrary values within those ranges, during the training._"
   ]
  },
  {
   "cell_type": "code",
   "execution_count": 24,
   "metadata": {},
   "outputs": [],
   "source": [
    "from keras import backend as K\n",
    "\n",
    "def CustomActivationFunction(x) :\n",
    "    '''\n",
    "    Custom activation function for the last layer of the Encoder.\n",
    "    \n",
    "    This activation shall transform the input it received to values that\n",
    "    resemble plausible T_star, N_star, T_dust, and N_dust.\n",
    "\n",
    "    Parameters\n",
    "    ----------\n",
    "    x : tensor\n",
    "        A 4 neurons layer.\n",
    "    \n",
    "    Returns\n",
    "    -------\n",
    "    x_activated : tensor\n",
    "        A layer with 4 neurons, that have the meaning of T_star, N_star,\n",
    "        T_dust, and N_dust.\n",
    "    \n",
    "    '''\n",
    "    # https://stackoverflow.com/questions/44553722/restricting-the-output-values-of-layers-in-keras\n",
    "\n",
    "    # Grabbing layer's neuron values:\n",
    "    T_star = tf.gather(x, [0], axis=-1)\n",
    "    N_star = tf.gather(x, [1], axis=-1)\n",
    "    T_dust = tf.gather(x, [2], axis=-1)\n",
    "    N_dust = tf.gather(x, [3], axis=-1)\n",
    "\n",
    "    # Scaling around reasonable expected values: we want the neurons to be\n",
    "    #   able to range within physically plausible values for T_star, N_star,\n",
    "    #   T_dust, and N_dust .\n",
    "    #\n",
    "    # The input to this function can be any arbitrary set of 4 floats, so\n",
    "    #   we need to \"enforce\" the ranges.\n",
    "    # \n",
    "    #   - First, we use the K.sigmoid() function first to scales the values\n",
    "    #     between 0 and 1\n",
    "    #\n",
    "    #   - Second, we multiply by a reasonable expected value for T_star,\n",
    "    #     N_star, T_dust, and N_dust \n",
    "    #\n",
    "    #   - Third, we multiply by 2 (or 3) to extend the range to +/-100%\n",
    "    #     (+/-150%) around the expected value\n",
    "    #\n",
    "    #   - Finally, we add a small constant (epsilon) to avoid 0s, which would\n",
    "    #     cause numerical issues\n",
    "    #\n",
    "    #   In this way, we set the range that the network can explore for each\n",
    "    #     parameter.  Backpropagation will take care of pushing them towards\n",
    "    #     the correct values.\n",
    "    #\n",
    "    epsilon = 1e-7\n",
    "    T_star = 2*K.sigmoid(T_star)*6000  + epsilon\n",
    "    N_star = 3*K.sigmoid(N_star)*1e-6  + epsilon\n",
    "    T_dust = 2*K.sigmoid(T_dust)*500   + epsilon\n",
    "    N_dust = 2*K.sigmoid(N_dust)*1e0   + epsilon\n",
    "\n",
    "    x_activated = K.concatenate([T_star,N_star,T_dust,N_dust], axis=-1)\n",
    "\n",
    "    #tf.print('CustomAct: x_act', x_activated[0,:])\n",
    "    \n",
    "    return x_activated"
   ]
  },
  {
   "cell_type": "markdown",
   "metadata": {},
   "source": [
    "## Setting up the architecture"
   ]
  },
  {
   "cell_type": "code",
   "execution_count": 10,
   "metadata": {},
   "outputs": [
    {
     "name": "stderr",
     "output_type": "stream",
     "text": [
      "2022-07-09 17:09:35.317993: E tensorflow/stream_executor/cuda/cuda_driver.cc:271] failed call to cuInit: CUDA_ERROR_NO_DEVICE: no CUDA-capable device is detected\n",
      "2022-07-09 17:09:35.318039: I tensorflow/stream_executor/cuda/cuda_diagnostics.cc:156] kernel driver does not appear to be running on this host (mexicali): /proc/driver/nvidia/version does not exist\n",
      "2022-07-09 17:09:35.318708: I tensorflow/core/platform/cpu_feature_guard.cc:151] This TensorFlow binary is optimized with oneAPI Deep Neural Network Library (oneDNN) to use the following CPU instructions in performance-critical operations:  AVX2 FMA\n",
      "To enable them in other operations, rebuild TensorFlow with the appropriate compiler flags.\n"
     ]
    },
    {
     "name": "stdout",
     "output_type": "stream",
     "text": [
      "Model: \"sequential\"\n",
      "_________________________________________________________________\n",
      " Layer (type)                Output Shape              Param #   \n",
      "=================================================================\n",
      " dense (Dense)               (None, 100)               10100     \n",
      "                                                                 \n",
      " batch_normalization (BatchN  (None, 100)              400       \n",
      " ormalization)                                                   \n",
      "                                                                 \n",
      " activation (Activation)     (None, 100)               0         \n",
      "                                                                 \n",
      " dense_1 (Dense)             (None, 50)                5050      \n",
      "                                                                 \n",
      " batch_normalization_1 (Batc  (None, 50)               200       \n",
      " hNormalization)                                                 \n",
      "                                                                 \n",
      " activation_1 (Activation)   (None, 50)                0         \n",
      "                                                                 \n",
      " dense_2 (Dense)             (None, 25)                1275      \n",
      "                                                                 \n",
      " batch_normalization_2 (Batc  (None, 25)               100       \n",
      " hNormalization)                                                 \n",
      "                                                                 \n",
      " activation_2 (Activation)   (None, 25)                0         \n",
      "                                                                 \n",
      " dense_3 (Dense)             (None, 4)                 104       \n",
      "                                                                 \n",
      "=================================================================\n",
      "Total params: 17,229\n",
      "Trainable params: 16,879\n",
      "Non-trainable params: 350\n",
      "_________________________________________________________________\n",
      "None\n",
      "Model: \"sequential_1\"\n",
      "_________________________________________________________________\n",
      " Layer (type)                Output Shape              Param #   \n",
      "=================================================================\n",
      " lambda (Lambda)             (None, 100)               0         \n",
      "                                                                 \n",
      "=================================================================\n",
      "Total params: 0\n",
      "Trainable params: 0\n",
      "Non-trainable params: 0\n",
      "_________________________________________________________________\n",
      "None\n"
     ]
    }
   ],
   "source": [
    "# Autoencoder: \n",
    "#     https://stackabuse.com/autoencoders-for-image-reconstruction-in-python-and-keras/\n",
    "# Lambda layer:\n",
    "#     https://keras.io/api/layers/core_layers/lambda/\n",
    "\n",
    "# Batch normalization - theory:\n",
    "#    https://datascience.stackexchange.com/questions/53426/what-exactly-is-batchnormalization-in-keras\n",
    "# application:\n",
    "#    https://stackoverflow.com/questions/34716454/where-do-i-call-the-batchnormalization-function-in-keras\n",
    "\n",
    "from tensorflow.keras.layers import Dense, Input, InputLayer, Lambda, Activation\n",
    "from tensorflow.keras.models import Sequential, Model\n",
    "from tensorflow.keras import activations\n",
    "\n",
    "n_inputs = X.shape[1]\n",
    "n_latent = 4\n",
    "# number of neurons at the Bottleneck\n",
    "\n",
    "def build_autoencoder(n_inputs, n_latent):\n",
    "    # The encoder\n",
    "    encoder = Sequential()\n",
    "    encoder.add(InputLayer(n_inputs))\n",
    "    #\n",
    "    encoder.add(Dense(n_inputs))\n",
    "    encoder.add(BatchNormalization())\n",
    "    encoder.add(Activation('relu'))\n",
    "    encoder.add(Dense(n_inputs/2))\n",
    "    encoder.add(BatchNormalization())\n",
    "    encoder.add(Activation('relu'))\n",
    "    encoder.add(Dense(n_inputs/4))\n",
    "    encoder.add(BatchNormalization())\n",
    "    # Do not touch the following layers:\n",
    "    encoder.add(Activation('sigmoid'))\n",
    "    encoder.add(Dense(n_latent, activation=CustomActivationFunction))\n",
    "\n",
    "    # The decoder\n",
    "    decoder = Sequential()\n",
    "    decoder.add(InputLayer((n_latent,)))\n",
    "    #\n",
    "    decoder.add(Lambda(BuildSpectrum))\n",
    "\n",
    "    decoder.layers[-1].trainable = False\n",
    "    # not necessary, just here for redundancy\n",
    "    \n",
    "    return encoder, decoder\n",
    "\n",
    "encoder, decoder = build_autoencoder(n_inputs, n_latent)\n",
    "\n",
    "print(encoder.summary())\n",
    "print(decoder.summary())\n",
    "\n",
    "inp = Input(n_inputs)\n",
    "encoded = encoder(inp)\n",
    "reconstruction = decoder(encoded)\n",
    "\n",
    "model = Model(inp, reconstruction)\n",
    "\n",
    "# Compiling autoencoder model:\n",
    "#opt = SGD(learning_rate=0.01, momentum=0.9, clipvalue=0.5)\n",
    "opt = Adam(learning_rate=0.0001, beta_1=0.5, beta_2=0.5, epsilon=1e-07,\n",
    "            amsgrad=False, name='Adam')\n",
    "model.compile(optimizer=opt, run_eagerly=False, loss='mae')\n",
    "# NOTE: run_eagerly=True allows to convert tensors to numpys\n",
    "#       (useful for testing but less efficient)\n",
    "#K.set_value(model.optimizer.learning_rate, 0.0001)\n",
    "# default Keras learning rate = 0.001\n",
    "\n",
    "weights_init = model.get_weights()\n",
    "# saving initialization weights"
   ]
  },
  {
   "cell_type": "markdown",
   "metadata": {},
   "source": [
    "## Fitting"
   ]
  },
  {
   "cell_type": "code",
   "execution_count": 11,
   "metadata": {
    "scrolled": true
   },
   "outputs": [
    {
     "name": "stdout",
     "output_type": "stream",
     "text": [
      "Epoch 1/100\n",
      "50/50 - 2s - loss: 0.6476 - val_loss: 0.7866 - 2s/epoch - 41ms/step\n",
      "Epoch 2/100\n",
      "50/50 - 0s - loss: 0.5831 - val_loss: 0.7882 - 183ms/epoch - 4ms/step\n",
      "Epoch 3/100\n",
      "50/50 - 0s - loss: 0.5200 - val_loss: 0.7423 - 181ms/epoch - 4ms/step\n",
      "Epoch 4/100\n",
      "50/50 - 0s - loss: 0.4666 - val_loss: 0.6731 - 167ms/epoch - 3ms/step\n",
      "Epoch 5/100\n",
      "50/50 - 0s - loss: 0.4240 - val_loss: 0.6192 - 166ms/epoch - 3ms/step\n",
      "Epoch 6/100\n",
      "50/50 - 0s - loss: 0.3864 - val_loss: 0.6328 - 164ms/epoch - 3ms/step\n",
      "Epoch 7/100\n",
      "50/50 - 0s - loss: 0.3524 - val_loss: 0.6317 - 164ms/epoch - 3ms/step\n",
      "Epoch 8/100\n",
      "50/50 - 0s - loss: 0.3227 - val_loss: 0.6108 - 176ms/epoch - 4ms/step\n",
      "Epoch 9/100\n",
      "50/50 - 0s - loss: 0.2972 - val_loss: 0.5875 - 191ms/epoch - 4ms/step\n",
      "Epoch 10/100\n",
      "50/50 - 0s - loss: 0.2762 - val_loss: 0.5605 - 184ms/epoch - 4ms/step\n",
      "Epoch 11/100\n",
      "50/50 - 0s - loss: 0.2588 - val_loss: 0.5090 - 180ms/epoch - 4ms/step\n",
      "Epoch 12/100\n",
      "50/50 - 0s - loss: 0.2420 - val_loss: 0.4325 - 181ms/epoch - 4ms/step\n",
      "Epoch 13/100\n",
      "50/50 - 0s - loss: 0.2216 - val_loss: 0.3567 - 179ms/epoch - 4ms/step\n",
      "Epoch 14/100\n",
      "50/50 - 0s - loss: 0.1950 - val_loss: 0.2736 - 179ms/epoch - 4ms/step\n",
      "Epoch 15/100\n",
      "50/50 - 0s - loss: 0.1709 - val_loss: 0.2442 - 177ms/epoch - 4ms/step\n",
      "Epoch 16/100\n",
      "50/50 - 0s - loss: 0.1610 - val_loss: 0.2204 - 174ms/epoch - 3ms/step\n",
      "Epoch 17/100\n",
      "50/50 - 0s - loss: 0.1563 - val_loss: 0.2075 - 181ms/epoch - 4ms/step\n",
      "Epoch 18/100\n",
      "50/50 - 0s - loss: 0.1527 - val_loss: 0.1965 - 180ms/epoch - 4ms/step\n",
      "Epoch 19/100\n",
      "50/50 - 0s - loss: 0.1496 - val_loss: 0.1887 - 178ms/epoch - 4ms/step\n",
      "Epoch 20/100\n",
      "50/50 - 0s - loss: 0.1468 - val_loss: 0.1833 - 164ms/epoch - 3ms/step\n",
      "Epoch 21/100\n",
      "50/50 - 0s - loss: 0.1442 - val_loss: 0.1798 - 172ms/epoch - 3ms/step\n",
      "Epoch 22/100\n",
      "50/50 - 0s - loss: 0.1418 - val_loss: 0.1738 - 178ms/epoch - 4ms/step\n",
      "Epoch 23/100\n",
      "50/50 - 0s - loss: 0.1397 - val_loss: 0.1699 - 168ms/epoch - 3ms/step\n",
      "Epoch 24/100\n",
      "50/50 - 0s - loss: 0.1377 - val_loss: 0.1674 - 180ms/epoch - 4ms/step\n",
      "Epoch 25/100\n",
      "50/50 - 0s - loss: 0.1359 - val_loss: 0.1654 - 168ms/epoch - 3ms/step\n",
      "Epoch 26/100\n",
      "50/50 - 0s - loss: 0.1342 - val_loss: 0.1624 - 169ms/epoch - 3ms/step\n",
      "Epoch 27/100\n",
      "50/50 - 0s - loss: 0.1328 - val_loss: 0.1573 - 167ms/epoch - 3ms/step\n",
      "Epoch 28/100\n",
      "50/50 - 0s - loss: 0.1315 - val_loss: 0.1529 - 168ms/epoch - 3ms/step\n",
      "Epoch 29/100\n",
      "50/50 - 0s - loss: 0.1304 - val_loss: 0.1482 - 166ms/epoch - 3ms/step\n",
      "Epoch 30/100\n",
      "50/50 - 0s - loss: 0.1294 - val_loss: 0.1429 - 174ms/epoch - 3ms/step\n",
      "Epoch 31/100\n",
      "50/50 - 0s - loss: 0.1285 - val_loss: 0.1393 - 166ms/epoch - 3ms/step\n",
      "Epoch 32/100\n",
      "50/50 - 0s - loss: 0.1277 - val_loss: 0.1367 - 173ms/epoch - 3ms/step\n",
      "Epoch 33/100\n",
      "50/50 - 0s - loss: 0.1271 - val_loss: 0.1343 - 188ms/epoch - 4ms/step\n",
      "Epoch 34/100\n",
      "50/50 - 0s - loss: 0.1265 - val_loss: 0.1320 - 172ms/epoch - 3ms/step\n",
      "Epoch 35/100\n",
      "50/50 - 0s - loss: 0.1260 - val_loss: 0.1308 - 171ms/epoch - 3ms/step\n",
      "Epoch 36/100\n",
      "50/50 - 0s - loss: 0.1255 - val_loss: 0.1298 - 171ms/epoch - 3ms/step\n",
      "Epoch 37/100\n",
      "50/50 - 0s - loss: 0.1251 - val_loss: 0.1289 - 172ms/epoch - 3ms/step\n",
      "Epoch 38/100\n",
      "50/50 - 0s - loss: 0.1248 - val_loss: 0.1285 - 169ms/epoch - 3ms/step\n",
      "Epoch 39/100\n",
      "50/50 - 0s - loss: 0.1245 - val_loss: 0.1278 - 166ms/epoch - 3ms/step\n",
      "Epoch 40/100\n",
      "50/50 - 0s - loss: 0.1242 - val_loss: 0.1265 - 164ms/epoch - 3ms/step\n",
      "Epoch 41/100\n",
      "50/50 - 0s - loss: 0.1240 - val_loss: 0.1257 - 166ms/epoch - 3ms/step\n",
      "Epoch 42/100\n",
      "50/50 - 0s - loss: 0.1238 - val_loss: 0.1251 - 166ms/epoch - 3ms/step\n",
      "Epoch 43/100\n",
      "50/50 - 0s - loss: 0.1236 - val_loss: 0.1246 - 165ms/epoch - 3ms/step\n",
      "Epoch 44/100\n",
      "50/50 - 0s - loss: 0.1234 - val_loss: 0.1240 - 168ms/epoch - 3ms/step\n",
      "Epoch 45/100\n",
      "50/50 - 0s - loss: 0.1232 - val_loss: 0.1240 - 169ms/epoch - 3ms/step\n",
      "Epoch 46/100\n",
      "50/50 - 0s - loss: 0.1230 - val_loss: 0.1236 - 173ms/epoch - 3ms/step\n",
      "Epoch 47/100\n",
      "50/50 - 0s - loss: 0.1229 - val_loss: 0.1237 - 171ms/epoch - 3ms/step\n",
      "Epoch 48/100\n",
      "50/50 - 0s - loss: 0.1227 - val_loss: 0.1238 - 174ms/epoch - 3ms/step\n",
      "Epoch 49/100\n",
      "50/50 - 0s - loss: 0.1226 - val_loss: 0.1237 - 170ms/epoch - 3ms/step\n",
      "Epoch 50/100\n",
      "50/50 - 0s - loss: 0.1224 - val_loss: 0.1236 - 167ms/epoch - 3ms/step\n",
      "Epoch 51/100\n",
      "50/50 - 0s - loss: 0.1223 - val_loss: 0.1233 - 181ms/epoch - 4ms/step\n",
      "Epoch 52/100\n",
      "50/50 - 0s - loss: 0.1222 - val_loss: 0.1229 - 170ms/epoch - 3ms/step\n",
      "Epoch 53/100\n",
      "50/50 - 0s - loss: 0.1221 - val_loss: 0.1229 - 171ms/epoch - 3ms/step\n",
      "Epoch 54/100\n",
      "50/50 - 0s - loss: 0.1220 - val_loss: 0.1227 - 172ms/epoch - 3ms/step\n",
      "Epoch 55/100\n",
      "50/50 - 0s - loss: 0.1219 - val_loss: 0.1225 - 168ms/epoch - 3ms/step\n",
      "Epoch 56/100\n",
      "50/50 - 0s - loss: 0.1218 - val_loss: 0.1225 - 168ms/epoch - 3ms/step\n",
      "Epoch 57/100\n",
      "50/50 - 0s - loss: 0.1217 - val_loss: 0.1225 - 163ms/epoch - 3ms/step\n",
      "Epoch 58/100\n",
      "50/50 - 0s - loss: 0.1216 - val_loss: 0.1222 - 168ms/epoch - 3ms/step\n",
      "Epoch 59/100\n",
      "50/50 - 0s - loss: 0.1215 - val_loss: 0.1223 - 169ms/epoch - 3ms/step\n",
      "Epoch 60/100\n",
      "50/50 - 0s - loss: 0.1214 - val_loss: 0.1220 - 182ms/epoch - 4ms/step\n",
      "Epoch 61/100\n",
      "50/50 - 0s - loss: 0.1213 - val_loss: 0.1220 - 189ms/epoch - 4ms/step\n",
      "Epoch 62/100\n",
      "50/50 - 0s - loss: 0.1212 - val_loss: 0.1216 - 162ms/epoch - 3ms/step\n",
      "Epoch 63/100\n",
      "50/50 - 0s - loss: 0.1212 - val_loss: 0.1215 - 185ms/epoch - 4ms/step\n",
      "Epoch 64/100\n",
      "50/50 - 0s - loss: 0.1211 - val_loss: 0.1214 - 180ms/epoch - 4ms/step\n",
      "Epoch 65/100\n",
      "50/50 - 0s - loss: 0.1210 - val_loss: 0.1212 - 165ms/epoch - 3ms/step\n",
      "Epoch 66/100\n",
      "50/50 - 0s - loss: 0.1209 - val_loss: 0.1211 - 163ms/epoch - 3ms/step\n",
      "Epoch 67/100\n",
      "50/50 - 0s - loss: 0.1209 - val_loss: 0.1210 - 177ms/epoch - 4ms/step\n",
      "Epoch 68/100\n",
      "50/50 - 0s - loss: 0.1208 - val_loss: 0.1209 - 187ms/epoch - 4ms/step\n",
      "Epoch 69/100\n",
      "50/50 - 0s - loss: 0.1207 - val_loss: 0.1209 - 169ms/epoch - 3ms/step\n",
      "Epoch 70/100\n",
      "50/50 - 0s - loss: 0.1207 - val_loss: 0.1208 - 165ms/epoch - 3ms/step\n",
      "Epoch 71/100\n",
      "50/50 - 0s - loss: 0.1206 - val_loss: 0.1206 - 165ms/epoch - 3ms/step\n",
      "Epoch 72/100\n",
      "50/50 - 0s - loss: 0.1205 - val_loss: 0.1203 - 167ms/epoch - 3ms/step\n",
      "Epoch 73/100\n",
      "50/50 - 0s - loss: 0.1205 - val_loss: 0.1201 - 165ms/epoch - 3ms/step\n",
      "Epoch 74/100\n",
      "50/50 - 0s - loss: 0.1204 - val_loss: 0.1199 - 172ms/epoch - 3ms/step\n",
      "Epoch 75/100\n",
      "50/50 - 0s - loss: 0.1204 - val_loss: 0.1198 - 185ms/epoch - 4ms/step\n",
      "Epoch 76/100\n",
      "50/50 - 0s - loss: 0.1203 - val_loss: 0.1195 - 189ms/epoch - 4ms/step\n",
      "Epoch 77/100\n",
      "50/50 - 0s - loss: 0.1203 - val_loss: 0.1194 - 176ms/epoch - 4ms/step\n",
      "Epoch 78/100\n",
      "50/50 - 0s - loss: 0.1202 - val_loss: 0.1194 - 170ms/epoch - 3ms/step\n",
      "Epoch 79/100\n",
      "50/50 - 0s - loss: 0.1202 - val_loss: 0.1194 - 168ms/epoch - 3ms/step\n",
      "Epoch 80/100\n",
      "50/50 - 0s - loss: 0.1201 - val_loss: 0.1192 - 171ms/epoch - 3ms/step\n",
      "Epoch 81/100\n",
      "50/50 - 0s - loss: 0.1201 - val_loss: 0.1192 - 169ms/epoch - 3ms/step\n",
      "Epoch 82/100\n",
      "50/50 - 0s - loss: 0.1200 - val_loss: 0.1190 - 186ms/epoch - 4ms/step\n",
      "Epoch 83/100\n",
      "50/50 - 0s - loss: 0.1200 - val_loss: 0.1188 - 172ms/epoch - 3ms/step\n",
      "Epoch 84/100\n",
      "50/50 - 0s - loss: 0.1199 - val_loss: 0.1186 - 170ms/epoch - 3ms/step\n",
      "Epoch 85/100\n",
      "50/50 - 0s - loss: 0.1199 - val_loss: 0.1184 - 170ms/epoch - 3ms/step\n",
      "Epoch 86/100\n",
      "50/50 - 0s - loss: 0.1198 - val_loss: 0.1183 - 164ms/epoch - 3ms/step\n",
      "Epoch 87/100\n",
      "50/50 - 0s - loss: 0.1198 - val_loss: 0.1181 - 172ms/epoch - 3ms/step\n",
      "Epoch 88/100\n",
      "50/50 - 0s - loss: 0.1198 - val_loss: 0.1181 - 178ms/epoch - 4ms/step\n",
      "Epoch 89/100\n",
      "50/50 - 0s - loss: 0.1197 - val_loss: 0.1181 - 164ms/epoch - 3ms/step\n",
      "Epoch 90/100\n",
      "50/50 - 0s - loss: 0.1197 - val_loss: 0.1179 - 168ms/epoch - 3ms/step\n",
      "Epoch 91/100\n",
      "50/50 - 0s - loss: 0.1196 - val_loss: 0.1178 - 165ms/epoch - 3ms/step\n",
      "Epoch 92/100\n",
      "50/50 - 0s - loss: 0.1196 - val_loss: 0.1176 - 164ms/epoch - 3ms/step\n",
      "Epoch 93/100\n",
      "50/50 - 0s - loss: 0.1196 - val_loss: 0.1176 - 165ms/epoch - 3ms/step\n",
      "Epoch 94/100\n",
      "50/50 - 0s - loss: 0.1195 - val_loss: 0.1175 - 175ms/epoch - 3ms/step\n",
      "Epoch 95/100\n",
      "50/50 - 0s - loss: 0.1195 - val_loss: 0.1174 - 176ms/epoch - 4ms/step\n",
      "Epoch 96/100\n",
      "50/50 - 0s - loss: 0.1194 - val_loss: 0.1174 - 171ms/epoch - 3ms/step\n",
      "Epoch 97/100\n",
      "50/50 - 0s - loss: 0.1194 - val_loss: 0.1174 - 169ms/epoch - 3ms/step\n",
      "Epoch 98/100\n",
      "50/50 - 0s - loss: 0.1194 - val_loss: 0.1173 - 172ms/epoch - 3ms/step\n",
      "Epoch 99/100\n",
      "50/50 - 0s - loss: 0.1193 - val_loss: 0.1172 - 166ms/epoch - 3ms/step\n"
     ]
    },
    {
     "name": "stdout",
     "output_type": "stream",
     "text": [
      "Epoch 100/100\n",
      "50/50 - 0s - loss: 0.1193 - val_loss: 0.1172 - 172ms/epoch - 3ms/step\n"
     ]
    },
    {
     "data": {
      "image/png": "[encoded data removed]",
      "text/plain": [
       "<Figure size 432x288 with 1 Axes>"
      ]
     },
     "metadata": {
      "needs_background": "light"
     },
     "output_type": "display_data"
    },
    {
     "name": "stdout",
     "output_type": "stream",
     "text": [
      "CPU times: user 43.3 s, sys: 3.77 s, total: 47 s\n",
      "Wall time: 19.4 s\n"
     ]
    }
   ],
   "source": [
    "%%time\n",
    "model.set_weights(weights_init)\n",
    "# restoring initialized weights to have a fresh, identical fit very time model.fit() is run\n",
    "\n",
    "# fit the autoencoder model to reconstruct input\n",
    "history = model.fit(X_n_train, X_n_train, epochs=100, batch_size=128, verbose=2,\n",
    "                    validation_data=(X_n_valid,X_n_valid), shuffle=False)\n",
    "# plot loss\n",
    "plt.plot(history.history['loss'], label='train')\n",
    "plt.plot(history.history['val_loss'], label='valid')\n",
    "plt.legend()\n",
    "plt.show()"
   ]
  },
  {
   "cell_type": "markdown",
   "metadata": {},
   "source": [
    "# Assessment"
   ]
  },
  {
   "cell_type": "markdown",
   "metadata": {},
   "source": [
    "## Predicting"
   ]
  },
  {
   "cell_type": "code",
   "execution_count": 12,
   "metadata": {
    "scrolled": false
   },
   "outputs": [],
   "source": [
    "# Predict spectrum (full model):\n",
    "X_n_test_pred = model.predict(X_n_test)\n",
    "# Predict parameters (encoder only):\n",
    "y_test_pred = encoder.predict(X_n_test)"
   ]
  },
  {
   "cell_type": "markdown",
   "metadata": {},
   "source": [
    "## Comparing: reconstructed _vs_ true spectrum"
   ]
  },
  {
   "cell_type": "code",
   "execution_count": 21,
   "metadata": {
    "scrolled": false
   },
   "outputs": [
    {
     "data": {
      "image/png": "[encoded data removed]",
      "text/plain": [
       "<Figure size 864x576 with 4 Axes>"
      ]
     },
     "metadata": {
      "needs_background": "light"
     },
     "output_type": "display_data"
    }
   ],
   "source": [
    "# Plotting a few test examples:\n",
    "import random\n",
    "\n",
    "fig, axes = plt.subplots(2,2, figsize=(12,8))\n",
    "axes = axes.flatten()\n",
    "\n",
    "for i, ax in enumerate(axes):\n",
    "\n",
    "    j = random.randint(0, len(X_n_test))\n",
    "\n",
    "    ax.plot(wave_mu, X_n_test[j], label='original')\n",
    "    ax.plot(wave_mu, X_n_test_pred[j], label='reconstructed')\n",
    "    ax.set_xscale('log')\n",
    "    ax.legend()"
   ]
  },
  {
   "cell_type": "markdown",
   "metadata": {},
   "source": [
    "## Comparing: encoded _vs_ true parameters"
   ]
  },
  {
   "cell_type": "code",
   "execution_count": 14,
   "metadata": {},
   "outputs": [
    {
     "data": {
      "image/png": "[encoded data removed]",
      "text/plain": [
       "<Figure size 576x432 with 4 Axes>"
      ]
     },
     "metadata": {
      "needs_background": "light"
     },
     "output_type": "display_data"
    }
   ],
   "source": [
    "y_test = np.array([np.fromiter(params.values(), dtype=float) for params in Y_test])\n",
    "# converting dictionary to np.array\n",
    "\n",
    "y_params = list(Y_test[0].keys())\n",
    "# parameter names: the same for all spectra (using the first)\n",
    "\n",
    "fig, axes = plt.subplots(2,2, figsize=(8,6))\n",
    "axes = axes.flatten()\n",
    "\n",
    "for i, ax in enumerate(axes):\n",
    "# i = parameter index\n",
    "\n",
    "    if i+1 > len(y_params):\n",
    "    # to delete extra panels in case we plot more than 4 parameters\n",
    "        fig.delaxes(ax)\n",
    "\n",
    "    min_ax, max_ax = np.min(y_test[:,i]), np.max(y_test[:,i])\n",
    "    # 1-to-1 line:\n",
    "    xx = np.linspace(min_ax, max_ax, 100)\n",
    "    ax.plot(xx, xx, c=\"grey\", linestyle='--')\n",
    "\n",
    "    ax.scatter(y_test[:,i], y_test_pred[:,i])\n",
    "    ax.set_title(y_params[i])\n",
    "    ax.set_xlabel('true')\n",
    "    ax.set_ylabel('predicted by encoding')\n",
    "    ax.set_xlim([min_ax, max_ax])\n",
    "    #ax.set_ylim([min_ax, max_ax])\n",
    "\n",
    "    #ax.set_aspect('equal', 'box')\n",
    "\n",
    "fig.tight_layout()\n",
    "plt.show()"
   ]
  },
  {
   "cell_type": "code",
   "execution_count": null,
   "metadata": {},
   "outputs": [],
   "source": [
    "###EOF"
   ]
  }
 ],
 "metadata": {
  "kernelspec": {
   "display_name": "Python 3 (ipykernel)",
   "language": "python",
   "name": "python3"
  },
  "language_info": {
   "codemirror_mode": {
    "name": "ipython",
    "version": 3
   },
   "file_extension": ".py",
   "mimetype": "text/x-python",
   "name": "python",
   "nbconvert_exporter": "python",
   "pygments_lexer": "ipython3",
   "version": "3.8.10"
  },
  "toc": {
   "base_numbering": 1,
   "nav_menu": {},
   "number_sections": true,
   "sideBar": true,
   "skip_h1_title": false,
   "title_cell": "Table of Contents",
   "title_sidebar": "Contents",
   "toc_cell": false,
   "toc_position": {
    "height": "calc(100% - 180px)",
    "left": "10px",
    "top": "150px",
    "width": "320px"
   },
   "toc_section_display": true,
   "toc_window_display": true
  }
 },
 "nbformat": 4,
 "nbformat_minor": 2
}
