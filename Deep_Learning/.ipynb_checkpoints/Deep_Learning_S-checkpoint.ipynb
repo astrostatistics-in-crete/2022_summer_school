{
 "cells": [
  {
   "cell_type": "markdown",
   "id": "9a997432",
   "metadata": {},
   "source": [
    "<font size=6>**Deep Learning**</font>"
   ]
  },
  {
   "cell_type": "markdown",
   "id": "600208cb",
   "metadata": {},
   "source": [
    "**_Deep Learning_** is a type of Machine Learning which is characterized by being **deep**.\n",
    "\n",
    "Meaning, it uses **multiple layers** to process the input information (Figure 0).\n",
    "\n",
    "<table><tr>\n",
    "    <td width=640>\n",
    "        <img src=\"images/Simple_vs_Deep.png\">\n",
    "        <center>\n",
    "            <br>\n",
    "            Figure 0.  A simple <i>feedforward</i> Neural Network compared with a Deep <i>feedforward</i> Neural Network.<br>\n",
    "            (From <a href=\"https://thedatascientist.com/what-deep-learning-is-and-isnt/\">here</a>)\n",
    "        </center>\n",
    "    </td>\n",
    "</tr></table>\n",
    "\n",
    "The actual way the depth is designed can be very different. It could be achieved e.g. by **stacking** sequential layers (_feedforward neural networks_), via **recurrent** layers (_recurrent neural networks_), via a \"**mix**\" of these two approaches (_U-nets_), and many other ways.\n",
    "\n",
    "Don't worry: we will explain how to _computationally_ create neurons/layers [later](#Generic_Architecture_and_Neurons)."
   ]
  },
  {
   "cell_type": "markdown",
   "id": "8aa75696",
   "metadata": {},
   "source": [
    "# Why Deep Learning is cool"
   ]
  },
  {
   "cell_type": "markdown",
   "id": "33130fc8",
   "metadata": {},
   "source": [
    "It is not, we are geeks, and that's the truth.\n",
    "\n",
    "However ... we do live in the era of \"Big Data\":"
   ]
  },
  {
   "cell_type": "code",
   "execution_count": 1,
   "id": "c63e7633",
   "metadata": {},
   "outputs": [
    {
     "data": {
      "text/html": [
       "<div>\n",
       "<style scoped>\n",
       "    .dataframe tbody tr th:only-of-type {\n",
       "        vertical-align: middle;\n",
       "    }\n",
       "\n",
       "    .dataframe tbody tr th {\n",
       "        vertical-align: top;\n",
       "    }\n",
       "\n",
       "    .dataframe thead th {\n",
       "        text-align: right;\n",
       "    }\n",
       "</style>\n",
       "<table border=\"1\" class=\"dataframe\">\n",
       "  <thead>\n",
       "    <tr style=\"text-align: right;\">\n",
       "      <th></th>\n",
       "      <th>Sky Survey Project</th>\n",
       "      <th>First Light</th>\n",
       "      <th>Velocty (GB/day)</th>\n",
       "      <th>Volume (TB)</th>\n",
       "    </tr>\n",
       "  </thead>\n",
       "  <tbody>\n",
       "    <tr>\n",
       "      <th>0</th>\n",
       "      <td>2MASS</td>\n",
       "      <td>1997</td>\n",
       "      <td>20</td>\n",
       "      <td>25</td>\n",
       "    </tr>\n",
       "    <tr>\n",
       "      <th>1</th>\n",
       "      <td>Sloan Digital Sky Survey (SDSS)</td>\n",
       "      <td>2000</td>\n",
       "      <td>200</td>\n",
       "      <td>50</td>\n",
       "    </tr>\n",
       "    <tr>\n",
       "      <th>2</th>\n",
       "      <td>Large Synoptic Survey Telescope (LSST)</td>\n",
       "      <td>2023</td>\n",
       "      <td>30000</td>\n",
       "      <td>200000</td>\n",
       "    </tr>\n",
       "    <tr>\n",
       "      <th>3</th>\n",
       "      <td>Square Kilometer Array (SKA)</td>\n",
       "      <td>2027</td>\n",
       "      <td>150000</td>\n",
       "      <td>4600000</td>\n",
       "    </tr>\n",
       "  </tbody>\n",
       "</table>\n",
       "</div>"
      ],
      "text/plain": [
       "                       Sky Survey Project  First Light  Velocty (GB/day)  \\\n",
       "0                                   2MASS         1997                20   \n",
       "1         Sloan Digital Sky Survey (SDSS)         2000               200   \n",
       "2  Large Synoptic Survey Telescope (LSST)         2023             30000   \n",
       "3            Square Kilometer Array (SKA)         2027            150000   \n",
       "\n",
       "   Volume (TB)  \n",
       "0           25  \n",
       "1           50  \n",
       "2       200000  \n",
       "3      4600000  "
      ]
     },
     "metadata": {},
     "output_type": "display_data"
    }
   ],
   "source": [
    "import pandas as pd\n",
    "\n",
    "df_surveys = pd.DataFrame([\n",
    "    ['2MASS',                                  1997,    20, 25.4],\n",
    "    ['Sloan Digital Sky Survey (SDSS)',        2000,   200, 50],\n",
    "    ['Large Synoptic Survey Telescope (LSST)', 2023,  30e3, 200e3],\n",
    "    ['Square Kilometer Array (SKA)',           2027, 150e3, 4.6e6]\n",
    "], columns=['Sky Survey Project', 'First Light', 'Velocty (GB/day)', 'Volume (TB)']).reset_index(drop=True)\n",
    "\n",
    "df_surveys[df_surveys.columns[1:]] = df_surveys[df_surveys.columns[1:]].astype(int)\n",
    "\n",
    "display(df_surveys)"
   ]
  },
  {
   "cell_type": "code",
   "execution_count": 15,
   "id": "b5fab6e9",
   "metadata": {},
   "outputs": [
    {
     "data": {
      "text/html": [
       "\n",
       "<script>\n",
       "    require.config({\n",
       "        paths: {\n",
       "            'chartXkcd':'https://cdn.jsdelivr.net/npm/chart.xkcd@1.1/dist/chart.xkcd.min'\n",
       "        }\n",
       "    });\n",
       "</script>\n",
       "\n",
       "<div id=\"f4e64d2d83ac43939fac690bfc930d41\" class=\"chart-container\" style=\"width: 500px\">\n",
       "        <svg id=\"chart_f4e64d2d83ac43939fac690bfc930d41\"></svg>\n",
       "    </div>\n",
       "    <script>\n",
       "        require(['chartXkcd'], function(chartXkcd) {\n",
       "            const svg_f4e64d2d83ac43939fac690bfc930d41 = document.querySelector('#chart_f4e64d2d83ac43939fac690bfc930d41')\n",
       "            const chart_f4e64d2d83ac43939fac690bfc930d41 = new chartXkcd.Line(svg_f4e64d2d83ac43939fac690bfc930d41, {\"title\": \"Survey size evolution\", \"data\": {\"datasets\": [{\"label\": \"year\", \"data\": [25, 50, 200000, 4600000]}], \"labels\": [1997, 2000, 2023, 2027]}, \"xLabel\": \"Year\", \"yLabel\": \"Volume (TB)\", \"options\": {\"yTickCount\": 3, \"legendPosition\": 1}});\n",
       "        })\n",
       "    </script>\n"
      ],
      "text/plain": [
       "<cutecharts.render.engine.HTML at 0x7fa4162d7ca0>"
      ]
     },
     "execution_count": 15,
     "metadata": {},
     "output_type": "execute_result"
    }
   ],
   "source": [
    "import cutecharts.charts as ctc\n",
    "\n",
    "chart = ctc.Line(\"Survey size evolution\", width='500px')\n",
    "chart.set_options(labels=list(df_surveys['First Light']), x_label='Year', y_label='Volume (TB)')\n",
    "chart.add_series('year',list(df_surveys['Volume (TB)']))\n",
    "chart.render_notebook()"
   ]
  },
  {
   "cell_type": "markdown",
   "id": "0998d915",
   "metadata": {},
   "source": [
    "We cannot expect to humanly inspect these data and derive the intuition for the rules which categorize them.\n",
    "\n",
    "$\\rightarrow$ We have to leverage on:\n",
    "\n",
    "- the large number of examples\n",
    "\n",
    "- algorithms that can abstract arbitrarily complex rules"
   ]
  },
  {
   "cell_type": "markdown",
   "id": "d1c3fce5",
   "metadata": {},
   "source": [
    "## So how does Deep Learning address big data issues?"
   ]
  },
  {
   "cell_type": "markdown",
   "id": "07a64cf4",
   "metadata": {},
   "source": [
    "The basic idea is that each layer constructs **new features**.\n",
    "\n",
    "In practice, Deep Learning systems include implicit **feature engeneering** _on top_ of the classificaton/regression/clustering task.<br>\n",
    "\n",
    "In this way, they are a step forward with respect to \"classic\" ML approaches (Figure 1).\n",
    "\n",
    "<table><tr>\n",
    "    <td width=480>\n",
    "        <img src=\"images/Deep_Feature_Engeneering.png\">\n",
    "        <center>\n",
    "            <br>\n",
    "            Figure 1.  AAA.<br>\n",
    "            (From <a href=\"https://stats.stackexchange.com/questions/562466/neural-networks-automatically-do-feature-engineering-how/\">here</a>)\n",
    "        </center>\n",
    "    </td>\n",
    "</tr></table>\n",
    "\n",
    "From this perspective, the connections between the network neurons represent potential correlations betweeen features.\n",
    "\n",
    "<u>What are the implications?</u>\n",
    "\n",
    "The scientist **does _not_ have to get detailed insight of the problem** to build the proper features or select the proper classifier<br>\n",
    "$\\rightarrow$ the DL system does it all for us!\n",
    "\n",
    "This comes particularly handy when we deal with databases with **millions of objects** and **hundreds of features**!"
   ]
  },
  {
   "cell_type": "markdown",
   "id": "c50180f1",
   "metadata": {},
   "source": [
    "## Some example applications\n",
    "\n",
    "- GANs\n",
    "- RNNs\n",
    "\n",
    "- evolution of DL papers/year"
   ]
  },
  {
   "cell_type": "markdown",
   "id": "887e0eee",
   "metadata": {},
   "source": [
    "## DL and big Data in Astronomy\n",
    "\n",
    "- example of tough problem to solve without DL"
   ]
  },
  {
   "cell_type": "markdown",
   "id": "b6a7d962",
   "metadata": {},
   "source": [
    "# Neural Networks Components"
   ]
  },
  {
   "cell_type": "markdown",
   "id": "6a2dc4ce",
   "metadata": {},
   "source": [
    "## Generic Architecture and Neurons\n",
    "<a id='Generic_Architecture_and_Neurons'></a>"
   ]
  },
  {
   "cell_type": "markdown",
   "id": "be236ffd",
   "metadata": {},
   "source": [
    "## Weights and Biases"
   ]
  },
  {
   "cell_type": "markdown",
   "id": "350c8414",
   "metadata": {},
   "source": [
    "## Activation Functions"
   ]
  },
  {
   "cell_type": "markdown",
   "id": "a272b24a",
   "metadata": {},
   "source": [
    "## NN Architecture Variants"
   ]
  },
  {
   "cell_type": "markdown",
   "id": "8f0e2840",
   "metadata": {},
   "source": [
    "# Training NNs"
   ]
  },
  {
   "cell_type": "markdown",
   "id": "602cd828",
   "metadata": {},
   "source": [
    "## Gradient Descent and Loss"
   ]
  },
  {
   "cell_type": "markdown",
   "id": "7db3abb3",
   "metadata": {},
   "source": [
    "## Backpropagation\n",
    "\n",
    "- and optimization algos"
   ]
  },
  {
   "cell_type": "markdown",
   "id": "7313cfe8",
   "metadata": {},
   "source": [
    "## Validation curves\n",
    "\n",
    "- overfitting/underfitting"
   ]
  },
  {
   "cell_type": "markdown",
   "id": "0fdf7988",
   "metadata": {},
   "source": [
    "# Supervised Learning"
   ]
  },
  {
   "cell_type": "markdown",
   "id": "e5ebb1e6",
   "metadata": {},
   "source": [
    "## CNNs\n",
    "\n",
    "- architecture\n",
    "\n",
    "- conv layers\n",
    "\n",
    "- activation \n",
    "\n",
    "- pooling\n",
    "\n",
    "- fully connected layers\n",
    "\n",
    "- Dropout\n",
    "\n",
    "- BatchNorm"
   ]
  },
  {
   "cell_type": "markdown",
   "id": "93c17360",
   "metadata": {},
   "source": [
    "## Transfer Learning"
   ]
  },
  {
   "cell_type": "markdown",
   "id": "66dccd32",
   "metadata": {},
   "source": [
    "# Domain Adaptation"
   ]
  },
  {
   "cell_type": "markdown",
   "id": "0be2c41e",
   "metadata": {},
   "source": [
    "## GANs\n",
    "\n",
    "- For deconvolution: Schawinski, Kevin, et al. 2017"
   ]
  },
  {
   "cell_type": "markdown",
   "id": "71caff4b",
   "metadata": {},
   "source": [
    "# Libraries"
   ]
  },
  {
   "cell_type": "markdown",
   "id": "1429156d",
   "metadata": {},
   "source": [
    "\n",
    "## TensorFlow"
   ]
  },
  {
   "cell_type": "markdown",
   "id": "bd4e6ec6",
   "metadata": {},
   "source": [
    "## Keras\n",
    "\n",
    "- Sequential API\n",
    "\n",
    "- Functional API"
   ]
  }
 ],
 "metadata": {
  "kernelspec": {
   "display_name": "Python 3 (ipykernel)",
   "language": "python",
   "name": "python3"
  },
  "language_info": {
   "codemirror_mode": {
    "name": "ipython",
    "version": 3
   },
   "file_extension": ".py",
   "mimetype": "text/x-python",
   "name": "python",
   "nbconvert_exporter": "python",
   "pygments_lexer": "ipython3",
   "version": "3.8.10"
  },
  "toc": {
   "base_numbering": 1,
   "nav_menu": {},
   "number_sections": true,
   "sideBar": true,
   "skip_h1_title": false,
   "title_cell": "Table of Contents",
   "title_sidebar": "Contents",
   "toc_cell": false,
   "toc_position": {
    "height": "calc(100% - 180px)",
    "left": "10px",
    "top": "150px",
    "width": "319.594px"
   },
   "toc_section_display": true,
   "toc_window_display": true
  }
 },
 "nbformat": 4,
 "nbformat_minor": 5
}
