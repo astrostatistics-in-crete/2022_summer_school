{
 "cells": [
  {
   "cell_type": "markdown",
   "metadata": {},
   "source": [
    "# Kepler objects of interest\n",
    "\n",
    "For this workshop, we will be using the methods we previously learned to identify periodicity (either exoplanets or eclipsing binaries) in lightcurves from the Kepler space telescope. Kepler stared at the same patch of the sky for years, observing the same stars with a regular cadence of 30 minutes (a subset were observed with a faster cadence). Every few weeks, Kepler would rotate to Earth to beam back down the data it collected. Then it would return to the same field to repeat its observations. \n",
    "\n",
    "The long light curves therefore show gaps in the data. To use Fourier methods with these data, one would need to fill in the gaps with padded data. Fortunately, we are only looking at a small subset of the data, so no large gaps should be present. "
   ]
  },
  {
   "cell_type": "code",
   "execution_count": null,
   "metadata": {},
   "outputs": [],
   "source": [
    "# First, let's load our necessary notebooks.\n",
    "import numpy as np\n",
    "import matplotlib.pyplot as plt\n",
    "\n",
    "# The Kepler data is stored as fits files. We will use astropy.io.fits to deal with these data\n",
    "from astropy.io import fits\n",
    "\n",
    "%matplotlib inline"
   ]
  },
  {
   "cell_type": "markdown",
   "metadata": {},
   "source": [
    "### Load up a light curve from Kepler"
   ]
  },
  {
   "cell_type": "code",
   "execution_count": null,
   "metadata": {},
   "outputs": [],
   "source": [
    "# This command loads all the data into a list. We will select the first object, KIC6891512\n",
    "hdulist = fits.open(\"data/kplr006891512-2009166044711_slc.fits\")"
   ]
  },
  {
   "cell_type": "code",
   "execution_count": null,
   "metadata": {},
   "outputs": [],
   "source": [
    "# There are other useful data in hdulist, but here we are principally focused on the lightcurve data only. \n",
    "# These are found in index \"1\" of hdulist\n",
    "\n",
    "# We will not be using the header, but in case you need it, this is how it is stored\n",
    "header = hdulist[1].header\n",
    "\n",
    "# For easy access, we will create a variable called \"data\" that points to the Kepler lightcurve data\n",
    "data = hdulist[1].data"
   ]
  },
  {
   "cell_type": "code",
   "execution_count": null,
   "metadata": {},
   "outputs": [],
   "source": [
    "# Let's look at what information is contained in \"data\"\n",
    "print(data.dtype.names)"
   ]
  },
  {
   "cell_type": "markdown",
   "metadata": {},
   "source": [
    "### Plot the lightcurve"
   ]
  },
  {
   "cell_type": "code",
   "execution_count": null,
   "metadata": {},
   "outputs": [],
   "source": [
    "plt.plot(data['Time'], data['SAP_FLUX'])\n",
    "\n",
    "plt.xlabel('Time (days)')\n",
    "plt.ylabel('Flux')\n",
    "\n",
    "plt.show()"
   ]
  },
  {
   "cell_type": "markdown",
   "metadata": {},
   "source": [
    "## Your task: find the periodicity in the above light curve\n",
    "\n",
    "Look at the light curve above. The eclipses are __glaring__!! The flux deficit is too large to be a planet; this is an eclipsing binary. What is the orbital period of this binary? Use either or both of the tools you learned in the previous session to find the periodicity.\n",
    "\n",
    "Since Kepler data (as great as it may be) is imperfect, we will need to first remove any NaN's from the data. There are several ways of doing this. I have provided some code to replace any NaN values with the average flux of the system. This will introduce some noise to the data, which is acceptable for the sake of this exercise.\n",
    "\n",
    "After this code block, use your code to generate a periodogram or power spectrum and find the orbital period of the system."
   ]
  },
  {
   "cell_type": "code",
   "execution_count": null,
   "metadata": {},
   "outputs": [],
   "source": [
    "idx_nan = np.where(np.isnan(data['SAP_FLUX']))[0]\n",
    "idx_not_nan = np.where(~np.isnan(data['SAP_FLUX']))[0]\n",
    "\n",
    "flux_average = np.average(data['SAP_FLUX'][idx_not_nan])\n",
    "\n",
    "data['SAP_FLUX'][idx_nan] = flux_average"
   ]
  },
  {
   "cell_type": "markdown",
   "metadata": {},
   "source": [
    "### Periodogram\n",
    "\n",
    "Copy code from the Time_Series_S notebook to create a periodogram of the light curve data below."
   ]
  },
  {
   "cell_type": "code",
   "execution_count": null,
   "metadata": {},
   "outputs": [],
   "source": [
    "from scipy.signal import lombscargle\n",
    "\n",
    "freq_max = 25\n",
    "N_freq_test = 2000\n",
    "\n",
    "# do not change these...\n",
    "frequencies = np.linspace(0.1, freq_max, N_freq_test)\n",
    "angular_frequencies = 2 * np.pi * frequencies\n",
    "\n",
    "\n",
    "\n",
    "\n",
    "# create the periodograms\n",
    "periodogram = lombscargle(data['TIME'], data['SAP_FLUX'], angular_frequencies, normalize=True)\n",
    "\n",
    "# Plot the periodogram\n",
    "plt.plot(frequencies, periodogram, color=\"k\")\n",
    "\n",
    "\n",
    "# Make the plot pretty\n",
    "plt.xlabel('Frequency')\n",
    "plt.ylabel('Power')\n",
    "\n",
    "\n",
    "plt.xlim(0, 4)\n",
    "plt.ylim(1.0e-10, 1.0e-2)\n",
    "\n",
    "\n",
    "# Plot the correct frequency\n",
    "plt.axvline(2.0/3.505, color='r', linestyle='dashed')\n",
    "\n",
    "\n",
    "plt.tight_layout()\n",
    "plt.show()"
   ]
  },
  {
   "cell_type": "markdown",
   "metadata": {},
   "source": [
    "### Fourier Transform\n",
    "\n",
    "Copy code from the Time_Series_S notebook to run a discrete Fourier transform of the light curve data below."
   ]
  },
  {
   "cell_type": "code",
   "execution_count": null,
   "metadata": {},
   "outputs": [],
   "source": [
    "# This gives us the fourier transform - it is a power for every frequency\n",
    "DFT = np.fft.fft(data['SAP_FLUX'])\n",
    "\n",
    "# This gives us the frequencies associated with each fourier transform power\n",
    "sample_spacing = data['Time'][1]-data['Time'][0]\n",
    "# obs_length = np.max(data['Time']) - np.min(data['Time'])\n",
    "\n",
    "\n",
    "freq = np.fft.fftfreq(data['SAP_FLUX'].size, sample_spacing)\n",
    "\n",
    "\n",
    "\n",
    "# Plot the fourier transform power as a function of the frequency\n",
    "half = len(data['SAP_FLUX']) // 2\n",
    "plt.plot(freq[:half], np.abs(DFT[:half])**2, color='k')\n",
    "\n",
    "plt.xlim(0.1, 5.0)\n",
    "# plt.xlim(1, 100)\n",
    "plt.ylim(1.0e12, 4.0e17)\n",
    "plt.yscale('log')\n",
    "\n",
    "# plt.axvline(1.0/2.205, color='r', linestyle='dashed')\n",
    "plt.axvline(1.0/3.505, color='r', linestyle='dashed')\n",
    "\n",
    "\n",
    "plt.xlabel('Frequency')\n",
    "plt.ylabel('Power')\n",
    "\n",
    "plt.show()"
   ]
  },
  {
   "cell_type": "markdown",
   "metadata": {},
   "source": [
    "For some light curves, the Fourier transforms and periodograms produce multiple peaks at different frequencies. How do we tell which one is the correct peak? We can check by folding the lightcurves over the different possible periods. Use the function coded below to check possible periodicities."
   ]
  },
  {
   "cell_type": "code",
   "execution_count": null,
   "metadata": {},
   "outputs": [],
   "source": [
    "def plot_folded_light_curve(time, flux, period):\n",
    "    \"\"\" Function to fold, then plot a light curve over a specific period\n",
    "    \n",
    "    Parameters\n",
    "    ----------\n",
    "    time : float\n",
    "        Time data\n",
    "    flux : float\n",
    "        Flux data\n",
    "    period : float\n",
    "        Period to fold a lightcurve\n",
    "        \n",
    "    Returns\n",
    "    -------\n",
    "    Plot a folded light curve\n",
    "    \n",
    "    \"\"\"\n",
    "    \n",
    "    # Create a time-like axis, but folded over the period\n",
    "    time_folded = np.copy(time)\n",
    "    time_folded = time_folded - np.min(time)\n",
    "    time_folded = time_folded % period\n",
    "    orbital_phase = time_folded/period\n",
    "        \n",
    "    # Plot the data with the orbital phase on the x-axis\n",
    "    plt.scatter(orbital_phase, flux, marker='.', rasterized=True)\n",
    "    \n",
    "    # Make the plot pretty\n",
    "    plt.xlabel('Orbital Phase')\n",
    "    plt.ylabel('Flux')\n",
    "    \n",
    "    plt.show()"
   ]
  },
  {
   "cell_type": "code",
   "execution_count": null,
   "metadata": {},
   "outputs": [],
   "source": [
    "# Plot the folded light curve\n",
    "test_period = 3.505/1.0\n",
    "\n",
    "plot_folded_light_curve(data['TIME'], data['SAP_FLUX'], test_period)"
   ]
  },
  {
   "cell_type": "markdown",
   "metadata": {},
   "source": [
    "### Discuss with your partner\n",
    "\n",
    "If you go back to the Fourier transform and periodogram and replace the line `plt.axvline(1.0/3.505, color='r', linestyle='dashed')` with `plt.axvline(2.0/3.505, color='r', linestyle='dashed')`, you will find the line now matches with the best-fit peak; the best fit frequency is two times the correct binary period. Why do we get the wrong period???"
   ]
  },
  {
   "cell_type": "markdown",
   "metadata": {},
   "source": [
    "## Other Kepler objects of interest\n",
    "\n",
    "With your partner, load up other Kepler objects of interest and see if you can identify other periodic or non-periodic signals."
   ]
  },
  {
   "cell_type": "code",
   "execution_count": null,
   "metadata": {},
   "outputs": [],
   "source": []
  }
 ],
 "metadata": {
  "kernelspec": {
   "display_name": "Python 3",
   "language": "python",
   "name": "python3"
  },
  "language_info": {
   "codemirror_mode": {
    "name": "ipython",
    "version": 3
   },
   "file_extension": ".py",
   "mimetype": "text/x-python",
   "name": "python",
   "nbconvert_exporter": "python",
   "pygments_lexer": "ipython3",
   "version": "3.7.3"
  }
 },
 "nbformat": 4,
 "nbformat_minor": 2
}
