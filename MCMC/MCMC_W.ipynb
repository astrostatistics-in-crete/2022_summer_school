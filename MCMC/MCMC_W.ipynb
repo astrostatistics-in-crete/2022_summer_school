{
 "cells": [
  {
   "cell_type": "markdown",
   "metadata": {},
   "source": [
    "# Markov Chain Monte Carlo workshop\n",
    "\n",
    "# Exercise 1: fitting an absorption line in a stellar spectrum with MCMC\n",
    "\n",
    "We downloaded the spectrum of an O/B transition star from the *SDSS Spectral Cross-correlation Templates*:\n",
    "\n",
    "http://www.sdss2.org/dr3/algorithms/spectemplates/index.html.\n",
    "\n",
    "The following cells import the necessary packages and plot the data."
   ]
  },
  {
   "cell_type": "code",
   "execution_count": null,
   "metadata": {
    "scrolled": false
   },
   "outputs": [],
   "source": [
    "import numpy as np\n",
    "from astropy.io import fits\n",
    "import matplotlib.pyplot as plt\n",
    "import scipy.stats as st\n",
    "import emcee\n",
    "import corner\n",
    "\n",
    "%matplotlib notebook\n",
    "\n",
    "# load the y-axis data\n",
    "spectrum_flux = fits.open(\"data/spDR2-001.fit\")[0].data[0]\n",
    "\n",
    "# get the x-axis scale\n",
    "coeff0, coeff1 = 3.5815, 0.0001  # logarithm of wavelength (in angstrom) and log(A/pix)\n",
    "wavelengths = 10.0 ** (coeff0 + coeff1 * np.arange(len(spectrum_flux)))\n",
    "\n",
    "plt.figure()\n",
    "plt.plot(wavelengths, spectrum_flux)\n",
    "plt.xlabel(\"Wavelength ($\\mathrm{\\AA}$)\")\n",
    "plt.ylabel(\"Flux density ($\\mathrm{erg\\ s^{-1}\\ cm^{-2}\\ \\AA^{-1}}$)\")\n",
    "plt.show()"
   ]
  },
  {
   "cell_type": "markdown",
   "metadata": {},
   "source": [
    "## Cutting a window around the HeI absorption line\n",
    "\n",
    "We zoom in a region around the wavelength of an absorption line corresponding to HeI.\n",
    "\n",
    "*Use the `draw_model_parameters` to toggle on/off the model parameter visual aids...*"
   ]
  },
  {
   "cell_type": "code",
   "execution_count": null,
   "metadata": {},
   "outputs": [],
   "source": [
    "draw_model_parameters = True\n",
    "\n",
    "# cut the window of interest...\n",
    "He_min = 5840\n",
    "He_max = 5910\n",
    "window = (wavelengths > He_min) & (wavelengths < He_max)\n",
    "x = wavelengths[window]\n",
    "y = spectrum_flux[window]\n",
    "\n",
    "# ...plot\n",
    "plt.figure()\n",
    "plt.plot(x, y, \"ko:\")\n",
    "if draw_model_parameters:    \n",
    "    x1, x2, y1, y2 = plt.axis()\n",
    "    plt.arrow(5840, y1, 0, 135 - y1, color=\"r\", head_width=1.0)\n",
    "    plt.arrow(5910, y1, 0, 130 - y1, color=\"b\", head_width=1.0)\n",
    "    plt.arrow(5873, 110, 0, 131 - 110, color=\"g\", head_width=1.0)\n",
    "    plt.arrow(5873, 131, 0, 110 - 131, color=\"g\", head_width=1.0)\n",
    "    plt.arrow(5873, 133, 3, 0, color=\"m\", linewidth=2)\n",
    "    plt.text(5839, 136, \"L\", color=\"r\", fontsize=14, ha=\"right\")\n",
    "    plt.text(5910, 131, \"R\", color=\"b\", fontsize=14, ha=\"left\")\n",
    "    plt.text(5873, 120, \"A\", color=\"g\", fontsize=14, ha=\"left\")\n",
    "    plt.text(5873, 133, \"w\", color=\"m\", fontsize=14, va=\"bottom\")\n",
    "    plt.text(5873, 104, \"$x_0$\", color=\"r\", fontsize=16)\n",
    "plt.xlabel(\"Wavelength ($\\mathrm{\\AA}$)\")\n",
    "plt.ylabel(\"Flux density ($\\mathrm{erg\\ s^{-1}\\ cm^{-2}\\ \\AA^{-1}}$)\")\n",
    "plt.show()"
   ]
  },
  {
   "cell_type": "markdown",
   "metadata": {},
   "source": [
    "##### Model for the underlying shape\n",
    "\n",
    "$$\\huge y_m(x) = \\underbrace{ax + b}_\\textrm{continuum} + A\n",
    "  \\underbrace {e^{-\\frac{\\left(x - x_0\\right)^2}{2 w^2}}}_\\textrm{absorption}$$\n",
    "\n",
    "where the slope is computed from $L$ and $R$ and the $x$-axis positions they refer to: the minimum and maximum of $x_i$ respectively:\n",
    "\n",
    "$$ \\large a = \\frac{R - L}{\\max\\left\\{x_i\\right\\} - \\min\\left\\{x_i\\right\\}}$$\n",
    "\n",
    "Similarly, the intercept is given by:\n",
    "\n",
    "$$ \\large b = L - a \\min\\left\\{x_i\\right\\} $$\n",
    "\n",
    "##### Model for the observational data $(x_i, y_i)$\n",
    "\n",
    "$$ \\large y_i \\sim \\mathcal{N}\\left(y_m(x_j), \\sigma\\right)$$\n",
    "\n",
    "denoting that the data are normally distributed around the model with an **unknown** standard deviation $\\sigma$."
   ]
  },
  {
   "cell_type": "markdown",
   "metadata": {},
   "source": [
    "## Part A: set the prior, likelihood and posterior functions"
   ]
  },
  {
   "cell_type": "code",
   "execution_count": null,
   "metadata": {},
   "outputs": [],
   "source": [
    "# set the names of the parameters (useful for reporting stuff...)\n",
    "param_names = [\"L\", \"R\", \"A\", \"x0\", \"w\"]\n",
    "\n",
    "xmin, xmax = min(x), max(x)    # used to convert L and R values to intercept and slope\n",
    "\n",
    "# set minimum and maximum bounds for the parameters\n",
    "min_L, max_L = \n",
    "min_R, max_R = \n",
    "min_A, max_A = \n",
    "min_x0, max_x0 = \n",
    "min_w, max_w = \n",
    "\n",
    "def model(theta, x):\n",
    "    L, R, A, x0, w = theta\n",
    "    a = (R - L) / (xmax - xmin)\n",
    "    b = L - a * xmin\n",
    "    return b + a * x + A * np.exp(-(x - x0) ** 2.0 / (2.0 * w ** 2.0))    # Gaussian\n",
    "\n",
    "def log_prior(theta):\n",
    "    L, R, A, x0, w = theta\n",
    "    if min_L < L < max_L and min_R < R < max_R and min_A < A < max_A and min_x0 < x0 < max_x0 and min_w < w < max_w:\n",
    "        return 0.0\n",
    "    return -np.inf\n",
    "    \n",
    "def log_likelihood(theta, x, y):\n",
    "    return -np.sum((y - model(theta, x)) ** 2.0)\n",
    "\n",
    "def log_posterior(theta, x, y):\n",
    "    return log_prior(theta) + log_likelihood(theta, x, y)"
   ]
  },
  {
   "cell_type": "markdown",
   "metadata": {},
   "source": [
    "## Part B: set the MCMC\n",
    "\n",
    "Feel free to change the number of walkers and steps if you see poor convergence in the following parts of the exercise."
   ]
  },
  {
   "cell_type": "code",
   "execution_count": null,
   "metadata": {},
   "outputs": [],
   "source": [
    "n_walkers = 30\n",
    "n_dim = 5\n",
    "n_steps = 1000\n",
    "\n",
    "# random initial positions for walkers\n",
    "L_initial = np.random.uniform(min_L, max_L, size=n_walkers)\n",
    "R_initial = np.random.uniform(min_R, max_R, size=n_walkers)\n",
    "A_initial = np.random.uniform(min_A, max_A, size=n_walkers)\n",
    "x0_initial = np.random.uniform(min_x0, max_x0, size=n_walkers)\n",
    "w_initial = np.random.uniform(min_w, max_w, size=n_walkers)\n",
    "\n",
    "# code them in a matrix\n",
    "p_initial = np.array([L_initial, R_initial, A_initial, x0_initial, w_initial]).T"
   ]
  },
  {
   "cell_type": "markdown",
   "metadata": {},
   "source": [
    "## Part C: run the MCMC"
   ]
  },
  {
   "cell_type": "code",
   "execution_count": null,
   "metadata": {},
   "outputs": [],
   "source": [
    "sampler = emcee.EnsembleSampler(nwalkers=n_walkers, ndim=n_dim, log_prob_fn=log_posterior, args=(x, y))\n",
    "result = sampler.run_mcmc(p_initial, nsteps=n_steps)"
   ]
  },
  {
   "cell_type": "markdown",
   "metadata": {},
   "source": [
    "## Pard D: looking at the chains"
   ]
  },
  {
   "cell_type": "code",
   "execution_count": null,
   "metadata": {
    "scrolled": false
   },
   "outputs": [],
   "source": [
    "plt.figure()\n",
    "# for each parameter...\n",
    "for i in range(n_dim):\n",
    "    param_name = param_names[i]\n",
    "    plt.subplot(n_dim, 1, i + 1)\n",
    "    # ...plot all chains\n",
    "    for j in range(n_walkers):\n",
    "        chain = sampler.chain[j, :, i]\n",
    "        plt.plot(chain, \"k-\", alpha=0.1)\n",
    "    plt.ylabel(param_name)\n",
    "plt.tight_layout()\n",
    "plt.show()"
   ]
  },
  {
   "cell_type": "markdown",
   "metadata": {},
   "source": [
    "## Part E: burn in phase and corner plot\n",
    "\n",
    "Select the number of steps of the burn in phse.\n",
    "\n",
    "If the corner plot is too *noisy* use the `percentage_to_plot` to tell `corner` to avoid outliers. $1.0$ means it plots everything while $0.95$ means it will throw away $2.5\\%$ of the lowest and higher values."
   ]
  },
  {
   "cell_type": "code",
   "execution_count": null,
   "metadata": {},
   "outputs": [],
   "source": [
    "n_burnin = \n",
    "\n",
    "percentage_to_plot = 1.0\n",
    "\n",
    "converged_chain = sampler.chain[:, n_burnin:, :]\n",
    "flat_converged_chain = converged_chain.reshape(converged_chain.shape[0] * converged_chain.shape[1], -1)\n",
    "\n",
    "fig = corner.corner(flat_converged_chain,\n",
    "                    quantiles=[0.16, 0.5, 0.84], \n",
    "                    labels=param_names, \n",
    "                    show_titles=True,\n",
    "                    range=[percentage_to_plot] * n_dim)\n",
    "\n",
    "#fig.set_size_inches((10, 8))"
   ]
  },
  {
   "cell_type": "markdown",
   "metadata": {},
   "source": [
    "## Part F: Best fit value of the parameters\n",
    "\n",
    "Use the distribution of the parameters to estimate the *best fit values*. What is your statistic of choice?"
   ]
  },
  {
   "cell_type": "code",
   "execution_count": null,
   "metadata": {},
   "outputs": [],
   "source": [
    "optimal_parameters = []\n",
    "\n",
    "for dim in range(n_dim):\n",
    "    converged_values = sampler.chain[:, n_burnin:, dim].flatten()\n",
    "    optimal_value = np.median(converged_values)\n",
    "    print(\"{} = {:.6g}\".format(param_names[dim], optimal_value))\n",
    "    optimal_parameters.append(np.median(converged_values))"
   ]
  },
  {
   "cell_type": "markdown",
   "metadata": {},
   "source": [
    "## Part G: use the best fit values to plot the fitted model along with the data"
   ]
  },
  {
   "cell_type": "code",
   "execution_count": null,
   "metadata": {
    "scrolled": false
   },
   "outputs": [],
   "source": [
    "plt.figure()\n",
    "\n",
    "# plot the data and the fit\n",
    "plt.subplot(211)\n",
    "plt.plot(x, y, \"k.\")\n",
    "x_model = np.linspace(xmin, xmax, 100)\n",
    "y_model = model(optimal_parameters, x_model)\n",
    "plt.plot(x_model, y_model, \"r-\")\n",
    "\n",
    "# plot the residuals\n",
    "plt.subplot(212)\n",
    "residuals = y - model(optimal_parameters, x)\n",
    "plt.stem(x, residuals, use_line_collection=True)\n",
    "plt.tight_layout()\n",
    "plt.show()"
   ]
  },
  {
   "cell_type": "markdown",
   "metadata": {},
   "source": [
    "## Question 1\n",
    "\n",
    "What is the statistic we should use for the best fit parameter value? The mean value, the median, the mode?\n",
    "\n",
    "## Question 2\n",
    "\n",
    "Is the contiuum modelled correctly with a line? Could we do better?"
   ]
  },
  {
   "cell_type": "markdown",
   "metadata": {},
   "source": [
    "## Part F\n",
    "\n",
    "The SDSS site reports that the redshift of this star is $z = -0.0003$. Can you confirm this?\n",
    "\n",
    "* the rest frame wavelength of the He I line is $5875.624\\ \\rm \\mathring A$.\n",
    "* the redshift is computed using the formula:\n",
    "\n",
    "$$ 1 + z = \\frac{\\lambda_{\\rm obs}}{\\lambda_{\\rm rest}} $$"
   ]
  },
  {
   "cell_type": "code",
   "execution_count": null,
   "metadata": {},
   "outputs": [],
   "source": [
    "He_obs = \n",
    "He_true = 5875.624\n",
    "\n",
    "z = \n",
    "print(\"Redshift: {:.3g}\".format(z))"
   ]
  },
  {
   "cell_type": "markdown",
   "metadata": {},
   "source": [
    "## Question 3\n",
    "\n",
    "The estimate of the redshift from the He line is not very good. Can you think of way to use the whole spectrum?"
   ]
  },
  {
   "cell_type": "markdown",
   "metadata": {},
   "source": [
    "# Exercise 2: using a Lorentzian profile\n",
    "\n",
    "Use the Lorentizan function to model the shape of the absorption line. Remember:\n",
    "\n",
    "$$ \\Large f(x) \\propto \\frac{1}{1 + \\left(\\frac{x - x_0}{\\gamma}\\right)^2} $$\n",
    "\n",
    "Do the results change significantly?"
   ]
  },
  {
   "cell_type": "markdown",
   "metadata": {},
   "source": [
    "# Exercise 3: *strict* priors...\n",
    "\n",
    "The ranges you selected for the parameters might be too narrow or too wide. \n",
    "\n",
    "For example, really narrow is... to allow `x0` vary only around the expected position of the absorption line.\n",
    "\n",
    "On the other hand, really wide is... to use $(-\\infty, +\\infty)$!\n",
    "\n",
    "## Question 1: Try to change the parameter ranges to 1000 times larger!\n",
    "\n",
    "Does the MCMC converge?\n",
    "\n",
    "## Question 2: Use the original ranges, but not allow $A$ to exceed -30.\n",
    "\n",
    "Since the fitted value for above, $-30$, how does this constraint translate to our results?"
   ]
  },
  {
   "cell_type": "markdown",
   "metadata": {},
   "source": [
    "# Extra credit exercise: fit another absorption/emission feature\n",
    "\n",
    "Use the original data to find another absorption (or even emission) line feature. Then select a window around it. Can you fit it by following all the steps of the 1st exercise? What is the redshift?"
   ]
  },
  {
   "cell_type": "markdown",
   "metadata": {},
   "source": [
    "# Extra extra credit exercise: directly fitting for $a$ and $b$\n",
    "\n",
    "## Question: Can you repeat the fitting using, instead of $L$ and $R$, the slope ($a$) and intercept ($b$) for the continuum?"
   ]
  },
  {
   "cell_type": "code",
   "execution_count": null,
   "metadata": {},
   "outputs": [],
   "source": [
    "# set the names of the parameters (useful for reporting stuff...)\n",
    "param_names = [\"a\", \"b\", \"c\", \"A\", \"x0\", \"w\"]\n",
    "\n",
    "xmin, xmax = min(x), max(x)    # used to convert L and R values to intercept and slope\n",
    "\n",
    "# set minimum and maximum bounds for the parameters\n",
    "min_a, max_a = -1000, 1000\n",
    "min_b, max_b = -1000, 1000\n",
    "min_c, max_c = -1000, 1000\n",
    "min_A, max_A = -100.0, 0.0\n",
    "min_x0, max_x0 = 5860, 5890\n",
    "min_w, max_w = 0.0, 10.0\n",
    "\n",
    "def model(theta, x):\n",
    "    a, b, c, A, x0, w = theta\n",
    "    return a * x**2.0 + b * x + c + A * np.exp(-(x - x0) ** 2.0 / (2.0 * w ** 2.0))    # Gaussian\n",
    "\n",
    "def log_prior(theta):\n",
    "    a, b, c, A, x0, w = theta\n",
    "    if min_a < a < max_a and min_b < b < max_b and min_c < c < max_c and min_A < A < max_A and min_x0 < x0 < max_x0 and min_w < w < max_w:\n",
    "        return 0.0\n",
    "    return -np.inf\n",
    "    \n",
    "def log_likelihood(theta, x, y):\n",
    "    return -np.sum((y - model(theta, x)) ** 2.0)\n",
    "\n",
    "def log_posterior(theta, x, y):\n",
    "    return log_prior(theta) + log_likelihood(theta, x, y)\n",
    "\n",
    "\n",
    "n_walkers = 30\n",
    "n_dim = 6\n",
    "n_steps = 1000\n",
    "\n",
    "# random initial positions for walkers\n",
    "a_initial = np.random.uniform(min_a, max_a, size=n_walkers)\n",
    "b_initial = np.random.uniform(min_b, max_b, size=n_walkers)\n",
    "c_initial = np.random.uniform(min_c, max_c, size=n_walkers)\n",
    "\n",
    "A_initial = np.random.uniform(min_A, max_A, size=n_walkers)\n",
    "x0_initial = np.random.uniform(min_x0, max_x0, size=n_walkers)\n",
    "w_initial = np.random.uniform(min_w, max_w, size=n_walkers)\n",
    "\n",
    "# code them in a matrix\n",
    "p_initial = np.array([a_initial, b_initial, c_initial, A_initial, x0_initial, w_initial]).T"
   ]
  },
  {
   "cell_type": "code",
   "execution_count": null,
   "metadata": {},
   "outputs": [],
   "source": [
    "sampler = emcee.EnsembleSampler(nwalkers=n_walkers, ndim=n_dim, log_prob_fn=log_posterior, args=(x, y))\n",
    "result = sampler.run_mcmc(p_initial, nsteps=n_steps)"
   ]
  },
  {
   "cell_type": "code",
   "execution_count": null,
   "metadata": {},
   "outputs": [],
   "source": [
    "plt.figure()\n",
    "# for each parameter...\n",
    "for i in range(n_dim):\n",
    "    param_name = param_names[i]\n",
    "    plt.subplot(n_dim, 1, i + 1)\n",
    "    # ...plot all chains\n",
    "    for j in range(n_walkers):\n",
    "        chain = sampler.chain[j, :, i]\n",
    "        plt.plot(chain, \"k-\", alpha=0.1)\n",
    "    plt.ylabel(param_name)\n",
    "plt.tight_layout()\n",
    "plt.show()"
   ]
  },
  {
   "cell_type": "code",
   "execution_count": null,
   "metadata": {
    "scrolled": false
   },
   "outputs": [],
   "source": [
    "n_burnin = \n",
    "\n",
    "percentage_to_plot = 1.0\n",
    "\n",
    "converged_chain = sampler.chain[:, n_burnin:, :]\n",
    "flat_converged_chain = converged_chain.reshape(converged_chain.shape[0] * converged_chain.shape[1], -1)\n",
    "\n",
    "fig = corner.corner(flat_converged_chain,\n",
    "                    quantiles=[0.16, 0.5, 0.84], \n",
    "                    labels=param_names, \n",
    "                    show_titles=True,\n",
    "                    range=[percentage_to_plot] * n_dim)\n",
    "\n",
    "#fig.set_size_inches((10, 8))"
   ]
  },
  {
   "cell_type": "code",
   "execution_count": null,
   "metadata": {},
   "outputs": [],
   "source": [
    "optimal_parameters = []\n",
    "\n",
    "for dim in range(n_dim):\n",
    "    converged_values = sampler.chain[:, n_burnin:, dim].flatten()\n",
    "    optimal_value = np.median(converged_values)\n",
    "    print(\"{} = {:.6g}\".format(param_names[dim], optimal_value))\n",
    "    optimal_parameters.append(np.median(converged_values))\n",
    "    \n",
    "    \n",
    "plt.figure()\n",
    "\n",
    "# plot the data and the fit\n",
    "plt.subplot(211)\n",
    "plt.plot(x, y, \"k.\")\n",
    "x_model = np.linspace(xmin, xmax, 100)\n",
    "y_model = model(optimal_parameters, x_model)\n",
    "plt.plot(x_model, y_model, \"r-\")\n",
    "\n",
    "# plot the residuals\n",
    "plt.subplot(212)\n",
    "residuals = y - model(optimal_parameters, x)\n",
    "plt.stem(x, residuals, use_line_collection=True)\n",
    "plt.tight_layout()\n",
    "plt.show()"
   ]
  },
  {
   "cell_type": "markdown",
   "metadata": {},
   "source": [
    "## Question 2: what is the problem above?\n",
    "\n",
    "## Question 3: how can we solve this issue?"
   ]
  }
 ],
 "metadata": {
  "kernelspec": {
   "display_name": "Python 3",
   "language": "python",
   "name": "python3"
  },
  "language_info": {
   "codemirror_mode": {
    "name": "ipython",
    "version": 3
   },
   "file_extension": ".py",
   "mimetype": "text/x-python",
   "name": "python",
   "nbconvert_exporter": "python",
   "pygments_lexer": "ipython3",
   "version": "3.7.9"
  }
 },
 "nbformat": 4,
 "nbformat_minor": 2
}
